{
  "cells": [
    {
      "cell_type": "markdown",
      "metadata": {
        "id": "view-in-github",
        "colab_type": "text"
      },
      "source": [
        "<a href=\"https://colab.research.google.com/github/Camgamez/AlgorithmsUN2024II/blob/main/Lab3/CamiloGamez_Lab3.ipynb\" target=\"_parent\"><img src=\"https://colab.research.google.com/assets/colab-badge.svg\" alt=\"Open In Colab\"/></a>"
      ]
    },
    {
      "cell_type": "code",
      "execution_count": 1,
      "metadata": {
        "id": "im-VVd1__7VU",
        "colab": {
          "base_uri": "https://localhost:8080/"
        },
        "outputId": "5b3af482-d30b-4525-b0c0-6dd75739e9df"
      },
      "outputs": [
        {
          "output_type": "stream",
          "name": "stdout",
          "text": [
            "processor\t: 0\n",
            "vendor_id\t: GenuineIntel\n",
            "cpu family\t: 6\n",
            "model\t\t: 79\n",
            "model name\t: Intel(R) Xeon(R) CPU @ 2.20GHz\n",
            "stepping\t: 0\n",
            "microcode\t: 0xffffffff\n",
            "cpu MHz\t\t: 2199.998\n",
            "cache size\t: 56320 KB\n",
            "physical id\t: 0\n",
            "siblings\t: 2\n",
            "core id\t\t: 0\n",
            "cpu cores\t: 1\n",
            "apicid\t\t: 0\n",
            "initial apicid\t: 0\n",
            "fpu\t\t: yes\n",
            "fpu_exception\t: yes\n",
            "cpuid level\t: 13\n",
            "wp\t\t: yes\n",
            "flags\t\t: fpu vme de pse tsc msr pae mce cx8 apic sep mtrr pge mca cmov pat pse36 clflush mmx fxsr sse sse2 ss ht syscall nx pdpe1gb rdtscp lm constant_tsc rep_good nopl xtopology nonstop_tsc cpuid tsc_known_freq pni pclmulqdq ssse3 fma cx16 pcid sse4_1 sse4_2 x2apic movbe popcnt aes xsave avx f16c rdrand hypervisor lahf_lm abm 3dnowprefetch invpcid_single ssbd ibrs ibpb stibp fsgsbase tsc_adjust bmi1 hle avx2 smep bmi2 erms invpcid rtm rdseed adx smap xsaveopt arat md_clear arch_capabilities\n",
            "bugs\t\t: cpu_meltdown spectre_v1 spectre_v2 spec_store_bypass l1tf mds swapgs taa mmio_stale_data retbleed bhi\n",
            "bogomips\t: 4399.99\n",
            "clflush size\t: 64\n",
            "cache_alignment\t: 64\n",
            "address sizes\t: 46 bits physical, 48 bits virtual\n",
            "power management:\n",
            "\n",
            "processor\t: 1\n",
            "vendor_id\t: GenuineIntel\n",
            "cpu family\t: 6\n",
            "model\t\t: 79\n",
            "model name\t: Intel(R) Xeon(R) CPU @ 2.20GHz\n",
            "stepping\t: 0\n",
            "microcode\t: 0xffffffff\n",
            "cpu MHz\t\t: 2199.998\n",
            "cache size\t: 56320 KB\n",
            "physical id\t: 0\n",
            "siblings\t: 2\n",
            "core id\t\t: 0\n",
            "cpu cores\t: 1\n",
            "apicid\t\t: 1\n",
            "initial apicid\t: 1\n",
            "fpu\t\t: yes\n",
            "fpu_exception\t: yes\n",
            "cpuid level\t: 13\n",
            "wp\t\t: yes\n",
            "flags\t\t: fpu vme de pse tsc msr pae mce cx8 apic sep mtrr pge mca cmov pat pse36 clflush mmx fxsr sse sse2 ss ht syscall nx pdpe1gb rdtscp lm constant_tsc rep_good nopl xtopology nonstop_tsc cpuid tsc_known_freq pni pclmulqdq ssse3 fma cx16 pcid sse4_1 sse4_2 x2apic movbe popcnt aes xsave avx f16c rdrand hypervisor lahf_lm abm 3dnowprefetch invpcid_single ssbd ibrs ibpb stibp fsgsbase tsc_adjust bmi1 hle avx2 smep bmi2 erms invpcid rtm rdseed adx smap xsaveopt arat md_clear arch_capabilities\n",
            "bugs\t\t: cpu_meltdown spectre_v1 spectre_v2 spec_store_bypass l1tf mds swapgs taa mmio_stale_data retbleed bhi\n",
            "bogomips\t: 4399.99\n",
            "clflush size\t: 64\n",
            "cache_alignment\t: 64\n",
            "address sizes\t: 46 bits physical, 48 bits virtual\n",
            "power management:\n",
            "\n"
          ]
        }
      ],
      "source": [
        "!cat /proc/cpuinfo"
      ]
    },
    {
      "cell_type": "markdown",
      "metadata": {
        "id": "N1ok_-56OjB1"
      },
      "source": [
        "# I Solving the Sum of Two Digits Programming Challenge"
      ]
    },
    {
      "cell_type": "markdown",
      "metadata": {
        "id": "MMY7kmDSO0KM"
      },
      "source": [
        "## C++"
      ]
    },
    {
      "cell_type": "code",
      "execution_count": 2,
      "metadata": {
        "colab": {
          "base_uri": "https://localhost:8080/"
        },
        "id": "2pGGf9BkPNIk",
        "outputId": "98a937c8-6992-4c3c-b73e-40eb0656b458"
      },
      "outputs": [
        {
          "output_type": "stream",
          "name": "stdout",
          "text": [
            "Writing APlusB.cpp\n"
          ]
        }
      ],
      "source": [
        "%%writefile APlusB.cpp\n",
        "#include <iostream>\n",
        "\n",
        "int sum_of_two_digits(int first_digit, int second_digit) {\n",
        "    return first_digit + second_digit;\n",
        "}\n",
        "\n",
        "int main() {\n",
        "    int a = 0;\n",
        "    int b = 0;\n",
        "    std::cin >> a;\n",
        "    std::cin >> b;\n",
        "    std::cout << sum_of_two_digits(a, b);\n",
        "    return 0;\n",
        "}"
      ]
    },
    {
      "cell_type": "code",
      "execution_count": 3,
      "metadata": {
        "colab": {
          "base_uri": "https://localhost:8080/"
        },
        "id": "0G3ZKOYAPXSU",
        "outputId": "26d37229-1881-4673-df5b-d96d831fbec4"
      },
      "outputs": [
        {
          "output_type": "stream",
          "name": "stdout",
          "text": [
            "5 9\n",
            "14"
          ]
        }
      ],
      "source": [
        "!g++ APlusB.cpp -o APlusB -std=c++11\n",
        "!./APlusB"
      ]
    },
    {
      "cell_type": "markdown",
      "metadata": {
        "id": "iNkG2HqfTl9c"
      },
      "source": [
        "### Test input output files"
      ]
    },
    {
      "cell_type": "code",
      "execution_count": 4,
      "metadata": {
        "colab": {
          "base_uri": "https://localhost:8080/"
        },
        "id": "aTzU2efzMxly",
        "outputId": "3a516bcb-47b6-41d9-acac-17f612c8f06b"
      },
      "outputs": [
        {
          "output_type": "stream",
          "name": "stdout",
          "text": [
            "Writing input1.txt\n"
          ]
        }
      ],
      "source": [
        "%%writefile input1.txt\n",
        "4 8"
      ]
    },
    {
      "cell_type": "code",
      "execution_count": 5,
      "metadata": {
        "colab": {
          "base_uri": "https://localhost:8080/"
        },
        "id": "zBJ0Gc0NQRet",
        "outputId": "c58e9ae5-eda8-4bed-eac1-0f749f68005a"
      },
      "outputs": [
        {
          "output_type": "stream",
          "name": "stdout",
          "text": [
            "Writing output1.txt\n"
          ]
        }
      ],
      "source": [
        "%%writefile output1.txt\n",
        "12"
      ]
    },
    {
      "cell_type": "code",
      "execution_count": 6,
      "metadata": {
        "colab": {
          "base_uri": "https://localhost:8080/"
        },
        "id": "IjEcIx63PJAN",
        "outputId": "833dec98-7aa2-4822-bd6d-a9c0c2715b4b"
      },
      "outputs": [
        {
          "output_type": "stream",
          "name": "stdout",
          "text": [
            "Writing input2.txt\n"
          ]
        }
      ],
      "source": [
        "%%writefile input2.txt\n",
        "0 9"
      ]
    },
    {
      "cell_type": "code",
      "execution_count": 7,
      "metadata": {
        "colab": {
          "base_uri": "https://localhost:8080/"
        },
        "id": "Up9gOrxURTmd",
        "outputId": "3509d159-4162-4c56-a104-09eb1c904c7a"
      },
      "outputs": [
        {
          "output_type": "stream",
          "name": "stdout",
          "text": [
            "Writing output2.txt\n"
          ]
        }
      ],
      "source": [
        "%%writefile output2.txt\n",
        "9"
      ]
    },
    {
      "cell_type": "code",
      "execution_count": 8,
      "metadata": {
        "colab": {
          "base_uri": "https://localhost:8080/"
        },
        "id": "PST6G-s-Pwgc",
        "outputId": "2b444cbb-8cb3-421e-a1fa-df2d02cf28e9"
      },
      "outputs": [
        {
          "output_type": "stream",
          "name": "stdout",
          "text": [
            "12"
          ]
        }
      ],
      "source": [
        "!./APlusB < input1.txt"
      ]
    },
    {
      "cell_type": "code",
      "execution_count": 9,
      "metadata": {
        "colab": {
          "base_uri": "https://localhost:8080/"
        },
        "id": "cKxZOjSlRfIN",
        "outputId": "82623e1d-6426-4dd1-83fc-98a0c1965dfa"
      },
      "outputs": [
        {
          "output_type": "stream",
          "name": "stdout",
          "text": [
            "9"
          ]
        }
      ],
      "source": [
        "!./APlusB < input2.txt"
      ]
    },
    {
      "cell_type": "markdown",
      "metadata": {
        "id": "Qw2TQWCCUwqk"
      },
      "source": [
        "### Comparing files with grep\n",
        "\n",
        "https://askubuntu.com/questions/546796/comparing-two-text-files"
      ]
    },
    {
      "cell_type": "code",
      "execution_count": 10,
      "metadata": {
        "id": "Jlja0Xm4TX9M"
      },
      "outputs": [],
      "source": [
        "!./APlusB < input1.txt> ctest1.txt\n",
        "!grep -xvFf output1.txt ctest1.txt"
      ]
    },
    {
      "cell_type": "code",
      "execution_count": 11,
      "metadata": {
        "id": "g9OIUZA_QLCQ"
      },
      "outputs": [],
      "source": [
        "!./APlusB < input2.txt > ctest2.txt\n",
        "!grep -xvFf output2.txt ctest2.txt"
      ]
    },
    {
      "cell_type": "markdown",
      "metadata": {
        "id": "3BgOaDjUVJk6"
      },
      "source": [
        "## Python"
      ]
    },
    {
      "cell_type": "code",
      "execution_count": 12,
      "metadata": {
        "colab": {
          "base_uri": "https://localhost:8080/"
        },
        "id": "DBvl-T0CTN_8",
        "outputId": "6a0280ce-86ad-47ec-c2e4-83d7b182069b"
      },
      "outputs": [
        {
          "output_type": "stream",
          "name": "stdout",
          "text": [
            "Writing sum.py\n"
          ]
        }
      ],
      "source": [
        "%%writefile sum.py\n",
        "# python3\n",
        "\n",
        "def sum_of_two_digits(first_digit, second_digit):\n",
        "    return first_digit + second_digit\n",
        "\n",
        "if __name__ == '__main__':\n",
        "    a, b = map(int, input().split())\n",
        "    print(sum_of_two_digits(a, b))"
      ]
    },
    {
      "cell_type": "code",
      "execution_count": 13,
      "metadata": {
        "colab": {
          "base_uri": "https://localhost:8080/"
        },
        "id": "QKoKM11_WGyF",
        "outputId": "42eb8ceb-c2d0-4d61-ab5b-d42e7097e8bd"
      },
      "outputs": [
        {
          "output_type": "stream",
          "name": "stdout",
          "text": [
            "5 9\n",
            "14\n"
          ]
        }
      ],
      "source": [
        "!python sum.py"
      ]
    },
    {
      "cell_type": "code",
      "execution_count": 14,
      "metadata": {
        "id": "cocFbPRTWrqt"
      },
      "outputs": [],
      "source": [
        "!python sum.py  < input1.txt> ptest1.txt\n",
        "!grep -xvFf output1.txt ptest1.txt"
      ]
    },
    {
      "cell_type": "code",
      "execution_count": 15,
      "metadata": {
        "id": "MorKTa-XXASN"
      },
      "outputs": [],
      "source": [
        "!python sum.py  < input2.txt> ptest2.txt\n",
        "!grep -xvFf output2.txt ptest2.txt"
      ]
    },
    {
      "cell_type": "markdown",
      "metadata": {
        "id": "uvP-mOubW_5F"
      },
      "source": [
        "# II Solving The Maximum Pairwise Product Programming Challenge in C++"
      ]
    },
    {
      "cell_type": "markdown",
      "metadata": {
        "id": "C12yoFR6Xonl"
      },
      "source": [
        "## C++\n",
        "\n",
        "$$ T(n) < 6 n^2 = O(n^2)$$"
      ]
    },
    {
      "cell_type": "code",
      "source": [
        "%%writefile max_pairwise_product_full.cpp\n",
        "#include <iostream>\n",
        "#include <vector>\n",
        "#include <algorithm>\n",
        "\n",
        "int MaxPairwiseProduct(const std::vector<int>& numbers) {\n",
        "    int max_product = 0;\n",
        "    int aux_product = 0;\n",
        "    int n = numbers.size();\n",
        "\n",
        "    for (int first = 0; first < n; ++first) {\n",
        "        for (int second = 0; second < n; ++second) {\n",
        "          if ( first != second ){\n",
        "                aux_product = numbers[first] * numbers[second];\n",
        "                if (aux_product > max_product)  max_product = aux_product;\n",
        "          }\n",
        "        }\n",
        "    }\n",
        "\n",
        "    return max_product;\n",
        "}\n",
        "\n",
        "int main() {\n",
        "    int n;\n",
        "    std::cin >> n;\n",
        "    std::vector<int> numbers(n);\n",
        "    for (int i = 0; i < n; ++i) {\n",
        "        std::cin >> numbers[i];\n",
        "    }\n",
        "\n",
        "    std::cout << MaxPairwiseProduct(numbers) << \"\\n\";\n",
        "    return 0;\n",
        "}"
      ],
      "metadata": {
        "colab": {
          "base_uri": "https://localhost:8080/"
        },
        "id": "3LpfoGv2Ae81",
        "outputId": "a26b1ef9-3d31-4aab-ed9c-c14f4a5c0eb3"
      },
      "execution_count": 16,
      "outputs": [
        {
          "output_type": "stream",
          "name": "stdout",
          "text": [
            "Writing max_pairwise_product_full.cpp\n"
          ]
        }
      ]
    },
    {
      "cell_type": "markdown",
      "metadata": {
        "id": "m75IQQPbEHBS"
      },
      "source": [
        "#### Time Complexity\n",
        "$$\\left. \\begin{array}{llc}\n",
        " \\text{INSTRUCTION} & \\text{TYPE}& \\text{# EXECUTIONS}\\\\\n",
        "\\text{first != second} &  \\text{comparisons} &n^2 \\\\\n",
        "\\text{numbers[first] * numbers[second]}& \\ \\text{ products}  &n^2 - n \\\\\n",
        "\\text{max_product = aux_product} &  \\text{assigments} & [1, \\frac{n^2 - n}{2})  \n",
        "\\end{array}\\right\\}  =  O(n^2)$$"
      ]
    },
    {
      "cell_type": "code",
      "source": [
        "!g++ max_pairwise_product_full.cpp -o max_pairwise_product_full\n",
        "!./max_pairwise_product_full"
      ],
      "metadata": {
        "id": "PCVo1h6nCF9k",
        "colab": {
          "base_uri": "https://localhost:8080/"
        },
        "outputId": "51a2b450-8e18-4514-d941-17786ae9474b"
      },
      "execution_count": 17,
      "outputs": [
        {
          "output_type": "stream",
          "name": "stdout",
          "text": [
            "5 14\n",
            "9 5 4 8 9 5\n",
            "126\n"
          ]
        }
      ]
    },
    {
      "cell_type": "markdown",
      "metadata": {
        "id": "e7KhxHGNS3i0"
      },
      "source": [
        "### Test 1: Small numbers"
      ]
    },
    {
      "cell_type": "code",
      "source": [
        "%%writefile input0.txt\n",
        "10\n",
        "0 0 0 0 0 0 0 0 0 0"
      ],
      "metadata": {
        "colab": {
          "base_uri": "https://localhost:8080/"
        },
        "id": "17npyXt7lYzA",
        "outputId": "19c7b35d-9199-4a68-c304-e9b60bf3c44a"
      },
      "execution_count": 18,
      "outputs": [
        {
          "output_type": "stream",
          "name": "stdout",
          "text": [
            "Writing input0.txt\n"
          ]
        }
      ]
    },
    {
      "cell_type": "code",
      "source": [
        "%%writefile output0.txt\n",
        "0"
      ],
      "metadata": {
        "colab": {
          "base_uri": "https://localhost:8080/"
        },
        "id": "NooGEkJylezm",
        "outputId": "4a040b52-e5a6-41e1-deee-3e44f5d45c09"
      },
      "execution_count": 19,
      "outputs": [
        {
          "output_type": "stream",
          "name": "stdout",
          "text": [
            "Writing output0.txt\n"
          ]
        }
      ]
    },
    {
      "cell_type": "code",
      "source": [
        "!./max_pairwise_product_full< input0.txt > ctest0.txt\n",
        "!grep -xvFf output0.txt ctest0.txt"
      ],
      "metadata": {
        "id": "R0yFaAOrlqrE"
      },
      "execution_count": 20,
      "outputs": []
    },
    {
      "cell_type": "code",
      "execution_count": 21,
      "metadata": {
        "colab": {
          "base_uri": "https://localhost:8080/"
        },
        "id": "e1mmTzBgShT-",
        "outputId": "3d8b94d2-7933-43bd-9369-3f3399f1db2c"
      },
      "outputs": [
        {
          "output_type": "stream",
          "name": "stdout",
          "text": [
            "Overwriting input1.txt\n"
          ]
        }
      ],
      "source": [
        "%%writefile input1.txt\n",
        "10\n",
        "1 2 3 4 5 6 7 8 9 10"
      ]
    },
    {
      "cell_type": "code",
      "execution_count": 22,
      "metadata": {
        "colab": {
          "base_uri": "https://localhost:8080/"
        },
        "id": "vy_uI0x7TCId",
        "outputId": "07dfdddb-29c2-44e4-b717-f6accd97c730"
      },
      "outputs": [
        {
          "output_type": "stream",
          "name": "stdout",
          "text": [
            "/bin/bash: line 1: ./max_pairwise_product: No such file or directory\n"
          ]
        }
      ],
      "source": [
        "!./max_pairwise_product < input1.txt"
      ]
    },
    {
      "cell_type": "code",
      "execution_count": 23,
      "metadata": {
        "colab": {
          "base_uri": "https://localhost:8080/"
        },
        "id": "xaj6f9bxC6D6",
        "outputId": "ed6a3c86-4c61-474b-c2d1-3b3a8605b755"
      },
      "outputs": [
        {
          "output_type": "stream",
          "name": "stdout",
          "text": [
            "Overwriting output1.txt\n"
          ]
        }
      ],
      "source": [
        "%%writefile output1.txt\n",
        "90"
      ]
    },
    {
      "cell_type": "code",
      "execution_count": 24,
      "metadata": {
        "id": "fYCjAdA_C-wy"
      },
      "outputs": [],
      "source": [
        "!./max_pairwise_product_full< input1.txt > ctest1.txt\n",
        "!grep -xvFf output1.txt ctest1.txt"
      ]
    },
    {
      "cell_type": "code",
      "source": [
        "%%writefile input2.txt\n",
        "10\n",
        "10 9 8 7 6 5 4 3 2 1"
      ],
      "metadata": {
        "colab": {
          "base_uri": "https://localhost:8080/"
        },
        "id": "ZPe40LY14_6f",
        "outputId": "d927be41-e3da-4002-968d-26f0c108fc67"
      },
      "execution_count": 25,
      "outputs": [
        {
          "output_type": "stream",
          "name": "stdout",
          "text": [
            "Overwriting input2.txt\n"
          ]
        }
      ]
    },
    {
      "cell_type": "code",
      "source": [
        "%%writefile output2.txt\n",
        "90"
      ],
      "metadata": {
        "colab": {
          "base_uri": "https://localhost:8080/"
        },
        "id": "xiHmF7HA5Faa",
        "outputId": "9a18bdc2-da62-4f63-f852-82a60a502ddf"
      },
      "execution_count": 26,
      "outputs": [
        {
          "output_type": "stream",
          "name": "stdout",
          "text": [
            "Overwriting output2.txt\n"
          ]
        }
      ]
    },
    {
      "cell_type": "code",
      "source": [
        "!./max_pairwise_product_full< input2.txt > ctest2.txt\n",
        "!grep -xvFf output2.txt ctest2.txt"
      ],
      "metadata": {
        "id": "jjwc9kwb5t_k"
      },
      "execution_count": 27,
      "outputs": []
    },
    {
      "cell_type": "markdown",
      "metadata": {
        "id": "IeZ3kTjpYmR9"
      },
      "source": [
        "### Test 2: largest input numbers 200000 200000 to check possible intger overflow"
      ]
    },
    {
      "cell_type": "code",
      "execution_count": 28,
      "metadata": {
        "colab": {
          "base_uri": "https://localhost:8080/"
        },
        "id": "LQNlZqaqYt7U",
        "outputId": "d67713db-d201-4d4c-d9d7-dc4268bbad3e"
      },
      "outputs": [
        {
          "output_type": "stream",
          "name": "stdout",
          "text": [
            "Writing input3.txt\n"
          ]
        }
      ],
      "source": [
        "%%writefile input3.txt\n",
        "6\n",
        "1 3 200000 9 200000 23"
      ]
    },
    {
      "cell_type": "code",
      "execution_count": 29,
      "metadata": {
        "colab": {
          "base_uri": "https://localhost:8080/"
        },
        "id": "GjQq7QOUCw-9",
        "outputId": "f1c5486b-3ce8-4035-99c6-fa2b93b38637"
      },
      "outputs": [
        {
          "output_type": "execute_result",
          "data": {
            "text/plain": [
              "40000000000"
            ]
          },
          "metadata": {},
          "execution_count": 29
        }
      ],
      "source": [
        "200000*200000"
      ]
    },
    {
      "cell_type": "code",
      "execution_count": 30,
      "metadata": {
        "colab": {
          "base_uri": "https://localhost:8080/"
        },
        "id": "EuS6n3jtDK5C",
        "outputId": "d86bb5b1-9cc2-4aac-914e-733615402e21"
      },
      "outputs": [
        {
          "output_type": "stream",
          "name": "stdout",
          "text": [
            "Writing output3.txt\n"
          ]
        }
      ],
      "source": [
        "%%writefile output3.txt\n",
        "40000000000"
      ]
    },
    {
      "cell_type": "code",
      "execution_count": 31,
      "metadata": {
        "colab": {
          "base_uri": "https://localhost:8080/"
        },
        "id": "2Wad2VZUZDxR",
        "outputId": "0450f7cf-37e6-4cdf-c20c-5b1e357d90fc"
      },
      "outputs": [
        {
          "output_type": "stream",
          "name": "stdout",
          "text": [
            "1345294336\n"
          ]
        }
      ],
      "source": [
        "!./max_pairwise_product_full < input3.txt"
      ]
    },
    {
      "cell_type": "code",
      "execution_count": 32,
      "metadata": {
        "colab": {
          "base_uri": "https://localhost:8080/"
        },
        "id": "pEvp1ieyDJGq",
        "outputId": "5976c88d-f6d0-4052-83ad-6cb2ebb3a7d4"
      },
      "outputs": [
        {
          "output_type": "stream",
          "name": "stdout",
          "text": [
            "1345294336\n"
          ]
        }
      ],
      "source": [
        "!./max_pairwise_product_full < input3.txt > ctest3.txt\n",
        "!grep -xvFf output3.txt ctest3.txt"
      ]
    },
    {
      "cell_type": "code",
      "source": [
        " %%writefile run_all_test.sh\n",
        "#!/bin/bash\n",
        "g++ max_pairwise_product_full.cpp -o max_pairwise_product_full\n",
        "for i in {0..3}\n",
        "do\n",
        "    ./max_pairwise_product_full < input$i.txt > ctest$i.txt\n",
        "    grep -xvFf output$i.txt ctest$i.txt\n",
        "done"
      ],
      "metadata": {
        "colab": {
          "base_uri": "https://localhost:8080/"
        },
        "id": "SrtJrKqM-God",
        "outputId": "a204d20e-6c09-446c-c9d3-fa04735f93de"
      },
      "execution_count": null,
      "outputs": [
        {
          "output_type": "stream",
          "name": "stdout",
          "text": [
            "Writing run_all_test.sh\n"
          ]
        }
      ]
    },
    {
      "cell_type": "code",
      "source": [
        "!chmod u+x run_all_test.sh\n",
        "!./run_all_test.sh"
      ],
      "metadata": {
        "colab": {
          "base_uri": "https://localhost:8080/"
        },
        "id": "wGWMHtzS-QnA",
        "outputId": "3d9e5c5c-3928-4578-f0d0-ca84bda31449"
      },
      "execution_count": 33,
      "outputs": [
        {
          "output_type": "stream",
          "name": "stdout",
          "text": [
            "chmod: cannot access 'run_all_test.sh': No such file or directory\n",
            "/bin/bash: line 1: ./run_all_test.sh: No such file or directory\n"
          ]
        }
      ]
    },
    {
      "cell_type": "markdown",
      "metadata": {
        "id": "H2SC0Qt5HCzz"
      },
      "source": [
        "### Changing the variables to long long"
      ]
    },
    {
      "cell_type": "code",
      "execution_count": 34,
      "metadata": {
        "colab": {
          "base_uri": "https://localhost:8080/"
        },
        "id": "MPcmsxiQZSfE",
        "outputId": "ad04d01c-fe17-4449-8f0d-faf6e86c144a"
      },
      "outputs": [
        {
          "output_type": "stream",
          "name": "stdout",
          "text": [
            "Writing max_pairwise_product_long_full.cpp\n"
          ]
        }
      ],
      "source": [
        "%%writefile max_pairwise_product_long_full.cpp\n",
        "#include <iostream>\n",
        "#include <vector>\n",
        "#include <algorithm>\n",
        "\n",
        "long long MaxPairwiseProduct(const std::vector<int>& numbers) {\n",
        "    long long max_product = 0LL;\n",
        "\t  long long aux_product = 0LL;\n",
        "    int n = numbers.size();\n",
        "\n",
        "    for (int first = 0; first < n; ++first) {\n",
        "        for (int second = 0; second < n; ++second) {\n",
        "          if ( first != second){\n",
        "                aux_product = (long long) numbers[first] * numbers[second];\n",
        "                if (aux_product > max_product)  max_product = aux_product;\n",
        "          }\n",
        "        }\n",
        "    }\n",
        "\n",
        "\n",
        "    return max_product;\n",
        "}\n",
        "\n",
        "int main() {\n",
        "    int n;\n",
        "    std::cin >> n;\n",
        "    std::vector<int> numbers(n);\n",
        "    for (int i = 0; i < n; ++i) {\n",
        "        std::cin >> numbers[i];\n",
        "    }\n",
        "\n",
        "    std::cout << MaxPairwiseProduct(numbers) << \"\\n\";\n",
        "    return 0;\n",
        "}\n"
      ]
    },
    {
      "cell_type": "code",
      "source": [
        "!g++ max_pairwise_product_long_full.cpp -o max_pairwise_product_long_full"
      ],
      "metadata": {
        "id": "W3xQpFXL6wjO"
      },
      "execution_count": 35,
      "outputs": []
    },
    {
      "cell_type": "code",
      "source": [
        "!./max_pairwise_product_long_full < input3.txt"
      ],
      "metadata": {
        "colab": {
          "base_uri": "https://localhost:8080/"
        },
        "id": "H5dvN9M3R9sV",
        "outputId": "a40c2550-f2fe-4f73-e161-6ba606b9ec21"
      },
      "execution_count": null,
      "outputs": [
        {
          "output_type": "stream",
          "name": "stdout",
          "text": [
            "40000000000\n"
          ]
        }
      ]
    },
    {
      "cell_type": "markdown",
      "source": [
        "### Runing multuple test with a bash shell"
      ],
      "metadata": {
        "id": "gx-sEYdfQ8f8"
      }
    },
    {
      "cell_type": "code",
      "source": [
        " %%writefile run_all_test.sh\n",
        "#!/bin/bash\n",
        "g++ max_pairwise_product_long_full.cpp -o max_pairwise_product_long_full\n",
        "for i in {1..3}\n",
        "do\n",
        "    ./max_pairwise_product_long_full < input$i.txt > ctest$i.txt\n",
        "    grep -xvFf output$i.txt ctest$i.txt\n",
        "done"
      ],
      "metadata": {
        "colab": {
          "base_uri": "https://localhost:8080/"
        },
        "id": "O9qsq2nn7elw",
        "outputId": "7de9dad7-3f60-465a-fe0a-fd773465ee69"
      },
      "execution_count": 36,
      "outputs": [
        {
          "output_type": "stream",
          "name": "stdout",
          "text": [
            "Writing run_all_test.sh\n"
          ]
        }
      ]
    },
    {
      "cell_type": "code",
      "source": [
        "!chmod u+x run_all_test.sh\n",
        "!./run_all_test.sh"
      ],
      "metadata": {
        "id": "0g5kKVph7xIA"
      },
      "execution_count": 37,
      "outputs": []
    },
    {
      "cell_type": "markdown",
      "metadata": {
        "id": "XPVHkHxH6_7s"
      },
      "source": [
        "### Test 3  stress tests, 6 testing cases files input4.txt/output4.txt .. input10.txt/output10.txt\n",
        "\n",
        "---\n",
        "\n"
      ]
    },
    {
      "cell_type": "code",
      "execution_count": 38,
      "metadata": {
        "id": "PwqpBmYr69fu",
        "colab": {
          "base_uri": "https://localhost:8080/"
        },
        "outputId": "c87aee15-71db-45c4-e711-a489c3d73065"
      },
      "outputs": [
        {
          "output_type": "stream",
          "name": "stdout",
          "text": [
            "Writing input4.txt\n"
          ]
        }
      ],
      "source": [
        "%%writefile input4.txt\n",
        "9\n",
        "91 7 73 29 86 38 22 25 48"
      ]
    },
    {
      "cell_type": "code",
      "source": [
        "%%writefile output4.txt\n",
        "70815342"
      ],
      "metadata": {
        "colab": {
          "base_uri": "https://localhost:8080/"
        },
        "id": "LDNNWp_4bD1Q",
        "outputId": "2fcad646-1d32-4a64-a57e-fc23456d145a"
      },
      "execution_count": 39,
      "outputs": [
        {
          "output_type": "stream",
          "name": "stdout",
          "text": [
            "Writing output4.txt\n"
          ]
        }
      ]
    },
    {
      "cell_type": "code",
      "execution_count": 40,
      "metadata": {
        "id": "jBCkMeR6Fw4y",
        "colab": {
          "base_uri": "https://localhost:8080/"
        },
        "outputId": "0518d12a-b529-4217-ff3c-9fade19e237a"
      },
      "outputs": [
        {
          "output_type": "stream",
          "name": "stdout",
          "text": [
            "Writing input5.txt\n"
          ]
        }
      ],
      "source": [
        "%%writefile input5.txt\n",
        "17\n",
        "20 56 83 75 13 46 82  5 95 23 17 70 55 47 42 31 16"
      ]
    },
    {
      "cell_type": "code",
      "source": [
        "%%writefile output5.txt\n",
        "1943733"
      ],
      "metadata": {
        "colab": {
          "base_uri": "https://localhost:8080/"
        },
        "id": "yRctvtEkbFD3",
        "outputId": "9cf1b001-7c24-42d6-d29b-f65a494edb6a"
      },
      "execution_count": 41,
      "outputs": [
        {
          "output_type": "stream",
          "name": "stdout",
          "text": [
            "Writing output5.txt\n"
          ]
        }
      ]
    },
    {
      "cell_type": "code",
      "source": [
        "%%writefile input6.txt\n",
        "15\n",
        "100 14 4 37 84 77 54 24 67 3 61 78 12 32 43"
      ],
      "metadata": {
        "id": "zED8V8wu-eoM",
        "colab": {
          "base_uri": "https://localhost:8080/"
        },
        "outputId": "4a23c202-63e5-487d-c553-65291c842875"
      },
      "execution_count": 42,
      "outputs": [
        {
          "output_type": "stream",
          "name": "stdout",
          "text": [
            "Writing input6.txt\n"
          ]
        }
      ]
    },
    {
      "cell_type": "code",
      "source": [
        "%%writefile output6.txt\n",
        "400910"
      ],
      "metadata": {
        "colab": {
          "base_uri": "https://localhost:8080/"
        },
        "id": "QfR7nnrsbGIW",
        "outputId": "2df3b102-9f22-4c65-d58f-eb5994afb7b4"
      },
      "execution_count": 43,
      "outputs": [
        {
          "output_type": "stream",
          "name": "stdout",
          "text": [
            "Writing output6.txt\n"
          ]
        }
      ]
    },
    {
      "cell_type": "code",
      "source": [
        "%%writefile input7.txt\n",
        "6\n",
        "99 64 49 65 98 59"
      ],
      "metadata": {
        "colab": {
          "base_uri": "https://localhost:8080/"
        },
        "id": "a_B78BaUZV7p",
        "outputId": "0889ffc9-ab7a-4d38-b4b7-a38ffabbef23"
      },
      "execution_count": 44,
      "outputs": [
        {
          "output_type": "stream",
          "name": "stdout",
          "text": [
            "Writing input7.txt\n"
          ]
        }
      ]
    },
    {
      "cell_type": "code",
      "source": [
        "%%writefile output7.txt\n",
        "7498347"
      ],
      "metadata": {
        "colab": {
          "base_uri": "https://localhost:8080/"
        },
        "id": "SzU8UaWHbH1a",
        "outputId": "0d267f75-3427-428a-ecfa-03d4bd4eb2cd"
      },
      "execution_count": 45,
      "outputs": [
        {
          "output_type": "stream",
          "name": "stdout",
          "text": [
            "Writing output7.txt\n"
          ]
        }
      ]
    },
    {
      "cell_type": "code",
      "source": [
        "%%writefile input8.txt\n",
        "7\n",
        "80 79 33 81 9 74 53"
      ],
      "metadata": {
        "colab": {
          "base_uri": "https://localhost:8080/"
        },
        "id": "TuNzTGhOZZJY",
        "outputId": "c671515a-5f95-44f0-d48a-6b2251235dc6"
      },
      "execution_count": 46,
      "outputs": [
        {
          "output_type": "stream",
          "name": "stdout",
          "text": [
            "Writing input8.txt\n"
          ]
        }
      ]
    },
    {
      "cell_type": "code",
      "source": [
        "%%writefile output8.txt\n",
        "1107890"
      ],
      "metadata": {
        "colab": {
          "base_uri": "https://localhost:8080/"
        },
        "id": "eOkAjLjubIlH",
        "outputId": "65c1e335-7aea-4773-b3ad-fac600acbfee"
      },
      "execution_count": 47,
      "outputs": [
        {
          "output_type": "stream",
          "name": "stdout",
          "text": [
            "Writing output8.txt\n"
          ]
        }
      ]
    },
    {
      "cell_type": "code",
      "source": [
        "%%writefile input9.txt\n",
        "4\n",
        "7100 89000 360000 5200000"
      ],
      "metadata": {
        "colab": {
          "base_uri": "https://localhost:8080/"
        },
        "id": "TLpM3MvvZaAV",
        "outputId": "8addf7dd-808e-464d-9e51-229c8a3506c1"
      },
      "execution_count": 48,
      "outputs": [
        {
          "output_type": "stream",
          "name": "stdout",
          "text": [
            "Writing input9.txt\n"
          ]
        }
      ]
    },
    {
      "cell_type": "code",
      "source": [
        "%%writefile output9.txt\n",
        "8429255"
      ],
      "metadata": {
        "colab": {
          "base_uri": "https://localhost:8080/"
        },
        "id": "CVJD4U5SbJpn",
        "outputId": "6bf5abd7-2f6d-4168-e700-27d3fe9f758a"
      },
      "execution_count": 49,
      "outputs": [
        {
          "output_type": "stream",
          "name": "stdout",
          "text": [
            "Writing output9.txt\n"
          ]
        }
      ]
    },
    {
      "cell_type": "code",
      "source": [
        "%%writefile input10.txt\n",
        "7\n",
        "88 72 2 40 96 45 57"
      ],
      "metadata": {
        "colab": {
          "base_uri": "https://localhost:8080/"
        },
        "id": "bVGHW3VzbcRC",
        "outputId": "1936f397-96fb-40d9-cc60-6176b275cae5"
      },
      "execution_count": 50,
      "outputs": [
        {
          "output_type": "stream",
          "name": "stdout",
          "text": [
            "Writing input10.txt\n"
          ]
        }
      ]
    },
    {
      "cell_type": "code",
      "source": [
        "%%writefile output10.txt\n",
        "9731141"
      ],
      "metadata": {
        "colab": {
          "base_uri": "https://localhost:8080/"
        },
        "id": "Blvjay2Jbcnw",
        "outputId": "5ef9e345-1559-4d3d-e73f-c7569960d7da"
      },
      "execution_count": 51,
      "outputs": [
        {
          "output_type": "stream",
          "name": "stdout",
          "text": [
            "Writing output10.txt\n"
          ]
        }
      ]
    },
    {
      "cell_type": "code",
      "source": [
        "%%writefile run_all_test.sh\n",
        "#!/bin/bash\n",
        "g++ max_pairwise_product_long_full.cpp -o max_pairwise_product_long_full || exit  1\n",
        "\n",
        "for i in {4..10}\n",
        "do\n",
        "    ./max_pairwise_product_long_full <inputi.txt> ctesti.text\n",
        "    if grep -xvFf outputi.txt ctexti.txt; then\n",
        "      echo \"FAILED\"\n",
        "    else\n",
        "      echo \"OK\"\n",
        "    fi\n",
        "done"
      ],
      "metadata": {
        "id": "MgK4PfzScd7F",
        "outputId": "7caff66e-5896-461c-d769-e6092b705843",
        "colab": {
          "base_uri": "https://localhost:8080/"
        }
      },
      "execution_count": 69,
      "outputs": [
        {
          "output_type": "stream",
          "name": "stdout",
          "text": [
            "Overwriting run_all_test.sh\n"
          ]
        }
      ]
    },
    {
      "cell_type": "code",
      "source": [
        "!chmod u+x run_all_test.sh\n",
        "!./run_all_test.sh"
      ],
      "metadata": {
        "id": "ibqh2TBtchWi",
        "outputId": "6828f96b-c4bc-4a87-c354-4399618240e9",
        "colab": {
          "base_uri": "https://localhost:8080/"
        }
      },
      "execution_count": 70,
      "outputs": [
        {
          "output_type": "stream",
          "name": "stdout",
          "text": [
            "./run_all_test.sh: line 6: inputi.txt: No such file or directory\n",
            "grep: outputi.txt: No such file or directory\n",
            "OK\n",
            "./run_all_test.sh: line 6: inputi.txt: No such file or directory\n",
            "grep: outputi.txt: No such file or directory\n",
            "OK\n",
            "./run_all_test.sh: line 6: inputi.txt: No such file or directory\n",
            "grep: outputi.txt: No such file or directory\n",
            "OK\n",
            "./run_all_test.sh: line 6: inputi.txt: No such file or directory\n",
            "grep: outputi.txt: No such file or directory\n",
            "OK\n",
            "./run_all_test.sh: line 6: inputi.txt: No such file or directory\n",
            "grep: outputi.txt: No such file or directory\n",
            "OK\n",
            "./run_all_test.sh: line 6: inputi.txt: No such file or directory\n",
            "grep: outputi.txt: No such file or directory\n",
            "OK\n",
            "./run_all_test.sh: line 6: inputi.txt: No such file or directory\n",
            "grep: outputi.txt: No such file or directory\n",
            "OK\n"
          ]
        }
      ]
    },
    {
      "cell_type": "markdown",
      "metadata": {
        "id": "9z9yr5QkeyJF"
      },
      "source": [
        "### Test 4  time test  measure the execution time running with the the largest worst cases input11.txt  (200000 increasing numbers) and input12.txt (199998 increasing numbers and  200000, 200000 at the end)"
      ]
    },
    {
      "cell_type": "code",
      "source": [
        "# input11.txt 200000 increasing numbers:  1 2 .. 200000\n",
        "\n",
        "%%writefile WriteTest.cpp\n",
        "\n",
        "#include <iostream>\n",
        "#include <fstream>\n",
        "#include <cstdlib>\n",
        "\n",
        "using namespace std;\n",
        "\n",
        "int main() {\n",
        "  // Create and open a text file\n",
        "  ofstream MyFile(\"input11.txt\");\n",
        "\n",
        " MyFile << 200000 <<\"\\n\";  // n\n",
        " for (int i=1; i <200001; i++){\n",
        "     MyFile << i <<\" \";\n",
        " }\n",
        "\n",
        "  // Close the file\n",
        "  MyFile.close();\n",
        "}"
      ],
      "metadata": {
        "colab": {
          "base_uri": "https://localhost:8080/"
        },
        "id": "UmB1ipWM_nSk",
        "outputId": "2f0a106d-e54b-48d7-e885-0f2661bd3d5c"
      },
      "execution_count": 58,
      "outputs": [
        {
          "output_type": "stream",
          "name": "stdout",
          "text": [
            "Writing WriteTest.cpp\n"
          ]
        }
      ]
    },
    {
      "cell_type": "code",
      "execution_count": 71,
      "metadata": {
        "id": "EH25TkOkZfD9"
      },
      "outputs": [],
      "source": [
        "!g++ WriteTest.cpp -o WriteTest\n",
        "!./WriteTest"
      ]
    },
    {
      "cell_type": "code",
      "source": [
        "199999 * 200000"
      ],
      "metadata": {
        "colab": {
          "base_uri": "https://localhost:8080/"
        },
        "id": "j0mokSOnCCtZ",
        "outputId": "fccbb8d2-4f5f-447a-b4ed-a7b150ee2999"
      },
      "execution_count": 72,
      "outputs": [
        {
          "output_type": "execute_result",
          "data": {
            "text/plain": [
              "39999800000"
            ]
          },
          "metadata": {},
          "execution_count": 72
        }
      ]
    },
    {
      "cell_type": "code",
      "source": [
        "%%writefile output11.txt\n",
        "39999800000"
      ],
      "metadata": {
        "id": "VoDhDV73B5Mo",
        "colab": {
          "base_uri": "https://localhost:8080/"
        },
        "outputId": "ce1c88f8-b14d-4491-c573-59023ff68b9a"
      },
      "execution_count": 73,
      "outputs": [
        {
          "output_type": "stream",
          "name": "stdout",
          "text": [
            "Writing output11.txt\n"
          ]
        }
      ]
    },
    {
      "cell_type": "code",
      "execution_count": 74,
      "metadata": {
        "colab": {
          "base_uri": "https://localhost:8080/"
        },
        "id": "oLiMjbAIfPlX",
        "outputId": "2571b4c5-3e16-43d4-a7db-ae161fcf9499"
      },
      "outputs": [
        {
          "output_type": "stream",
          "name": "stdout",
          "text": [
            "Overwriting WriteTest.cpp\n"
          ]
        }
      ],
      "source": [
        "# input12.txt 200000 decreasing numbers and 200000, 199999 ...  2 1\n",
        "\n",
        "%%writefile WriteTest.cpp\n",
        "\n",
        "#include <iostream>\n",
        "#include <fstream>\n",
        "#include <cstdlib>\n",
        "\n",
        "using namespace std;\n",
        "\n",
        "int main() {\n",
        "  // Create and open a text file\n",
        "  ofstream MyFile(\"input12.txt\");\n",
        "\n",
        " MyFile << 200000 <<\"\\n\";  // n\n",
        " for (int i=1; i <200001; i++){\n",
        "     MyFile << 200001-i <<\" \";\n",
        " }\n",
        "\n",
        "  // Close the file\n",
        "  MyFile.close();\n",
        "}"
      ]
    },
    {
      "cell_type": "code",
      "source": [
        "!g++ WriteTest.cpp -o WriteTest\n",
        "!./WriteTest"
      ],
      "metadata": {
        "id": "oULNBr_zAd9c"
      },
      "execution_count": 75,
      "outputs": []
    },
    {
      "cell_type": "code",
      "source": [
        "%%writefile output12.txt\n",
        "39999800000"
      ],
      "metadata": {
        "colab": {
          "base_uri": "https://localhost:8080/"
        },
        "id": "PQLyocaFB-y4",
        "outputId": "39ad417d-b169-491a-ddd0-f3f8dca3e521"
      },
      "execution_count": 76,
      "outputs": [
        {
          "output_type": "stream",
          "name": "stdout",
          "text": [
            "Writing output12.txt\n"
          ]
        }
      ]
    },
    {
      "cell_type": "markdown",
      "metadata": {
        "id": "JB6f03qO-lj9"
      },
      "source": [
        "### Measure time\n",
        "\n",
        "https://askubuntu.com/questions/53444/how-can-i-measure-the-execution-time-of-a-terminal-process"
      ]
    },
    {
      "cell_type": "code",
      "execution_count": 78,
      "metadata": {
        "colab": {
          "base_uri": "https://localhost:8080/"
        },
        "id": "6p2QLEr576zk",
        "outputId": "c8d57d5b-dcd8-49ab-f34a-e6dc20e7622c"
      },
      "outputs": [
        {
          "output_type": "stream",
          "name": "stdout",
          "text": [
            "456185632\n",
            "^C\n"
          ]
        }
      ],
      "source": [
        "!g++ max_pairwise_product_long_full.cpp -o max_pairwise_product_long_full\n",
        "!time ./max_pairwise_product_long_full< input11.txt"
      ]
    },
    {
      "cell_type": "code",
      "source": [
        "!g++ max_pairwise_product_long_full.cpp -o max_pairwise_product_long_full\n",
        "!time ./max_pairwise_product_long_full< input12.txt"
      ],
      "metadata": {
        "colab": {
          "base_uri": "https://localhost:8080/"
        },
        "id": "cnjCyeUdAnZj",
        "outputId": "ee7e4d89-4dba-4fb9-8d28-4b918502fb72"
      },
      "execution_count": 79,
      "outputs": [
        {
          "output_type": "stream",
          "name": "stdout",
          "text": [
            "1562179845\n",
            "^C\n"
          ]
        }
      ]
    },
    {
      "cell_type": "markdown",
      "metadata": {
        "id": "FXClpBsUJuXC"
      },
      "source": [
        "### Calculate the number or and upper bound to the number of instructions executed by the algorithm as a function of n, add in each line a comment with the number of instructions that are executed in that line."
      ]
    },
    {
      "cell_type": "code",
      "execution_count": 80,
      "metadata": {
        "colab": {
          "base_uri": "https://localhost:8080/"
        },
        "id": "uG6Mv-Pwlkii",
        "outputId": "c0c9ec72-dc42-4f0c-f4bb-85b92f04d56f"
      },
      "outputs": [
        {
          "output_type": "stream",
          "name": "stdout",
          "text": [
            "Overwriting max_pairwise_product_long_full.cpp\n"
          ]
        }
      ],
      "source": [
        "%%writefile max_pairwise_product_long_full.cpp\n",
        "#include <iostream>\n",
        "#include <vector>\n",
        "#include <algorithm>\n",
        "\n",
        "long long MaxPairwiseProduct(const std::vector<int>& numbers) {              //INSTRUCTIONS executed by line\n",
        "    long long max_product = 0LL;                                             //1\n",
        "\t  long long aux_product = 0LL;                                             //1\n",
        "    int n = numbers.size();                                                  //1\n",
        "\n",
        "    for (int first = 0; first < n; ++first) {                                //2+2n\n",
        "        for (int second = 0; second < n; ++second) {                         //2n + 2n**2\n",
        "          if ( first != second ){                                            //n**2\n",
        "                aux_product = numbers[first] * numbers[second];              //n**2 -n\n",
        "                if (aux_product > max_product)                               //n**2 -n\n",
        "                    max_product = aux_product;                               //[0, n**2/2 - n/2] upper bound\n",
        "          }\n",
        "        }\n",
        "    }\n",
        "\n",
        "                                                                             // --------------\n",
        "    return max_product;                                                      // 5 + 2*n + [5*n**2, 11*n**2/2  - n/2]  upper bound\n",
        "}\n",
        "\n",
        "int main() {                                              //INSTRUCTIONS executed by line\n",
        "    int n;                                                //1\n",
        "    std::cin >> n;                                        //1\n",
        "    std::vector<int> numbers(n);                          //n\n",
        "    for (int i = 0; i < n; ++i) {                         //2 + 2n\n",
        "        std::cin >> numbers[i];                           //n\n",
        "    }\n",
        "\n",
        "    std::cout << MaxPairwiseProduct(numbers) << \"\\n\";     //1 + 1  + 5 + 2*n + [5*n**2, 11*n**2/2  - n/2]\n",
        "\n",
        "    return 0;                                             // --------------\n",
        "}                                                         //  11 + 6*n + [5*n**2, 11*n**2/2  - n/2]  upper bound\n"
      ]
    },
    {
      "cell_type": "markdown",
      "metadata": {
        "id": "0vTsUg8OwcHs"
      },
      "source": [
        "### Count executed intructions in code"
      ]
    },
    {
      "cell_type": "code",
      "execution_count": 81,
      "metadata": {
        "colab": {
          "base_uri": "https://localhost:8080/"
        },
        "id": "CuRKkqQc137V",
        "outputId": "17aab896-55a1-4cfe-9785-c99635ccf79d"
      },
      "outputs": [
        {
          "output_type": "stream",
          "name": "stdout",
          "text": [
            "Writing max_pairwise_product_long_full_execints.cpp\n"
          ]
        }
      ],
      "source": [
        "%%writefile max_pairwise_product_long_full_execints.cpp\n",
        "#include <iostream>\n",
        "#include <vector>\n",
        "#include <algorithm>\n",
        "\n",
        "long long MaxPairwiseProduct(const std::vector<int>& numbers, long long &execints) {      //INSTRUCTIONS executed by line\n",
        "\n",
        "    long long max_product = 0LL;                                                          //1\n",
        "    execints++;\n",
        "\n",
        "\t  long long aux_product = 0LL;                                                          //1\n",
        "    execints++;\n",
        "\n",
        "    int n = numbers.size();                                                               //1\n",
        "    execints++;\n",
        "\n",
        "    execints++;\n",
        "    for (int first = 0; first < n; ++first) {                                             //2+2n\n",
        "        execints += 2;\n",
        "\n",
        "        execints++;\n",
        "        for (int second = 0; second < n; ++second) {                                       //2n + 2n**2\n",
        "          execints += 2;\n",
        "\n",
        "          execints++;\n",
        "          if ( first != second ){                                                         //n**2\n",
        "                aux_product = numbers[first] * numbers[second];                           //n**2 -n\n",
        "                execints++;\n",
        "\n",
        "                execints++;\n",
        "                if (aux_product > max_product){                                           //n**2 -n\n",
        "                    max_product = aux_product;                                            //[0,n**2/2 - n/2)  upper bound\n",
        "                    execints++;\n",
        "\n",
        "                }\n",
        "        }\n",
        "\n",
        "      }\n",
        "      execints++;\n",
        "    }\n",
        "    execints++;\n",
        "                                                                                        // --------------\n",
        "    return max_product;                                                                 // 5 + 2*n + [5*n**2, 11*n**2/2  - n/2] upper bound\n",
        "}\n",
        "\n",
        "int main() {                                                 //INSTRUCTIONS executed by line\n",
        "\n",
        "    long long execints =0LL;\n",
        "\n",
        "    int n;                                                   //1\n",
        "    execints++;\n",
        "\n",
        "    std::cin >> n;                                           //1\n",
        "    execints++;\n",
        "\n",
        "    std::vector<int> numbers(n);                             //n\n",
        "    execints += n;\n",
        "\n",
        "    execints++;\n",
        "    for (int i = 0; i < n; ++i) {                            //2 + 2n\n",
        "        execints += 2;\n",
        "\n",
        "        std::cin >> numbers[i];\n",
        "        execints++;                                          //n\n",
        "\n",
        "    }\n",
        "\n",
        "\n",
        "    //std::cout << MaxPairwiseProduct(numbers) << \"\\n\";      //1 + 1  + 5 + 2*n + [5*n**2, 11*n**2/2  - n/2] upper bound\n",
        "\n",
        "    execints++;\n",
        "    int M = MaxPairwiseProduct(numbers,execints);\n",
        "\n",
        "    execints++;\n",
        "    std::cout <<  execints << \"\\n\";\n",
        "    return 0;                                                // --------------\n",
        "}                                                            // 11 + 6*n + [5*n**2, 11*n**2/2  - n/2]"
      ]
    },
    {
      "cell_type": "markdown",
      "source": [
        "The number of instructions executed by the algooirithm with a list of size $n$ is  \n",
        "\n",
        "$$T (n) = 11 + 6n + \\left[5n^2, 11\\frac{n^2}{2}  - \\frac{n}{2}\\right)  >  6n^2 = O(n^2)$$\n",
        "\n",
        "It depends on the size of the lists and  the order of the list.\n",
        "\n",
        "For the input0.txt\n",
        "```\n",
        "10\n",
        "0 0 0 0 0 0 0 0 0 0\n",
        "```\n",
        "$$T = 11 + 6(10) + 5(10)^2   = 561 $$\n",
        "\n",
        "$$T(10) \\in [571, 621)  $$\n"
      ],
      "metadata": {
        "id": "cUjHtvtdDsmr"
      }
    },
    {
      "cell_type": "code",
      "source": [
        "!g++ max_pairwise_product_long_full_execints.cpp -o max_pairwise_product_long_full_execints\n",
        "!./max_pairwise_product_long_full_execints < input0.txt"
      ],
      "metadata": {
        "colab": {
          "base_uri": "https://localhost:8080/"
        },
        "id": "Om9Fevb0miAT",
        "outputId": "cbf792c8-3e12-47b8-f85c-7c56742e20e3"
      },
      "execution_count": 82,
      "outputs": [
        {
          "output_type": "stream",
          "name": "stdout",
          "text": [
            "570\n"
          ]
        }
      ]
    },
    {
      "cell_type": "markdown",
      "source": [
        "For the input1.txt\n",
        "```\n",
        "10\n",
        "1 2 3 4 5 6 7 8 9 10\n",
        "```\n",
        "$$T = 11 + 6(10) + 5(10)^2 +  9 + 5 + 4 + 3 + 2 + 2 + 2 + 2 + 1 + 0  = 601 $$\n",
        "\n",
        "$$T(10) \\in [572, 622)  $$\n"
      ],
      "metadata": {
        "id": "FwJzZ6VzmArY"
      }
    },
    {
      "cell_type": "code",
      "source": [
        "#The number of times that  max_product = aux_product; in the worst case is less than (n**2 -n)/2 -  upper bound\n",
        "\n",
        "#     1  2  3  4  5  6  7  8  9  10\n",
        "#  1  x  2  3  4  5  6  7  8  9  10         9\n",
        "#  2  2  x  6  8  10 12 14 16 18 20         5 14\n",
        "#  3  3  6  x  12 15 18 21 24 27 30         4 18\n",
        "#  4  4  8  12 x  20 24 28 32 36 40         3 21\n",
        "#  5  5  10 15 20 x  30 35 40 45 50         2 23\n",
        "#  6  6  12 18 24 30 x  42 48 54 60         2 25\n",
        "#  7  7  14 21 28 35 42 x  56 63 70         2 27\n",
        "#  8  8  18 27 36 45 54 63 72 x  90         1 30\n",
        "#  10 10 20 30 40 50 60 70 60 90 x          0"
      ],
      "metadata": {
        "id": "K59xQMWiBNFj"
      },
      "execution_count": 83,
      "outputs": []
    },
    {
      "cell_type": "code",
      "source": [
        "11 + 6*(10) + 5*(10)*(10) +  9 + 5 + 4 + 3 + 2 + 2 + 2 + 2 + 1 + 0"
      ],
      "metadata": {
        "colab": {
          "base_uri": "https://localhost:8080/"
        },
        "id": "E3O8dzFfEgir",
        "outputId": "cedc709b-d4cc-44de-a6c8-d7bfbfdf2a64"
      },
      "execution_count": 84,
      "outputs": [
        {
          "output_type": "execute_result",
          "data": {
            "text/plain": [
              "601"
            ]
          },
          "metadata": {},
          "execution_count": 84
        }
      ]
    },
    {
      "cell_type": "code",
      "source": [
        "n = 10\n",
        "print( \"[\", 11 + 6*n + 5*n**2,  \",\", 11 + 6*n  + 5.5*n**2, \")\")"
      ],
      "metadata": {
        "colab": {
          "base_uri": "https://localhost:8080/"
        },
        "id": "TCpdl5u_Gq1a",
        "outputId": "cc6e92bc-b5a3-44e6-c0a2-89b123eb83cb"
      },
      "execution_count": 85,
      "outputs": [
        {
          "output_type": "stream",
          "name": "stdout",
          "text": [
            "[ 571 , 621.0 )\n"
          ]
        }
      ]
    },
    {
      "cell_type": "code",
      "execution_count": 86,
      "metadata": {
        "colab": {
          "base_uri": "https://localhost:8080/"
        },
        "id": "Kuvm1C05ly2a",
        "outputId": "8de9de87-043f-476b-8fd8-96bb4c3a2842"
      },
      "outputs": [
        {
          "output_type": "stream",
          "name": "stdout",
          "text": [
            "600\n"
          ]
        }
      ],
      "source": [
        "!g++ max_pairwise_product_long_full_execints.cpp -o max_pairwise_product_long_full_execints\n",
        "!./max_pairwise_product_long_full_execints < input1.txt"
      ]
    },
    {
      "cell_type": "markdown",
      "source": [
        "\n",
        "For the input2.txt\n",
        "```\n",
        "10\n",
        "10 9 8 7 6 5 4 3 2 1\n",
        "```\n",
        "$$T = 11 + 6*(10) + 5*(10)**2 +  1  = 571 $$"
      ],
      "metadata": {
        "id": "Yr_Lb7CaHfxB"
      }
    },
    {
      "cell_type": "code",
      "source": [
        "11 + 6*(10) + 5*(10)**2 +  1"
      ],
      "metadata": {
        "colab": {
          "base_uri": "https://localhost:8080/"
        },
        "id": "HOdqlwJiZUIp",
        "outputId": "d9a6599f-ee76-4450-e629-eadc642841f7"
      },
      "execution_count": 87,
      "outputs": [
        {
          "output_type": "execute_result",
          "data": {
            "text/plain": [
              "572"
            ]
          },
          "metadata": {},
          "execution_count": 87
        }
      ]
    },
    {
      "cell_type": "code",
      "source": [
        "!g++ max_pairwise_product_long_full_execints.cpp -o max_pairwise_product_long_full_execints\n",
        "!./max_pairwise_product_long_full_execints < input2.txt"
      ],
      "metadata": {
        "id": "_znzLectjFSe",
        "colab": {
          "base_uri": "https://localhost:8080/"
        },
        "outputId": "0963999b-8ea7-41d7-d7a4-215583602562"
      },
      "execution_count": 88,
      "outputs": [
        {
          "output_type": "stream",
          "name": "stdout",
          "text": [
            "571\n"
          ]
        }
      ]
    },
    {
      "cell_type": "markdown",
      "metadata": {
        "id": "NXW7QkoBL6xH"
      },
      "source": [
        "Calculate estimated time by instruction and number of instructions by second"
      ]
    },
    {
      "cell_type": "markdown",
      "source": [
        "For the input11.txt\n",
        "```\n",
        "200000\n",
        "1 2 ..  199999 2000\n",
        "```\n",
        "$$T = 11 + 6*(200000) + 5.5*(200000)**2  = 200001200012  $$"
      ],
      "metadata": {
        "id": "dlyRjaohz-YH"
      }
    },
    {
      "cell_type": "code",
      "source": [
        "t = 11 + 6*(200000)+ 5.5*(200000)**2\n",
        "print(t)"
      ],
      "metadata": {
        "colab": {
          "base_uri": "https://localhost:8080/"
        },
        "id": "vB7e9gpLUmIH",
        "outputId": "b6da6950-b58f-4c67-bc1d-9e3064fc345c"
      },
      "execution_count": 91,
      "outputs": [
        {
          "output_type": "stream",
          "name": "stdout",
          "text": [
            "220001200011.0\n"
          ]
        }
      ]
    },
    {
      "cell_type": "code",
      "source": [
        "!g++ max_pairwise_product_long_full_execints.cpp -o max_pairwise_product_long_full_execints\n",
        "!./max_pairwise_product_long_full_execints < input11.txt"
      ],
      "metadata": {
        "colab": {
          "base_uri": "https://localhost:8080/"
        },
        "id": "BMH8mF3EKn2w",
        "outputId": "40d9647e-1c05-4048-8f8d-c0b5a4f28c97"
      },
      "execution_count": 92,
      "outputs": [
        {
          "output_type": "stream",
          "name": "stdout",
          "text": [
            "1\n",
            "1\n",
            "2\n",
            "^C\n"
          ]
        }
      ]
    },
    {
      "cell_type": "code",
      "execution_count": 93,
      "metadata": {
        "colab": {
          "base_uri": "https://localhost:8080/"
        },
        "id": "pKqB3i7dIxnc",
        "outputId": "e2d28308-b292-4801-970c-c2ac216eb4c4"
      },
      "outputs": [
        {
          "output_type": "execute_result",
          "data": {
            "text/plain": [
              "1.4749765693187072e-09"
            ]
          },
          "metadata": {},
          "execution_count": 93
        }
      ],
      "source": [
        "# Estimated time by instruction\n",
        "# use the real reported  !time ./max_pairwise_product_long_full< input11.txt in seconds intead of the 295\n",
        "\n",
        "295/200003177092\n"
      ]
    },
    {
      "cell_type": "code",
      "execution_count": 94,
      "metadata": {
        "colab": {
          "base_uri": "https://localhost:8080/"
        },
        "id": "18N1ouqeMhE1",
        "outputId": "a6dfae46-5a59-4e26-8e28-31a2b4f0c18f"
      },
      "outputs": [
        {
          "output_type": "execute_result",
          "data": {
            "text/plain": [
              "677976871.4983051"
            ]
          },
          "metadata": {},
          "execution_count": 94
        }
      ],
      "source": [
        "# Estimated number of instructions by second\n",
        "\n",
        "200003177092/295"
      ]
    },
    {
      "cell_type": "markdown",
      "source": [
        "### Estimate and verify the maximun n that can be solved in 1 second\n",
        "\n",
        "$$(5.5n^2 + 5.5n + 11) \\times 1.47*10^{-9} s = 1 s$$\n",
        "\n",
        "$$ n \\approx 11000$$\n"
      ],
      "metadata": {
        "id": "KyuxejFkL5X_"
      }
    },
    {
      "cell_type": "code",
      "source": [
        "# Verify input13.txt\n",
        "%%writefile WriteTest.cpp\n",
        "\n",
        "#include <iostream>\n",
        "#include <fstream>\n",
        "#include <cstdlib>\n",
        "\n",
        "using namespace std;\n",
        "\n",
        "int main() {\n",
        "  // Create and open a text file\n",
        "  ofstream MyFile(\"input13.txt\");\n",
        "\n",
        " MyFile << 11000 <<\"\\n\";  // n\n",
        " for (int i=1; i <11001; i++){\n",
        "     MyFile << i <<\" \";\n",
        " }\n",
        "\n",
        "  // Close the file\n",
        "  MyFile.close();\n",
        "}"
      ],
      "metadata": {
        "colab": {
          "base_uri": "https://localhost:8080/"
        },
        "id": "WXu5jp-DLTOI",
        "outputId": "2d24db0f-0638-48d3-c1f1-8768407c2315"
      },
      "execution_count": 95,
      "outputs": [
        {
          "output_type": "stream",
          "name": "stdout",
          "text": [
            "Overwriting WriteTest.cpp\n"
          ]
        }
      ]
    },
    {
      "cell_type": "code",
      "source": [
        "!g++ WriteTest.cpp -o WriteTest\n",
        "!./WriteTest"
      ],
      "metadata": {
        "id": "AQ8N52pUMCeT"
      },
      "execution_count": 96,
      "outputs": []
    },
    {
      "cell_type": "code",
      "source": [
        "10999 * 11000"
      ],
      "metadata": {
        "colab": {
          "base_uri": "https://localhost:8080/"
        },
        "id": "2iIOdbTrEtBx",
        "outputId": "5702f40c-6383-4502-b088-4b7287131bd4"
      },
      "execution_count": 97,
      "outputs": [
        {
          "output_type": "execute_result",
          "data": {
            "text/plain": [
              "120989000"
            ]
          },
          "metadata": {},
          "execution_count": 97
        }
      ]
    },
    {
      "cell_type": "code",
      "source": [
        "!g++ max_pairwise_product_long_full.cpp -o max_pairwise_product_long_full\n",
        "!time ./max_pairwise_product_long_full< input13.txt"
      ],
      "metadata": {
        "colab": {
          "base_uri": "https://localhost:8080/"
        },
        "id": "ussuAokfM2du",
        "outputId": "2c197341-3575-4eda-ef7e-3679d4c0b099"
      },
      "execution_count": 98,
      "outputs": [
        {
          "output_type": "stream",
          "name": "stdout",
          "text": [
            "120989000\n",
            "\n",
            "real\t0m0.855s\n",
            "user\t0m0.847s\n",
            "sys\t0m0.004s\n"
          ]
        }
      ]
    },
    {
      "cell_type": "markdown",
      "metadata": {
        "id": "Tm_AVmt-QQH4"
      },
      "source": [
        "## Python"
      ]
    },
    {
      "cell_type": "code",
      "execution_count": 99,
      "metadata": {
        "id": "gRCCcd7IQTKZ",
        "colab": {
          "base_uri": "https://localhost:8080/"
        },
        "outputId": "f36f12ec-3f23-4dac-d219-50508b31fe80"
      },
      "outputs": [
        {
          "output_type": "stream",
          "name": "stdout",
          "text": [
            "Writing max_pairwise_product.py\n"
          ]
        }
      ],
      "source": [
        "%%writefile max_pairwise_product.py\n",
        "\n",
        "def max_pairwise_product(numbers):\n",
        "  max = 0\n",
        "  aux = 0\n",
        "  n = len(numbers)\n",
        "  for first in range(n):\n",
        "    for second in range(first + 1, n):\n",
        "      aux = numbers[first] * numbers[second]\n",
        "      if aux > max:\n",
        "        max = aux\n",
        "  return max\n",
        "n = int(input())\n",
        "numbers = [int(x) for x in input().split()]\n",
        "print(max_pairwise_product(numbers))"
      ]
    },
    {
      "cell_type": "code",
      "execution_count": 102,
      "metadata": {
        "id": "kAEAoNZEQTCw",
        "colab": {
          "base_uri": "https://localhost:8080/"
        },
        "outputId": "cae9bd88-e83a-40e3-ef88-89e4c0eeb420"
      },
      "outputs": [
        {
          "output_type": "stream",
          "name": "stdout",
          "text": [
            "120989000\n",
            "\n",
            "real\t0m9.443s\n",
            "user\t0m8.920s\n",
            "sys\t0m0.015s\n"
          ]
        }
      ],
      "source": [
        "# verify\n",
        "!time python3 max_pairwise_product.py < input13.txt"
      ]
    },
    {
      "cell_type": "markdown",
      "source": [
        "# For the follwing solutions rquired  the same tests and analysis performed for the first solution"
      ],
      "metadata": {
        "id": "fEZR-3V4ZjCv"
      }
    },
    {
      "cell_type": "markdown",
      "metadata": {
        "id": "MKQKSC-vKePK"
      },
      "source": [
        "## Solutions in C++ and Python that uses\n",
        "$$\\frac{n^2 - n}{2} = O(n^2)\\ \\ \\text{products}$$"
      ]
    },
    {
      "cell_type": "code",
      "execution_count": 103,
      "metadata": {
        "id": "jkkHHoxSK65p",
        "colab": {
          "base_uri": "https://localhost:8080/"
        },
        "outputId": "2fc4c0e7-ca14-4b09-a889-5e77e28b4df2"
      },
      "outputs": [
        {
          "output_type": "stream",
          "name": "stdout",
          "text": [
            "Writing max_pairwise_product.cpp\n"
          ]
        }
      ],
      "source": [
        "%%writefile max_pairwise_product.cpp\n",
        "#include <iostream>\n",
        "#include <vector>\n",
        "#include <algorithm>\n",
        "\n",
        "int MaxPairwiseProduct(const std::vector<int>& numbers) {\n",
        "    int max_product = 0;\n",
        "    int n = numbers.size();\n",
        "\n",
        "    for (int first = 0; first < n; ++first) {\n",
        "        for (int second = first + 1; second < n; ++second) {\n",
        "            max_product = std::max(max_product,\n",
        "                numbers[first] * numbers[second]);\n",
        "        }\n",
        "    }\n",
        "\n",
        "    return max_product;\n",
        "}\n",
        "\n",
        "int main() {\n",
        "    int n;\n",
        "    std::cin >> n;\n",
        "    std::vector<int> numbers(n);\n",
        "    for (int i = 0; i < n; ++i) {\n",
        "        std::cin >> numbers[i];\n",
        "    }\n",
        "\n",
        "    std::cout << MaxPairwiseProduct(numbers) << \"\\n\";\n",
        "    return 0;\n",
        "}"
      ]
    },
    {
      "cell_type": "code",
      "execution_count": 104,
      "metadata": {
        "id": "sU8-Ote7K8vz",
        "colab": {
          "base_uri": "https://localhost:8080/"
        },
        "outputId": "723d5075-59d2-471d-fca2-9f6829d065e2"
      },
      "outputs": [
        {
          "output_type": "stream",
          "name": "stdout",
          "text": [
            "Writing max_pairwise_product_long.cpp\n"
          ]
        }
      ],
      "source": [
        "%%writefile max_pairwise_product_long.cpp\n",
        "#include <iostream>\n",
        "#include <vector>\n",
        "#include <algorithm>\n",
        "\n",
        "long long MaxPairwiseProduct(const std::vector<int>& numbers) {              //INSTRUCTIONS executed by line\n",
        "    long long max_product = 0LL;                                             //1\n",
        "\t  long long aux_product = 0LL;                                             //1\n",
        "    int n = numbers.size();                                                  //1\n",
        "\n",
        "    for (int first = 0; first < n; ++first) {                                //2+2n\n",
        "        for (int second = first + 1; second < n; ++second) {                 //2n + (n-1)n\n",
        "\t\t\t       aux_product =  (long long) numbers[first] * numbers[second];    //(n-1)n/2\n",
        "            if (max_product < aux_product)  {                                //(n-1)n/2\n",
        "\t\t\t\t        max_product = aux_product;                                   //[1,(n-1)n/2)  upper bound\n",
        "             }\n",
        "        }\n",
        "    }\n",
        "                                                                             // --------------\n",
        "    return max_product;                                                      // 5 + 4n + [2(n-1)n+1, 2.5 (n-1)n) upper bound\n",
        "}\n",
        "\n",
        "int main() {                                              //INSTRUCTIONS executed by line\n",
        "    int n;                                                //1\n",
        "    std::cin >> n;                                        //1\n",
        "    std::vector<int> numbers(n);                          //n\n",
        "    for (int i = 0; i < n; ++i) {                         //2 + 2n\n",
        "        std::cin >> numbers[i];                           //n\n",
        "    }\n",
        "\n",
        "    std::cout << MaxPairwiseProduct(numbers) << \"\\n\";     //1 + 1  + 5 + 4n + [2(n-1)n+1, 2.5 (n-1)n) upper bound\n",
        "    return 0;                                             // --------------\n",
        "}                                                         // 11 + 7n + [2(n-1)n+1, 2.5 (n-1)n) upper bound\n"
      ]
    },
    {
      "cell_type": "code",
      "execution_count": 105,
      "metadata": {
        "id": "5QWT3fneK8nw",
        "colab": {
          "base_uri": "https://localhost:8080/"
        },
        "outputId": "c57761b9-d5d0-4ca5-b5b7-03eabb627a46"
      },
      "outputs": [
        {
          "output_type": "stream",
          "name": "stdout",
          "text": [
            "120989000\n",
            "\n",
            "real\t0m0.425s\n",
            "user\t0m0.418s\n",
            "sys\t0m0.001s\n"
          ]
        }
      ],
      "source": [
        "!g++ max_pairwise_product_long.cpp -o max_pairwise_product_long\n",
        "!time ./max_pairwise_product_long < input13.txt"
      ]
    },
    {
      "cell_type": "code",
      "execution_count": 106,
      "metadata": {
        "id": "mxIVvm1RK8dB",
        "colab": {
          "base_uri": "https://localhost:8080/"
        },
        "outputId": "de14700b-64d6-44b8-edb5-cae21a097cfd"
      },
      "outputs": [
        {
          "output_type": "stream",
          "name": "stdout",
          "text": [
            "120989000\n",
            "\n",
            "real\t0m0.552s\n",
            "user\t0m0.549s\n",
            "sys\t0m0.002s\n"
          ]
        }
      ],
      "source": [
        "!g++ max_pairwise_product.cpp -o max_pairwise_product\n",
        "!time ./max_pairwise_product < input13.txt"
      ]
    },
    {
      "cell_type": "markdown",
      "metadata": {
        "id": "1Hsbd-uHOb_j"
      },
      "source": [
        "# Sort solution in C++ and Python\n",
        "\n",
        "$$ O(n \\lg n)$$\n",
        "\n",
        "**Which sorting algorithm is used in GCC?**\n",
        "https://stackoverflow.com/questions/7221257/which-sorting-algorithm-is-used-in-gcc\n",
        "\n",
        "* ...  the algorithm is called introsort, a combination between Insertionsort, Quicksort & Heapsort. ...\n",
        "\n",
        "**Introsort**\n",
        "https://en.wikipedia.org/wiki/Introsort\n",
        "\n",
        "Introsort or introspective sort is a hybrid sorting algorithm that provides both fast average performance and (asymptotically) optimal worst-case performance. It begins with quicksort, it switches to heapsort when the recursion depth exceeds a level based on (the logarithm of) the number of elements being sorted and it switches to insertion sort when the number of elements is below some threshold\n",
        "\n",
        "*   Class\tSorting algorithm\n",
        "*   Data structure\tArray\n",
        "*   Worst-case performance\t$O(n \\lg n)$\n",
        "*   Average performance\t$O(n \\lg n)$\n",
        "\n",
        "**Timsort**\n",
        "https://en.wikipedia.org/wiki/Timsort\n",
        "\n",
        "Timsort is a hybrid, stable sorting algorithm, derived from merge sort and insertion sort, designed to perform well on many kinds of real-world data. It was implemented by Tim Peters in 2002 for use in the Python programming language.\n",
        "\n",
        "*   Class\tSorting algorithm\n",
        "*   Data structure\tArray\n",
        "*   Worst-case performance\t$O(n \\lg n)$\n",
        "*   Best-case performance $O(n)$\n",
        "*   Average performance\t$O(n \\lg n)$\n",
        "*   Worst-case space complexity $O(n)$"
      ]
    },
    {
      "cell_type": "code",
      "source": [
        "%%writefile max_pairwise_product_with_sort.py\n",
        "#Python3\n",
        "if __name__ == \"__main__\":\n",
        "    n = int(input())\n",
        "    lista = list(map(int, input().split()))\n",
        "    lista.sort()\n",
        "    print(lista[n - 1] * lista[n - 2])"
      ],
      "metadata": {
        "id": "jnIRWyUEDu_C",
        "colab": {
          "base_uri": "https://localhost:8080/"
        },
        "outputId": "e37ba536-7070-4330-a591-f36c37dfa7fc"
      },
      "execution_count": 107,
      "outputs": [
        {
          "output_type": "stream",
          "name": "stdout",
          "text": [
            "Writing max_pairwise_product_with_sort.py\n"
          ]
        }
      ]
    },
    {
      "cell_type": "markdown",
      "metadata": {
        "id": "v8pdV9ABOb_k"
      },
      "source": [
        "Test with inputs 1 and 2\n",
        "\n"
      ]
    },
    {
      "cell_type": "code",
      "execution_count": 128,
      "metadata": {
        "id": "kdXAyLG4Ob_k",
        "colab": {
          "base_uri": "https://localhost:8080/"
        },
        "outputId": "ff6d99b2-8b27-481c-c745-3dd01213edc5"
      },
      "outputs": [
        {
          "output_type": "stream",
          "name": "stdout",
          "text": [
            "Writing MaxPairwiseProductWithSort.cpp\n"
          ]
        }
      ],
      "source": [
        "%%writefile MaxPairwiseProductWithSort.cpp\n",
        "#include <iostream>\n",
        "#include <vector>\n",
        "#include <algorithm>\n",
        "\n",
        "long long MaxPairwiseProductWithSort(std::vector<int>& numbers) {\n",
        "    int n = numbers.size();\n",
        "    std::sort(numbers.begin(), numbers.end());\n",
        "    return (long long)numbers[n - 1] * numbers[n - 2];\n",
        "}\n",
        "\n",
        "int main() {\n",
        "    int n;\n",
        "    std::cin >> n;\n",
        "    std::vector<int> numbers(n);\n",
        "    for (int i = 0; i < n; ++i) {\n",
        "        std::cin >> numbers[i];\n",
        "    }\n",
        "\n",
        "    std::cout << MaxPairwiseProductWithSort(numbers) << \"\\n\";\n",
        "    return 0;\n",
        "}"
      ]
    },
    {
      "cell_type": "code",
      "source": [
        "!g++ MaxPairwiseProductWithSort.cpp -o MaxPairwiseProductWithSort"
      ],
      "metadata": {
        "id": "4anwh41GYZH1"
      },
      "execution_count": 129,
      "outputs": []
    },
    {
      "cell_type": "code",
      "source": [
        "!./MaxPairwiseProductWithSort < input1.txt\n",
        "!./MaxPairwiseProductWithSort < input2.txt"
      ],
      "metadata": {
        "colab": {
          "base_uri": "https://localhost:8080/"
        },
        "id": "SB-4YC-BYTRc",
        "outputId": "3b208517-5bc9-4ba1-c462-e42b099c0833"
      },
      "execution_count": 130,
      "outputs": [
        {
          "output_type": "stream",
          "name": "stdout",
          "text": [
            "90\n",
            "90\n"
          ]
        }
      ]
    },
    {
      "cell_type": "code",
      "source": [
        "!python max_pairwise_product_with_sort.py < input1.txt\n",
        "!python max_pairwise_product_with_sort.py < input2.txt"
      ],
      "metadata": {
        "colab": {
          "base_uri": "https://localhost:8080/"
        },
        "id": "3ZWA1MtgZ4d8",
        "outputId": "55fca5ec-c802-4a1b-c29d-9f5601601c80"
      },
      "execution_count": 132,
      "outputs": [
        {
          "output_type": "stream",
          "name": "stdout",
          "text": [
            "90\n",
            "90\n"
          ]
        }
      ]
    },
    {
      "cell_type": "markdown",
      "metadata": {
        "id": "Sw-5X1q1Ob_k"
      },
      "source": [
        "Test and time it with input 3"
      ]
    },
    {
      "cell_type": "code",
      "execution_count": 133,
      "metadata": {
        "id": "ryHJ30WIOb_k",
        "colab": {
          "base_uri": "https://localhost:8080/"
        },
        "outputId": "c2c6d6dc-458c-4d11-fbeb-d03b8390461d"
      },
      "outputs": [
        {
          "output_type": "stream",
          "name": "stdout",
          "text": [
            "40000000000\n",
            "\n",
            "real\t0m0.004s\n",
            "user\t0m0.001s\n",
            "sys\t0m0.002s\n"
          ]
        }
      ],
      "source": [
        "!time ./MaxPairwiseProductWithSort < input3.txt"
      ]
    },
    {
      "cell_type": "code",
      "source": [
        "%%time\n",
        "!python max_pairwise_product_with_sort.py < input3.txt"
      ],
      "metadata": {
        "colab": {
          "base_uri": "https://localhost:8080/"
        },
        "id": "yqYn341KaNgQ",
        "outputId": "f42b781e-ce95-434e-c3d5-0ccc40c34d76"
      },
      "execution_count": 136,
      "outputs": [
        {
          "output_type": "stream",
          "name": "stdout",
          "text": [
            "40000000000\n",
            "CPU times: user 5.6 ms, sys: 1.52 ms, total: 7.12 ms\n",
            "Wall time: 106 ms\n"
          ]
        }
      ]
    },
    {
      "cell_type": "markdown",
      "metadata": {
        "id": "oJGdPl1HOb_k"
      },
      "source": [
        "20 stress tests"
      ]
    },
    {
      "cell_type": "code",
      "execution_count": 145,
      "metadata": {
        "id": "pXHtO1dEOb_k",
        "colab": {
          "base_uri": "https://localhost:8080/"
        },
        "outputId": "b9f97eb1-350d-4ecc-d4d1-576e5c61942e"
      },
      "outputs": [
        {
          "output_type": "stream",
          "name": "stdout",
          "text": [
            "Overwriting stress_tests.py\n"
          ]
        }
      ],
      "source": [
        "%%writefile stress_tests.py\n",
        "import random\n",
        "\n",
        "if __name__ == \"__main__\":\n",
        "    for i in range(20):\n",
        "        n = random.randint(2, 19)\n",
        "        lista = [random.randint(17, 25631) for i in range(n)]\n",
        "        lista.sort()\n",
        "        print(f\"n: {n} Product: {lista[n - 1] * lista[n - 2]}\")\n",
        "\n",
        "\n"
      ]
    },
    {
      "cell_type": "code",
      "execution_count": 146,
      "metadata": {
        "id": "iuByv4x1Ob_k",
        "colab": {
          "base_uri": "https://localhost:8080/"
        },
        "outputId": "c76ea506-c608-4359-e8f9-cdd61e63345e"
      },
      "outputs": [
        {
          "output_type": "stream",
          "name": "stdout",
          "text": [
            "n: 7 Product: 548310113\n",
            "n: 12 Product: 533446046\n",
            "n: 11 Product: 167874107\n",
            "n: 12 Product: 463226982\n",
            "n: 8 Product: 557450111\n",
            "n: 14 Product: 597609337\n",
            "n: 19 Product: 540017298\n",
            "n: 13 Product: 576302841\n",
            "n: 10 Product: 567275420\n",
            "n: 14 Product: 610231193\n",
            "n: 11 Product: 596345520\n",
            "n: 13 Product: 637484120\n",
            "n: 7 Product: 497504490\n",
            "n: 4 Product: 271963769\n",
            "n: 6 Product: 500399592\n",
            "n: 13 Product: 556437546\n",
            "n: 10 Product: 542533930\n",
            "n: 12 Product: 499093056\n",
            "n: 15 Product: 581365210\n",
            "n: 3 Product: 112538070\n"
          ]
        }
      ],
      "source": [
        "!python stress_tests.py"
      ]
    },
    {
      "cell_type": "code",
      "source": [
        "%%writefile stress_tests_C.cpp\n",
        "#include <iostream>\n",
        "#include <vector>\n",
        "#include <algorithm>\n",
        "#include <cstdlib> // For rand() and srand()\n",
        "#include <ctime>   // For time()\n",
        "\n",
        "\n",
        "long long MaxPairwiseProductWithSort(std::vector<int>& numbers) {\n",
        "    int n = numbers.size();\n",
        "    std::sort(numbers.begin(), numbers.end());\n",
        "    return (long long)numbers[n - 1] * numbers[n - 2];\n",
        "}\n",
        "\n",
        "int main() {\n",
        "    srand(time(0)); // Seed the random number generator\n",
        "\n",
        "    for (int i = 0; i < 20; ++i) {\n",
        "        int n = rand() % 10 + 2; // Generate a random number of elements (between 2 and 11)\n",
        "        std::vector<int> numbers(n);\n",
        "        for (int j = 0; j < n; ++j) {\n",
        "            numbers[j] = rand() % 1000; // Generate random numbers between 0 and 999\n",
        "        }\n",
        "\n",
        "        long long result = MaxPairwiseProductWithSort(numbers);\n",
        "        std::cout << \"Test case \" << i + 1 << \": n = \" << n << \", Max Pairwise Product = \" << result << std::endl;\n",
        "    }\n",
        "\n",
        "    return 0;\n",
        "}"
      ],
      "metadata": {
        "colab": {
          "base_uri": "https://localhost:8080/"
        },
        "id": "zbwTWCGqbdKb",
        "outputId": "ffb5a0ca-6431-4164-9146-460c4e1da8aa"
      },
      "execution_count": 148,
      "outputs": [
        {
          "output_type": "stream",
          "name": "stdout",
          "text": [
            "Writing stress_tests_C.cpp\n"
          ]
        }
      ]
    },
    {
      "cell_type": "code",
      "execution_count": 149,
      "metadata": {
        "id": "nTjxyTMtOb_l",
        "colab": {
          "base_uri": "https://localhost:8080/"
        },
        "outputId": "34114eb9-f0a7-41d7-e340-3f1574f83bad"
      },
      "outputs": [
        {
          "output_type": "stream",
          "name": "stdout",
          "text": [
            "Test case 1: n = 5, Max Pairwise Product = 407037\n",
            "Test case 2: n = 6, Max Pairwise Product = 736470\n",
            "Test case 3: n = 9, Max Pairwise Product = 763014\n",
            "Test case 4: n = 3, Max Pairwise Product = 605150\n",
            "Test case 5: n = 9, Max Pairwise Product = 536406\n",
            "Test case 6: n = 7, Max Pairwise Product = 717184\n",
            "Test case 7: n = 8, Max Pairwise Product = 756243\n",
            "Test case 8: n = 6, Max Pairwise Product = 790152\n",
            "Test case 9: n = 8, Max Pairwise Product = 858452\n",
            "Test case 10: n = 5, Max Pairwise Product = 746982\n",
            "Test case 11: n = 4, Max Pairwise Product = 733516\n",
            "Test case 12: n = 11, Max Pairwise Product = 751640\n",
            "Test case 13: n = 3, Max Pairwise Product = 381000\n",
            "Test case 14: n = 8, Max Pairwise Product = 740230\n",
            "Test case 15: n = 5, Max Pairwise Product = 321855\n",
            "Test case 16: n = 3, Max Pairwise Product = 527120\n",
            "Test case 17: n = 4, Max Pairwise Product = 382782\n",
            "Test case 18: n = 5, Max Pairwise Product = 439817\n",
            "Test case 19: n = 10, Max Pairwise Product = 969184\n",
            "Test case 20: n = 7, Max Pairwise Product = 533820\n"
          ]
        }
      ],
      "source": [
        "!g++ stress_tests_C.cpp -o stress_tests_C\n",
        "!./stress_tests_C"
      ]
    },
    {
      "cell_type": "markdown",
      "metadata": {
        "id": "2beTmWFPOb_k"
      },
      "source": [
        "Count executed instructions in code and verify with inputs 1,2 and 3\n"
      ]
    },
    {
      "cell_type": "code",
      "source": [
        "%%writefile count_operations.py\n",
        "import math\n",
        "\n",
        "if __name__ == \"__main__\":\n",
        "    inst=0\n",
        "    n = int(input())\n",
        "    inst+=1\n",
        "    lista = list(map(int, input().split()))\n",
        "    inst+= 4*n\n",
        "    lista.sort()\n",
        "    inst+=  n * math.log2(n)\n",
        "    print(lista[n - 1] * lista[n - 2])\n",
        "    inst+=1\n",
        "    print(f\"Instrucciones ejecutadas: {int(inst)}\\n\")"
      ],
      "metadata": {
        "id": "fLztHReKaGFq",
        "colab": {
          "base_uri": "https://localhost:8080/"
        },
        "outputId": "8ef4c903-6179-4692-d0db-64f1e377285a"
      },
      "execution_count": 154,
      "outputs": [
        {
          "output_type": "stream",
          "name": "stdout",
          "text": [
            "Overwriting count_operations.py\n"
          ]
        }
      ]
    },
    {
      "cell_type": "code",
      "source": [
        "!python count_operations.py < input1.txt\n",
        "!python count_operations.py < input2.txt\n",
        "!python count_operations.py < input3.txt"
      ],
      "metadata": {
        "colab": {
          "base_uri": "https://localhost:8080/"
        },
        "id": "6UyFu8hKcsjB",
        "outputId": "2e879a64-3ab9-41b3-8350-4ffeee7005b9"
      },
      "execution_count": 155,
      "outputs": [
        {
          "output_type": "stream",
          "name": "stdout",
          "text": [
            "90\n",
            "Instrucciones ejecutadas: 75\n",
            "\n",
            "90\n",
            "Instrucciones ejecutadas: 75\n",
            "\n",
            "40000000000\n",
            "Instrucciones ejecutadas: 41\n",
            "\n"
          ]
        }
      ]
    },
    {
      "cell_type": "code",
      "source": [
        "%%writefile count_operations_C.cpp\n",
        "#include <iostream>\n",
        "#include <vector>\n",
        "#include <algorithm>\n",
        "#include\n",
        "\n",
        "long long MaxPairwiseProductWithSort(std::vector<int>& numbers, long long& execints) {\n",
        "    int n = numbers.size();\n",
        "    execints++;\n",
        "    std::sort(numbers.begin(), numbers.end());\n",
        "    execints += n * log2(n); // Approximate number of operations for sort\n",
        "    execints += 2; // Accessing elements\n",
        "    return (long long)numbers[n - 1] * numbers[n - 2];\n",
        "}\n",
        "\n",
        "int main() {\n",
        "    long long execints = 0;\n",
        "    int n;\n",
        "    std::cin >> n;\n",
        "    execints++;\n",
        "    std::vector<int> numbers(n);\n",
        "    execints += n;\n",
        "    for (int i = 0; i < n; ++i) {\n",
        "        std::cin >> numbers[i];\n",
        "        execints += 2;\n",
        "    }\n",
        "\n",
        "    long long result = MaxPairwiseProductWithSort(numbers, execints);\n",
        "    std::cout << result << \"\\n\";\n",
        "    std::cout << \"Number of instructions: \" << execints << std::endl;\n",
        "    return 0;\n",
        "}"
      ],
      "metadata": {
        "colab": {
          "base_uri": "https://localhost:8080/"
        },
        "id": "pxTVGtOcdPIn",
        "outputId": "f5c926ab-4cfb-4319-e525-e7550ef9ed0c"
      },
      "execution_count": 162,
      "outputs": [
        {
          "output_type": "stream",
          "name": "stdout",
          "text": [
            "Overwriting count_operations_C.cpp\n"
          ]
        }
      ]
    },
    {
      "cell_type": "code",
      "source": [
        "!g++ count_operations_C.cpp -o count_operations_C"
      ],
      "metadata": {
        "id": "_LqBSFPbdbG6"
      },
      "execution_count": 163,
      "outputs": []
    },
    {
      "cell_type": "code",
      "source": [
        "!./count_operations_C < input1.txt\n",
        "!./count_operations_C < input2.txt\n",
        "!./count_operations_C < input3.txt"
      ],
      "metadata": {
        "colab": {
          "base_uri": "https://localhost:8080/"
        },
        "id": "Rp0u7LtAfFC4",
        "outputId": "8827848c-6a84-41f4-a72b-b84946c92731"
      },
      "execution_count": 166,
      "outputs": [
        {
          "output_type": "stream",
          "name": "stdout",
          "text": [
            "90\n",
            "Number of instructions: 67\n",
            "90\n",
            "Number of instructions: 67\n",
            "40000000000\n",
            "Number of instructions: 37\n"
          ]
        }
      ]
    },
    {
      "cell_type": "markdown",
      "metadata": {
        "id": "x2CXhkwTOb_l"
      },
      "source": [
        "Calculate estimated time by instruction and number of instructions by second"
      ]
    },
    {
      "cell_type": "code",
      "source": [
        "\n",
        "\n",
        "%%writefile max_pairwise_product_with_sort_and_instructions_with_time_and_IbS.py\n",
        "#Python3\n",
        "import math\n",
        "import time\n",
        "if __name__ == \"__main__\":\n",
        "    inicio = time.time()\n",
        "    inst=0\n",
        "    n = int(input())\n",
        "    inst+=1\n",
        "    lista = list(map(int, input().split()))\n",
        "    inst+= 4*n\n",
        "    lista.sort()\n",
        "    inst+=  n * math.log2(n)\n",
        "    print(lista[n - 1] * lista[n - 2])\n",
        "    inst+=1\n",
        "    print(f\"Instrucciones ejecutadas: {int(inst)}\")\n",
        "    fin = time.time()\n",
        "    tiempo_total = fin - inicio\n",
        "    instructionTime = tiempo_total/inst\n",
        "    instructionBySecond= inst/tiempo_total\n",
        "\n",
        "    print(f\"Tiempo total de ejecución: {tiempo_total*1000} milisegundos\")\n",
        "    print(f\"Tiempo estimado de cada instruccion: {instructionTime*1000} milisegundos\")\n",
        "    print(f\"Instrucciones por segundo: {int(instructionBySecond)} \")\n",
        "\n"
      ],
      "metadata": {
        "colab": {
          "base_uri": "https://localhost:8080/"
        },
        "id": "1whz8HPRgFfD",
        "outputId": "4fdb49e7-fdbb-4600-fd0b-4f09d835a396"
      },
      "execution_count": 168,
      "outputs": [
        {
          "output_type": "stream",
          "name": "stdout",
          "text": [
            "Writing max_pairwise_product_with_sort_and_instructions_with_time_and_IbS.py\n"
          ]
        }
      ]
    },
    {
      "cell_type": "code",
      "source": [
        "!python max_pairwise_product_with_sort_and_instructions_with_time_and_IbS.py < input13.txt"
      ],
      "metadata": {
        "colab": {
          "base_uri": "https://localhost:8080/"
        },
        "id": "uxy9ifYLgXe7",
        "outputId": "5fd4f30b-8c2b-464e-f61c-6399b4715f76"
      },
      "execution_count": 169,
      "outputs": [
        {
          "output_type": "stream",
          "name": "stdout",
          "text": [
            "120989000\n",
            "Instrucciones ejecutadas: 191679\n",
            "Tiempo total de ejecución: 2.4623870849609375 milisegundos\n",
            "Tiempo estimado de cada instruccion: 1.2846385198091028e-05 milisegundos\n",
            "Instrucciones por segundo: 77842909 \n"
          ]
        }
      ]
    },
    {
      "cell_type": "markdown",
      "source": [
        "### Estimate and verify the maximun n that can be solved in 1 second"
      ],
      "metadata": {
        "id": "CcgDYDQuaFeH"
      }
    },
    {
      "cell_type": "code",
      "source": [
        "import time\n",
        "import random\n",
        "n = 0 #numero de instrucciones\n",
        "\n",
        "def instruction(numbers):\n",
        "    m = len(numbers)\n",
        "    biggest_1 = float('-inf')\n",
        "    biggest_2 = float('-inf')\n",
        "    global n\n",
        "    n += 3\n",
        "\n",
        "    for i in range(m):\n",
        "        new = numbers[i]\n",
        "        temp = biggest_1\n",
        "        n += 2\n",
        "        if new > biggest_1:\n",
        "            biggest_2 = biggest_1\n",
        "            biggest_1 = new\n",
        "            n += 2\n",
        "        if temp > biggest_2:\n",
        "            biggest_2 = temp\n",
        "            n += 1\n",
        "        n += 2\n",
        "    return n\n",
        "# Ejecutar la función y medir el tiempo de ejecución\n",
        "start_time = time.time()\n",
        "numbers = [random.randint(1, 100) for _ in range(10)]\n",
        "instruction = instruction(numbers) # Suponiendo que 'numbers' es una lista válida\n",
        "end_time = time.time()\n",
        "\n",
        "# Calcular el número de instrucciones por segundo\n",
        "elapsed_time = end_time - start_time\n",
        "instructions_per_second = instruction / elapsed_time\n",
        "#print(start_time)\n",
        "#print(end_time)\n",
        "print(f\"Número de instrucciones por segundo: {instructions_per_second}\")"
      ],
      "metadata": {
        "colab": {
          "base_uri": "https://localhost:8080/"
        },
        "id": "klLvFsBOgbE1",
        "outputId": "422794e5-b2a9-4240-b213-aec3ef6c37bb"
      },
      "execution_count": 182,
      "outputs": [
        {
          "output_type": "stream",
          "name": "stdout",
          "text": [
            "Número de instrucciones por segundo: 189769.9870729455\n"
          ]
        }
      ]
    },
    {
      "cell_type": "markdown",
      "metadata": {
        "id": "VMKC5duEOQfk"
      },
      "source": [
        "## Efficient solution with largest and second-largest in an list, array or vector in C++ and Python\n",
        "\n",
        " $$T(n) < 10 n  = O(n)$$\n",
        "\n",
        "\n",
        "\n"
      ]
    },
    {
      "cell_type": "markdown",
      "metadata": {
        "id": "nLcKBwbU0QsE"
      },
      "source": [
        "Add in each line a coment with the number of intstrcution that are executed in that line"
      ]
    },
    {
      "cell_type": "code",
      "execution_count": 185,
      "metadata": {
        "id": "knls5Fh3NSt_",
        "colab": {
          "base_uri": "https://localhost:8080/"
        },
        "outputId": "bc6af20b-2e7b-42b7-8a18-a7d190d566ce"
      },
      "outputs": [
        {
          "output_type": "stream",
          "name": "stdout",
          "text": [
            "Writing efficientSolution.py\n"
          ]
        }
      ],
      "source": [
        "%%writefile efficientSolution.py\n",
        "\n",
        "def efficientSolution(numbers):  # 1 instrucción para definir la función\n",
        "    largest = 0  # 1 instrucción para asignar el valor 0 a largest\n",
        "    secondLargest = 0  # 1 instrucción para asignar el valor 0 a secondLargest\n",
        "    for i in numbers:  # 1 instrucción para iniciar el bucle\n",
        "        if i > largest:  # 1 instrucción para la comparación i > largest\n",
        "            secondLargest = largest  # 1 instrucción para asignar largest a secondLargest\n",
        "            largest = i  # 1 instrucción para asignar i a largest\n",
        "        elif i > secondLargest:  # 1 instrucción para la comparación i > secondLargest\n",
        "            secondLargest = i  # 1 instrucción para asignar i a secondLargest\n",
        "\n",
        "    result = secondLargest * largest  # 1 instrucción para la multiplicación y asignación a result\n",
        "    return result  # 1 instrucción para retornar el resultado\n",
        "\n",
        "n = int(input())  # 1 instrucción para leer la entrada y convertirla a entero\n",
        "numbers = [int(i) for i in input().split()]  # 2 instrucciones: leer entrada y convertir a lista de enteros\n",
        "print(efficientSolution(numbers))  # 1 instrucción para llamar a la función y mostrar el resultado"
      ]
    },
    {
      "cell_type": "markdown",
      "metadata": {
        "id": "-JCijbWxNSii"
      },
      "source": [
        "Test with inputs 1 and 2\n",
        "\n"
      ]
    },
    {
      "cell_type": "code",
      "execution_count": 186,
      "metadata": {
        "id": "TrTGAfqlNVXT",
        "colab": {
          "base_uri": "https://localhost:8080/"
        },
        "outputId": "c1658f0f-afde-48bc-9c28-49212f400174"
      },
      "outputs": [
        {
          "output_type": "stream",
          "name": "stdout",
          "text": [
            "90\n",
            "90\n"
          ]
        }
      ],
      "source": [
        "!python3 efficientSolution.py < input1.txt\n",
        "!python3 efficientSolution.py < input2.txt"
      ]
    },
    {
      "cell_type": "markdown",
      "metadata": {
        "id": "PRX51wADNR8b"
      },
      "source": [
        "Test and time it with input 3"
      ]
    },
    {
      "cell_type": "code",
      "execution_count": 187,
      "metadata": {
        "id": "v4z7-Is_NRt7",
        "colab": {
          "base_uri": "https://localhost:8080/"
        },
        "outputId": "3b600d7d-a0a1-424f-983f-09dd4b74829d"
      },
      "outputs": [
        {
          "output_type": "stream",
          "name": "stdout",
          "text": [
            "40000000000\n",
            "\n",
            "real\t0m0.148s\n",
            "user\t0m0.039s\n",
            "sys\t0m0.012s\n"
          ]
        }
      ],
      "source": [
        "!time python3 efficientSolution.py < input3.txt"
      ]
    },
    {
      "cell_type": "markdown",
      "metadata": {
        "id": "rpdfs0_TNZJf"
      },
      "source": [
        "20 stress tests"
      ]
    },
    {
      "cell_type": "code",
      "execution_count": 197,
      "metadata": {
        "id": "Lu4tYcKzNcTT",
        "colab": {
          "base_uri": "https://localhost:8080/"
        },
        "outputId": "f5850de0-4474-4d06-ae53-d7b56beeca16"
      },
      "outputs": [
        {
          "output_type": "stream",
          "name": "stdout",
          "text": [
            "Running stress test 1 with n = 1788651\n",
            "Running stress test 2 with n = 3607814\n",
            "Running stress test 3 with n = 3276867\n",
            "Running stress test 4 with n = 263635\n",
            "Running stress test 5 with n = 777592\n",
            "Running stress test 6 with n = 2249349\n",
            "Running stress test 7 with n = 159428\n",
            "Running stress test 8 with n = 401487\n",
            "Running stress test 9 with n = 1335682\n",
            "Running stress test 10 with n = 1715743\n",
            "Running stress test 11 with n = 2122237\n",
            "Running stress test 12 with n = 4133795\n",
            "Running stress test 13 with n = 3428032\n",
            "Running stress test 14 with n = 652350\n",
            "Running stress test 15 with n = 1598675\n",
            "Running stress test 16 with n = 3172278\n",
            "Running stress test 17 with n = 1428782\n",
            "Running stress test 18 with n = 1254144\n",
            "Running stress test 19 with n = 1826434\n",
            "Running stress test 20 with n = 3148109\n"
          ]
        }
      ],
      "source": [
        "# prompt: write a function that generates 20 stress tests for the efficienSolution.py file\n",
        "\n",
        "import random\n",
        "\n",
        "def generate_stress_test(n):\n",
        "    numbers = [random.randint(-2**32,2**32) for _ in range(n)]\n",
        "    return numbers\n",
        "\n",
        "def main():\n",
        "    for i in range(20):\n",
        "        n = random.randint(2, 2**22)  # Vary the input size\n",
        "        numbers = generate_stress_test(n)\n",
        "\n",
        "        # Construct the input string\n",
        "        input_str = f\"{n}\\n\"\n",
        "        input_str += \" \".join(map(str, numbers)) + \"\\n\"\n",
        "\n",
        "        # Write the input to a file (optional, for debugging)\n",
        "        #with open(f\"stress_test_{i}.txt\", \"w\") as f:\n",
        "        #    f.write(input_str)\n",
        "\n",
        "        # Run the efficientSolution.py script with this input\n",
        "        print(f\"Running stress test {i + 1} with n = {n}\")\n",
        "        # Uncomment these lines to run efficientSolution.py with each stress test\n",
        "        # Use a shell command to redirect the input string\n",
        "        #!python efficientSolution.py <<< \"$input_str\"\n",
        "\n",
        "if __name__ == \"__main__\":\n",
        "    main()"
      ]
    },
    {
      "cell_type": "markdown",
      "metadata": {
        "id": "L8U4151JNbxk"
      },
      "source": [
        "Count executed instructions in code and verify with inputs 1,2 and 3\n"
      ]
    },
    {
      "cell_type": "code",
      "execution_count": 198,
      "metadata": {
        "id": "dh85RM8vNhFz",
        "colab": {
          "base_uri": "https://localhost:8080/"
        },
        "outputId": "562878c1-b287-4b70-e4dd-5d40baf193c7"
      },
      "outputs": [
        {
          "output_type": "stream",
          "name": "stdout",
          "text": [
            "Writing efficientSolutionexcec.py\n"
          ]
        }
      ],
      "source": [
        "\n",
        "%%writefile efficientSolutionexcec.py\n",
        "exceintspy= 0\n",
        "def efficientSolution(numbers):\n",
        "    global exceintspy\n",
        "    largest = 0\n",
        "    exceintspy+=1\n",
        "    secondLargest = 0\n",
        "    exceintspy+=1\n",
        "    exceintspy+=1\n",
        "    for i in numbers:\n",
        "        exceintspy+=2\n",
        "        exceintspy+=1\n",
        "        if i > largest:\n",
        "            secondLargest = largest\n",
        "            exceintspy+=1\n",
        "            largest = i\n",
        "            exceintspy+=1\n",
        "        elif i > secondLargest:\n",
        "            secondLargest = i\n",
        "            exceintspy+=1\n",
        "    exceintspy+=1\n",
        "    result= secondLargest * largest\n",
        "    exceintspy+=2 # multiplciation instruction\n",
        "    return result\n",
        "\n",
        "n = int(input())\n",
        "exceintspy+=1\n",
        "numbers = [int(i) for i in input().split()]\n",
        "exceintspy+=n\n",
        "print(efficientSolution(numbers))\n",
        "exceintspy+=1\n",
        "print(f\"Execution Times: {exceintspy}\")"
      ]
    },
    {
      "cell_type": "code",
      "execution_count": 199,
      "metadata": {
        "id": "kwe3G1O3Nz1w",
        "colab": {
          "base_uri": "https://localhost:8080/"
        },
        "outputId": "7af0a9b6-9340-4398-ac95-58fa7c03c917"
      },
      "outputs": [
        {
          "output_type": "stream",
          "name": "stdout",
          "text": [
            "Overwriting run_all_test.sh\n"
          ]
        }
      ],
      "source": [
        "%%writefile run_all_test.sh\n",
        "for i in {1..3}\n",
        "do\n",
        "    echo \"Input #$i\"\n",
        "    python3 efficientSolutionexcec.py < input$i.txt\n",
        "done"
      ]
    },
    {
      "cell_type": "code",
      "source": [
        "!chmod u+x run_all_test.sh\n",
        "!./run_all_test.sh"
      ],
      "metadata": {
        "colab": {
          "base_uri": "https://localhost:8080/"
        },
        "id": "ddHiROoml945",
        "outputId": "405b568b-ceab-4156-cf54-b624e21ad790"
      },
      "execution_count": 200,
      "outputs": [
        {
          "output_type": "stream",
          "name": "stdout",
          "text": [
            "Input #1\n",
            "90\n",
            "Execution Times: 68\n",
            "Input #2\n",
            "90\n",
            "Execution Times: 51\n",
            "Input #3\n",
            "40000000000\n",
            "Execution Times: 40\n"
          ]
        }
      ]
    },
    {
      "cell_type": "markdown",
      "metadata": {
        "id": "K6ybgCmpNygr"
      },
      "source": [
        "Calculate estimated time by instruction and number of instructions by second"
      ]
    },
    {
      "cell_type": "code",
      "source": [
        "!time python3 efficientSolutionexcec.py< input11.txt > ptest.txt\n",
        "!grep -xvFf output11.txt ptest.txt"
      ],
      "metadata": {
        "colab": {
          "base_uri": "https://localhost:8080/"
        },
        "id": "2iwl26L2mA4U",
        "outputId": "2c28426f-cfcb-471e-c9d2-b75732b12ad8"
      },
      "execution_count": 201,
      "outputs": [
        {
          "output_type": "stream",
          "name": "stdout",
          "text": [
            "\n",
            "real\t0m0.162s\n",
            "user\t0m0.131s\n",
            "sys\t0m0.029s\n",
            "Execution Times: 1200008\n"
          ]
        }
      ]
    },
    {
      "cell_type": "markdown",
      "source": [
        "### Estimate and verify the maximun n that can be solved in 1 second"
      ],
      "metadata": {
        "id": "v8GY6n_ZaJ4P"
      }
    },
    {
      "cell_type": "code",
      "source": [
        "\n",
        "\n",
        "%%writefile efficientSolution.py\n",
        "def efficientSolution(numbers):\n",
        "    largest = 0                     #1\n",
        "    secondLargest = 0               #1\n",
        "    for i in numbers:               #2+2n\n",
        "        if i > largest:\n",
        "            secondLargest = largest\n",
        "            largest = i\n",
        "        elif i > secondLargest:\n",
        "            secondLargest = i\n",
        "    #WORST CASE 3n\n",
        "    result= secondLargest * largest    #3\n",
        "    return result\n",
        "\n",
        "n = int(input())                            #1\n",
        "numbers = [int(i) for i in input().split()] #n\n",
        "print(efficientSolution(numbers))           #1\n",
        "\n"
      ],
      "metadata": {
        "id": "z3xjzg1YaKk6",
        "colab": {
          "base_uri": "https://localhost:8080/"
        },
        "outputId": "5595e033-cd8e-4b64-d4b5-fad81201b682"
      },
      "execution_count": 202,
      "outputs": [
        {
          "output_type": "stream",
          "name": "stdout",
          "text": [
            "Overwriting efficientSolution.py\n"
          ]
        }
      ]
    },
    {
      "cell_type": "code",
      "source": [
        "!python3 efficientSolution.py < input13.txt"
      ],
      "metadata": {
        "colab": {
          "base_uri": "https://localhost:8080/"
        },
        "id": "kHX9GItBmNn4",
        "outputId": "3aaeca3b-d220-4436-97c3-2503a211eec3"
      },
      "execution_count": 203,
      "outputs": [
        {
          "output_type": "stream",
          "name": "stdout",
          "text": [
            "120989000\n"
          ]
        }
      ]
    },
    {
      "cell_type": "markdown",
      "metadata": {
        "id": "sUpIWcykOGpT"
      },
      "source": [
        "## Super efficient solution\n",
        "\n",
        "Whitout storing the list in memory, only stpring the largest and second largest and whitout calling a function, add in each line a coment with the number of instructions that are executed in that line\n",
        "\n",
        "in C++ and Python\n",
        "\n",
        "\n",
        " $$T(n) < 13 n  = O(n)$$\n"
      ]
    },
    {
      "cell_type": "code",
      "execution_count": 204,
      "metadata": {
        "id": "hBLt_xBQLy8E",
        "colab": {
          "base_uri": "https://localhost:8080/"
        },
        "outputId": "1004cbda-05d2-47c2-d633-120eca15d791"
      },
      "outputs": [
        {
          "output_type": "stream",
          "name": "stdout",
          "text": [
            "Writing max_efficient.py\n"
          ]
        }
      ],
      "source": [
        "%%writefile max_efficient.py\n",
        "\n",
        "def max_pairwise_efficient():\n",
        "    n = int(input())\n",
        "    values = input().split()\n",
        "    biggest_1 = float('-inf')\n",
        "    biggest_2 = float('-inf')\n",
        "\n",
        "    for new in map(int, values):\n",
        "        temp = biggest_1\n",
        "        if new > biggest_1:\n",
        "            biggest_2 = biggest_1\n",
        "            biggest_1 = new\n",
        "        if temp > biggest_2:\n",
        "            biggest_2 = temp\n",
        "\n",
        "    return biggest_1 * biggest_2\n",
        "\n",
        "if __name__ == '__main__':\n",
        "    print(max_pairwise_efficient())"
      ]
    },
    {
      "cell_type": "code",
      "source": [
        "!python3 max_efficient.py"
      ],
      "metadata": {
        "colab": {
          "base_uri": "https://localhost:8080/"
        },
        "id": "YRmfO0FimX-l",
        "outputId": "9389d5c7-57ad-40f0-bf6f-ed1c49e7295f"
      },
      "execution_count": 205,
      "outputs": [
        {
          "output_type": "stream",
          "name": "stdout",
          "text": [
            "5\n",
            "4 5 63 3\n",
            "3969\n"
          ]
        }
      ]
    },
    {
      "cell_type": "markdown",
      "metadata": {
        "id": "683gc3roHqzb"
      },
      "source": [
        "Test with inputs 1 and 2\n",
        "\n",
        "\n"
      ]
    },
    {
      "cell_type": "code",
      "execution_count": 206,
      "metadata": {
        "id": "b7d4LA8OIc2_",
        "colab": {
          "base_uri": "https://localhost:8080/"
        },
        "outputId": "fa799576-c4c7-4da1-e774-494908cd305a"
      },
      "outputs": [
        {
          "output_type": "stream",
          "name": "stdout",
          "text": [
            "Writing max_efficient2.py\n"
          ]
        }
      ],
      "source": [
        "%%writefile max_efficient2.py\n",
        "\n",
        "def max_pairwise_efficient():\n",
        "    n = int(input())\n",
        "    values = input().split()\n",
        "    biggest_1 = float('-inf')\n",
        "    biggest_2 = float('-inf')\n",
        "\n",
        "    for new in map(int, values):\n",
        "        temp = biggest_1\n",
        "        if new > biggest_1:\n",
        "            biggest_2 = biggest_1\n",
        "            biggest_1 = new\n",
        "        elif temp > biggest_2:\n",
        "            biggest_2 = temp\n",
        "\n",
        "    return biggest_1 * biggest_2\n",
        "\n",
        "if __name__ == '__main__':\n",
        "    print(max_pairwise_efficient())"
      ]
    },
    {
      "cell_type": "code",
      "source": [
        "%%writefile run_all_test2.sh\n",
        "#comparing all the executions to check the differences between the outputs\n",
        "for i in {1..2}\n",
        "do\n",
        "    python3 max_efficient2.py < inputi.txt\n",
        "done"
      ],
      "metadata": {
        "colab": {
          "base_uri": "https://localhost:8080/"
        },
        "id": "29CFML3Nmigc",
        "outputId": "ff354293-c427-44ce-d713-4b7436a0faf5"
      },
      "execution_count": 207,
      "outputs": [
        {
          "output_type": "stream",
          "name": "stdout",
          "text": [
            "Writing run_all_test2.sh\n"
          ]
        }
      ]
    },
    {
      "cell_type": "code",
      "source": [
        "!chmod u+x run_all_test2.sh\n",
        "!./run_all_test.sh"
      ],
      "metadata": {
        "colab": {
          "base_uri": "https://localhost:8080/"
        },
        "id": "Tz3Ypmwomj-D",
        "outputId": "d243d87d-1b53-488e-e206-f6923eb831cd"
      },
      "execution_count": 208,
      "outputs": [
        {
          "output_type": "stream",
          "name": "stdout",
          "text": [
            "Input #1\n",
            "90\n",
            "Execution Times: 68\n",
            "Input #2\n",
            "90\n",
            "Execution Times: 51\n",
            "Input #3\n",
            "40000000000\n",
            "Execution Times: 40\n"
          ]
        }
      ]
    },
    {
      "cell_type": "markdown",
      "metadata": {
        "id": "36Ugn1odIeJz"
      },
      "source": [
        "Test and time it with input 3"
      ]
    },
    {
      "cell_type": "code",
      "execution_count": 209,
      "metadata": {
        "id": "jDyMbCnxHqSN",
        "colab": {
          "base_uri": "https://localhost:8080/"
        },
        "outputId": "07eefce9-ce94-45a0-d3e2-d24dc1a70dcd"
      },
      "outputs": [
        {
          "output_type": "stream",
          "name": "stdout",
          "text": [
            "\n",
            "real\t0m0.035s\n",
            "user\t0m0.023s\n",
            "sys\t0m0.012s\n"
          ]
        }
      ],
      "source": [
        "!time python3 max_efficient2.py < input3.txt > pythonOutput3.txt"
      ]
    },
    {
      "cell_type": "markdown",
      "metadata": {
        "id": "bhqiKQG6fjKM"
      },
      "source": [
        "20 stress tests"
      ]
    },
    {
      "cell_type": "code",
      "execution_count": 210,
      "metadata": {
        "id": "2KsiXKhALzwm",
        "colab": {
          "base_uri": "https://localhost:8080/"
        },
        "outputId": "f74bc268-3d93-4821-b27d-eb89eeb5e811"
      },
      "outputs": [
        {
          "output_type": "stream",
          "name": "stdout",
          "text": [
            "Testing with the list: [785704541, 701924234, 316632882, 105139023, 22856322, 383485081, 254437908]\n",
            "The efficient solution gives the result 617331625748020681\n",
            "Testing with the list: [488984158, 552631179, 4969466, 365688678, 32251994, 715134744, 897647723]\n",
            "The efficient solution gives the result 641939074589787912\n",
            "Testing with the list: [694942766, 439149915, 241353918, 549203566, 600867881, 694084771, 123684180, 347917114, 648774472]\n",
            "The efficient solution gives the result 482945448015730756\n",
            "Testing with the list: [496475578, 13874464, 403356525, 804387868, 446023613, 839160729, 985026062, 614222230, 347024726]\n",
            "The efficient solution gives the result 970276342819227844\n",
            "Testing with the list: [541792467, 929672799, 252331012, 903680298, 735293761, 148511958, 614293522, 391245022, 254225523, 814367548, 30782250]\n",
            "The efficient solution gives the result 864291513200494401\n",
            "Testing with the list: [5791925, 986555849]\n",
            "The efficient solution gives the result 5714057485719325\n",
            "Testing with the list: [902064472, 713489395, 459611540, 887583833, 709490415, 650363091, 913101451, 856065200, 192580645, 556910988, 300796104]\n",
            "The efficient solution gives the result 833754259818305401\n",
            "Testing with the list: [715431620, 245901653, 611658899, 801948765, 81173513]\n",
            "The efficient solution gives the result 643121821685025225\n",
            "Testing with the list: [951127275, 874407198, 684897143]\n",
            "The efficient solution gives the result 904643093248925625\n",
            "Testing with the list: [40969479, 664110303, 356973335, 18909918, 485932665, 524511548, 34757482]\n",
            "The efficient solution gives the result 441042494550751809\n",
            "Testing with the list: [764596148, 739023207, 628859362, 793012199]\n",
            "The efficient solution gives the result 606334072672409452\n",
            "Testing with the list: [538672904, 147641363]\n",
            "The efficient solution gives the result 290168497503793216\n",
            "Testing with the list: [575151333, 694062507, 205706006, 700611579, 602187026, 500927173, 372998438, 989250811, 768980677]\n",
            "The efficient solution gives the result 978617167064157721\n",
            "Testing with the list: [754421623, 115225783, 285633388, 371786021, 952738790, 707106184, 18542744, 858570716, 495058434]\n",
            "The efficient solution gives the result 907711201970664100\n",
            "Testing with the list: [584305230, 705326922, 810778063, 461973167, 833515744, 441314659, 401954814, 568844775, 861576538, 55255330, 786802927]\n",
            "The efficient solution gives the result 742314130832065444\n",
            "Testing with the list: [184715895, 724361921, 401980108, 241143859]\n",
            "The efficient solution gives the result 524700192594810241\n",
            "Testing with the list: [30011976, 273547786, 364225922, 540153437, 359568920, 790950016, 959739281, 2226136, 18566941]\n",
            "The efficient solution gives the result 921099487494396961\n",
            "Testing with the list: [992723046, 554701383, 52900355, 152299406, 913585730, 676074398, 327536902, 923372507, 327251293, 655606290, 251516909, 24902906]\n",
            "The efficient solution gives the result 985499046059518116\n",
            "Testing with the list: [481113100, 28960631, 880487067]\n",
            "The efficient solution gives the result 423613862314277700\n",
            "Testing with the list: [680691670, 671271471, 616528780]\n",
            "The efficient solution gives the result 463341149607388900\n"
          ]
        }
      ],
      "source": [
        "import random\n",
        "\n",
        "def max_pairwise_efficient(numbers):\n",
        "    n = len(numbers)\n",
        "    biggest_1 = float('-inf')\n",
        "    biggest_2 = float('-inf')\n",
        "\n",
        "    for i in range(n):\n",
        "        new = numbers[i]\n",
        "        temp = biggest_1\n",
        "        if new > biggest_1:\n",
        "          biggest_2 = biggest_1\n",
        "          biggest_1 = new\n",
        "        if temp > biggest_2: biggest_2 = temp\n",
        "\n",
        "    return biggest_1 * biggest_2\n",
        "\n",
        "# 20 stress tests\n",
        "for _ in range(20):\n",
        "    n = random.randint(2, 12)  # Use a large n\n",
        "    numbers = [random.randint(1, 10**9) for _ in range(n)]  # Generate n random numbers between 1 and 10^9\n",
        "\n",
        "    print(f\"Testing with the list: {numbers}\")\n",
        "    print(f\"The efficient solution gives the result {max_pairwise_efficient(numbers)}\")\n"
      ]
    },
    {
      "cell_type": "markdown",
      "metadata": {
        "id": "fEXj8GHJH5p1"
      },
      "source": [
        "Count executed instructions in code and verify with inputs 1,2 and 3"
      ]
    },
    {
      "cell_type": "code",
      "execution_count": 211,
      "metadata": {
        "id": "LF1DHjKXIAsF",
        "colab": {
          "base_uri": "https://localhost:8080/"
        },
        "outputId": "645c6e0f-7faf-4563-e595-8e265188197e"
      },
      "outputs": [
        {
          "output_type": "stream",
          "name": "stdout",
          "text": [
            "Overwriting max_pairwise_efficient.py\n"
          ]
        }
      ],
      "source": [
        "%%writefile max_pairwise_efficient.py\n",
        "import random\n",
        "execints = 0\n",
        "\n",
        "def max_pairwise_efficient(numbers):\n",
        "    global execints\n",
        "    n = len(numbers)\n",
        "    biggest_1 = float('-inf')\n",
        "    biggest_2 = float('-inf')\n",
        "    execints += 3\n",
        "\n",
        "    for i in range(n):\n",
        "        new_number = numbers[i]\n",
        "        temp = biggest_1\n",
        "        execints += 2\n",
        "        if new_number > biggest_1:\n",
        "            biggest_2 = biggest_1\n",
        "            biggest_1 = new_number\n",
        "            execints += 2\n",
        "        if temp > biggest_2:\n",
        "            biggest_2 = temp\n",
        "            execints += 2\n",
        "        execints += 2\n",
        "\n",
        "    execints += 1\n",
        "    return biggest_1 * biggest_2\n",
        "\n",
        "if __name__ == '__main__':\n",
        "    n = int(input())\n",
        "    input_line = input()\n",
        "    numbers = list(map(int, input_line.split()))  # Divide la cadena en números y convierte cada uno a entero\n",
        "    max_pairwise_efficient(numbers)\n",
        "    execints += 1\n",
        "\n",
        "    print(\"El numero de instrucciones es:\", execints)"
      ]
    },
    {
      "cell_type": "code",
      "source": [
        "%%writefile run_all_test.sh\n",
        "for i in {1..3}\n",
        "do\n",
        "    echo \"Input #$i\"\n",
        "    python3 max_pairwise_efficient.py < input$i.txt\n",
        "done"
      ],
      "metadata": {
        "colab": {
          "base_uri": "https://localhost:8080/"
        },
        "id": "og1PA5K4m3ub",
        "outputId": "4f8f034a-0f6c-4313-e3e6-1992eb461e41"
      },
      "execution_count": 212,
      "outputs": [
        {
          "output_type": "stream",
          "name": "stdout",
          "text": [
            "Overwriting run_all_test.sh\n"
          ]
        }
      ]
    },
    {
      "cell_type": "code",
      "source": [
        "!chmod u+x run_all_test.sh\n",
        "!./run_all_test.sh"
      ],
      "metadata": {
        "colab": {
          "base_uri": "https://localhost:8080/"
        },
        "id": "VOPKeJKPm5sn",
        "outputId": "19f6fb2e-b0c0-48b7-9e2e-7bc4d8339fa5"
      },
      "execution_count": 214,
      "outputs": [
        {
          "output_type": "stream",
          "name": "stdout",
          "text": [
            "Input #1\n",
            "El numero de instrucciones es: 65\n",
            "Input #2\n",
            "El numero de instrucciones es: 49\n",
            "Input #3\n",
            "El numero de instrucciones es: 37\n"
          ]
        }
      ]
    },
    {
      "cell_type": "markdown",
      "metadata": {
        "id": "yae7sSm2IG9U"
      },
      "source": [
        "Calculate estimated time by instruction and number of instructions by second"
      ]
    },
    {
      "cell_type": "code",
      "execution_count": 215,
      "metadata": {
        "id": "suouY7BYL2dz",
        "colab": {
          "base_uri": "https://localhost:8080/"
        },
        "outputId": "2f0b49d0-a9ef-4a7c-8328-98731886475f"
      },
      "outputs": [
        {
          "output_type": "stream",
          "name": "stdout",
          "text": [
            "\n",
            "real\t0m0.274s\n",
            "user\t0m0.224s\n",
            "sys\t0m0.037s\n",
            "El numero de instrucciones es: 1200005\n",
            "7272757.575757575 tiempo por instrucción\n"
          ]
        }
      ],
      "source": [
        "!time python3 max_pairwise_efficient.py < input11.txt > pythonOutputSort11.txt\n",
        "!python3 max_pairwise_efficient.py < input11.txt\n",
        "num_inst_per_seg = 1200005/0.165\n",
        "print(f\"{num_inst_per_seg} tiempo por instrucción\")"
      ]
    },
    {
      "cell_type": "markdown",
      "source": [
        "## Perform 100 randomized automated tests in C++ and Python with a porgram  compares the answers,for the same 100 random input instances, of the super efficient solution $(T(n) < 10 n = O(n))$ against the sorting solution  $(T(n)  = O(n \\lg{n}))$,  if the answers are not the same stops and displays \"Error\" listing  the input and the two answers; if the 100 tests are completed without stoping displays \"Pass\"."
      ],
      "metadata": {
        "id": "4hHRQMXzW6oR"
      }
    },
    {
      "cell_type": "code",
      "source": [
        "%%writefile max_pairwise_super_efficient_against_sorting_stress_tests.py\n",
        "import random\n",
        "\n",
        "for i in range(100):\n",
        "  n = random.randint(2, 99)\n",
        "  numero_M = 0                                # 1\n",
        "  segundo_Numero_M = 0\n",
        "  lista = []\n",
        "  for j in range(n):\n",
        "    comp=random.randint(17, 25631)\n",
        "    lista.append(comp)\n",
        "    if comp > numero_M:                    # n\n",
        "      segundo_Numero_M = numero_M      # 0 o n\n",
        "      numero_M = comp                  # 0 o n\n",
        "    elif comp > segundo_Numero_M:           # n\n",
        "      segundo_Numero_M = comp             # 0 o n\n",
        "  lista.sort()\n",
        "  sol_sorting=lista[n - 1] * lista[n - 2]\n",
        "  sol_super_e = numero_M * segundo_Numero_M\n",
        "\n",
        "\n",
        "  if sol_sorting != sol_super_e:\n",
        "    print(\"Error\")\n",
        "    break\n",
        "  else:\n",
        "      print(f\"{i+1}. SUPER EFFICENT SOLITION: n= {n} Product= {numero_M * segundo_Numero_M}\")\n",
        "      print(f\"{i+1}. SORTING SOLUTION: n= {n} Product: {lista[n - 1] * lista[n - 2]}\")\n",
        "  if i==99:\n",
        "    print(\"Pass\")"
      ],
      "metadata": {
        "colab": {
          "base_uri": "https://localhost:8080/"
        },
        "id": "1pUAM2Upnzst",
        "outputId": "02acd497-8954-41cc-fb9c-e689e8620d12"
      },
      "execution_count": 216,
      "outputs": [
        {
          "output_type": "stream",
          "name": "stdout",
          "text": [
            "Writing max_pairwise_super_efficient_against_sorting_stress_tests.py\n"
          ]
        }
      ]
    },
    {
      "cell_type": "code",
      "source": [
        "!python max_pairwise_super_efficient_against_sorting_stress_tests.py"
      ],
      "metadata": {
        "colab": {
          "base_uri": "https://localhost:8080/"
        },
        "id": "N4ZDsPU9n1F-",
        "outputId": "7f78ad65-c504-4370-839c-4dd25557de32"
      },
      "execution_count": 217,
      "outputs": [
        {
          "output_type": "stream",
          "name": "stdout",
          "text": [
            "1. SUPER EFFICENT SOLITION: n= 33 Product= 614647572\n",
            "1. SORTING SOLUTION: n= 33 Product: 614647572\n",
            "2. SUPER EFFICENT SOLITION: n= 89 Product= 617100939\n",
            "2. SORTING SOLUTION: n= 89 Product: 617100939\n",
            "3. SUPER EFFICENT SOLITION: n= 68 Product= 613577430\n",
            "3. SORTING SOLUTION: n= 68 Product: 613577430\n",
            "4. SUPER EFFICENT SOLITION: n= 48 Product= 624780979\n",
            "4. SORTING SOLUTION: n= 48 Product: 624780979\n",
            "5. SUPER EFFICENT SOLITION: n= 92 Product= 631660134\n",
            "5. SORTING SOLUTION: n= 92 Product: 631660134\n",
            "6. SUPER EFFICENT SOLITION: n= 33 Product= 552767919\n",
            "6. SORTING SOLUTION: n= 33 Product: 552767919\n",
            "7. SUPER EFFICENT SOLITION: n= 94 Product= 646837473\n",
            "7. SORTING SOLUTION: n= 94 Product: 646837473\n",
            "8. SUPER EFFICENT SOLITION: n= 45 Product= 578644440\n",
            "8. SORTING SOLUTION: n= 45 Product: 578644440\n",
            "9. SUPER EFFICENT SOLITION: n= 19 Product= 487836480\n",
            "9. SORTING SOLUTION: n= 19 Product: 487836480\n",
            "10. SUPER EFFICENT SOLITION: n= 93 Product= 651601782\n",
            "10. SORTING SOLUTION: n= 93 Product: 651601782\n",
            "11. SUPER EFFICENT SOLITION: n= 84 Product= 644778064\n",
            "11. SORTING SOLUTION: n= 84 Product: 644778064\n",
            "12. SUPER EFFICENT SOLITION: n= 98 Product= 629123355\n",
            "12. SORTING SOLUTION: n= 98 Product: 629123355\n",
            "13. SUPER EFFICENT SOLITION: n= 30 Product= 575267260\n",
            "13. SORTING SOLUTION: n= 30 Product: 575267260\n",
            "14. SUPER EFFICENT SOLITION: n= 44 Product= 577914544\n",
            "14. SORTING SOLUTION: n= 44 Product: 577914544\n",
            "15. SUPER EFFICENT SOLITION: n= 62 Product= 642557401\n",
            "15. SORTING SOLUTION: n= 62 Product: 642557401\n",
            "16. SUPER EFFICENT SOLITION: n= 85 Product= 620854185\n",
            "16. SORTING SOLUTION: n= 85 Product: 620854185\n",
            "17. SUPER EFFICENT SOLITION: n= 24 Product= 614744278\n",
            "17. SORTING SOLUTION: n= 24 Product: 614744278\n",
            "18. SUPER EFFICENT SOLITION: n= 76 Product= 643119600\n",
            "18. SORTING SOLUTION: n= 76 Product: 643119600\n",
            "19. SUPER EFFICENT SOLITION: n= 94 Product= 646506146\n",
            "19. SORTING SOLUTION: n= 94 Product: 646506146\n",
            "20. SUPER EFFICENT SOLITION: n= 90 Product= 634508654\n",
            "20. SORTING SOLUTION: n= 90 Product: 634508654\n",
            "21. SUPER EFFICENT SOLITION: n= 82 Product= 638712729\n",
            "21. SORTING SOLUTION: n= 82 Product: 638712729\n",
            "22. SUPER EFFICENT SOLITION: n= 33 Product= 626713080\n",
            "22. SORTING SOLUTION: n= 33 Product: 626713080\n",
            "23. SUPER EFFICENT SOLITION: n= 19 Product= 575157006\n",
            "23. SORTING SOLUTION: n= 19 Product: 575157006\n",
            "24. SUPER EFFICENT SOLITION: n= 59 Product= 639158208\n",
            "24. SORTING SOLUTION: n= 59 Product: 639158208\n",
            "25. SUPER EFFICENT SOLITION: n= 66 Product= 616747834\n",
            "25. SORTING SOLUTION: n= 66 Product: 616747834\n",
            "26. SUPER EFFICENT SOLITION: n= 8 Product= 291519904\n",
            "26. SORTING SOLUTION: n= 8 Product: 291519904\n",
            "27. SUPER EFFICENT SOLITION: n= 19 Product= 599340330\n",
            "27. SORTING SOLUTION: n= 19 Product: 599340330\n",
            "28. SUPER EFFICENT SOLITION: n= 42 Product= 638231322\n",
            "28. SORTING SOLUTION: n= 42 Product: 638231322\n",
            "29. SUPER EFFICENT SOLITION: n= 8 Product= 485974705\n",
            "29. SORTING SOLUTION: n= 8 Product: 485974705\n",
            "30. SUPER EFFICENT SOLITION: n= 10 Product= 533502396\n",
            "30. SORTING SOLUTION: n= 10 Product: 533502396\n",
            "31. SUPER EFFICENT SOLITION: n= 16 Product= 495895608\n",
            "31. SORTING SOLUTION: n= 16 Product: 495895608\n",
            "32. SUPER EFFICENT SOLITION: n= 43 Product= 620436120\n",
            "32. SORTING SOLUTION: n= 43 Product: 620436120\n",
            "33. SUPER EFFICENT SOLITION: n= 43 Product= 629969600\n",
            "33. SORTING SOLUTION: n= 43 Product: 629969600\n",
            "34. SUPER EFFICENT SOLITION: n= 96 Product= 600771432\n",
            "34. SORTING SOLUTION: n= 96 Product: 600771432\n",
            "35. SUPER EFFICENT SOLITION: n= 22 Product= 611553960\n",
            "35. SORTING SOLUTION: n= 22 Product: 611553960\n",
            "36. SUPER EFFICENT SOLITION: n= 32 Product= 644566812\n",
            "36. SORTING SOLUTION: n= 32 Product: 644566812\n",
            "37. SUPER EFFICENT SOLITION: n= 8 Product= 420568863\n",
            "37. SORTING SOLUTION: n= 8 Product: 420568863\n",
            "38. SUPER EFFICENT SOLITION: n= 62 Product= 638677732\n",
            "38. SORTING SOLUTION: n= 62 Product: 638677732\n",
            "39. SUPER EFFICENT SOLITION: n= 55 Product= 580010002\n",
            "39. SORTING SOLUTION: n= 55 Product: 580010002\n",
            "40. SUPER EFFICENT SOLITION: n= 63 Product= 644023106\n",
            "40. SORTING SOLUTION: n= 63 Product: 644023106\n",
            "41. SUPER EFFICENT SOLITION: n= 90 Product= 615489238\n",
            "41. SORTING SOLUTION: n= 90 Product: 615489238\n",
            "42. SUPER EFFICENT SOLITION: n= 81 Product= 639223510\n",
            "42. SORTING SOLUTION: n= 81 Product: 639223510\n",
            "43. SUPER EFFICENT SOLITION: n= 52 Product= 635516998\n",
            "43. SORTING SOLUTION: n= 52 Product: 635516998\n",
            "44. SUPER EFFICENT SOLITION: n= 61 Product= 595571300\n",
            "44. SORTING SOLUTION: n= 61 Product: 595571300\n",
            "45. SUPER EFFICENT SOLITION: n= 75 Product= 647827864\n",
            "45. SORTING SOLUTION: n= 75 Product: 647827864\n",
            "46. SUPER EFFICENT SOLITION: n= 31 Product= 613900350\n",
            "46. SORTING SOLUTION: n= 31 Product: 613900350\n",
            "47. SUPER EFFICENT SOLITION: n= 70 Product= 647213856\n",
            "47. SORTING SOLUTION: n= 70 Product: 647213856\n",
            "48. SUPER EFFICENT SOLITION: n= 53 Product= 637705952\n",
            "48. SORTING SOLUTION: n= 53 Product: 637705952\n",
            "49. SUPER EFFICENT SOLITION: n= 65 Product= 632817775\n",
            "49. SORTING SOLUTION: n= 65 Product: 632817775\n",
            "50. SUPER EFFICENT SOLITION: n= 38 Product= 621939654\n",
            "50. SORTING SOLUTION: n= 38 Product: 621939654\n",
            "51. SUPER EFFICENT SOLITION: n= 9 Product= 550625267\n",
            "51. SORTING SOLUTION: n= 9 Product: 550625267\n",
            "52. SUPER EFFICENT SOLITION: n= 58 Product= 636192010\n",
            "52. SORTING SOLUTION: n= 58 Product: 636192010\n",
            "53. SUPER EFFICENT SOLITION: n= 76 Product= 649163816\n",
            "53. SORTING SOLUTION: n= 76 Product: 649163816\n",
            "54. SUPER EFFICENT SOLITION: n= 21 Product= 537155973\n",
            "54. SORTING SOLUTION: n= 21 Product: 537155973\n",
            "55. SUPER EFFICENT SOLITION: n= 33 Product= 608682672\n",
            "55. SORTING SOLUTION: n= 33 Product: 608682672\n",
            "56. SUPER EFFICENT SOLITION: n= 10 Product= 539321776\n",
            "56. SORTING SOLUTION: n= 10 Product: 539321776\n",
            "57. SUPER EFFICENT SOLITION: n= 83 Product= 654233555\n",
            "57. SORTING SOLUTION: n= 83 Product: 654233555\n",
            "58. SUPER EFFICENT SOLITION: n= 13 Product= 499319564\n",
            "58. SORTING SOLUTION: n= 13 Product: 499319564\n",
            "59. SUPER EFFICENT SOLITION: n= 49 Product= 612119172\n",
            "59. SORTING SOLUTION: n= 49 Product: 612119172\n",
            "60. SUPER EFFICENT SOLITION: n= 18 Product= 460196760\n",
            "60. SORTING SOLUTION: n= 18 Product: 460196760\n",
            "61. SUPER EFFICENT SOLITION: n= 18 Product= 584276329\n",
            "61. SORTING SOLUTION: n= 18 Product: 584276329\n",
            "62. SUPER EFFICENT SOLITION: n= 60 Product= 617522544\n",
            "62. SORTING SOLUTION: n= 60 Product: 617522544\n",
            "63. SUPER EFFICENT SOLITION: n= 12 Product= 532564632\n",
            "63. SORTING SOLUTION: n= 12 Product: 532564632\n",
            "64. SUPER EFFICENT SOLITION: n= 43 Product= 615088872\n",
            "64. SORTING SOLUTION: n= 43 Product: 615088872\n",
            "65. SUPER EFFICENT SOLITION: n= 4 Product= 183906832\n",
            "65. SORTING SOLUTION: n= 4 Product: 183906832\n",
            "66. SUPER EFFICENT SOLITION: n= 56 Product= 654822090\n",
            "66. SORTING SOLUTION: n= 56 Product: 654822090\n",
            "67. SUPER EFFICENT SOLITION: n= 38 Product= 642595818\n",
            "67. SORTING SOLUTION: n= 38 Product: 642595818\n",
            "68. SUPER EFFICENT SOLITION: n= 29 Product= 642457536\n",
            "68. SORTING SOLUTION: n= 29 Product: 642457536\n",
            "69. SUPER EFFICENT SOLITION: n= 11 Product= 326415804\n",
            "69. SORTING SOLUTION: n= 11 Product: 326415804\n",
            "70. SUPER EFFICENT SOLITION: n= 70 Product= 640426743\n",
            "70. SORTING SOLUTION: n= 70 Product: 640426743\n",
            "71. SUPER EFFICENT SOLITION: n= 12 Product= 425468640\n",
            "71. SORTING SOLUTION: n= 12 Product: 425468640\n",
            "72. SUPER EFFICENT SOLITION: n= 74 Product= 605748486\n",
            "72. SORTING SOLUTION: n= 74 Product: 605748486\n",
            "73. SUPER EFFICENT SOLITION: n= 3 Product= 189776496\n",
            "73. SORTING SOLUTION: n= 3 Product: 189776496\n",
            "74. SUPER EFFICENT SOLITION: n= 43 Product= 629625160\n",
            "74. SORTING SOLUTION: n= 43 Product: 629625160\n",
            "75. SUPER EFFICENT SOLITION: n= 60 Product= 602213236\n",
            "75. SORTING SOLUTION: n= 60 Product: 602213236\n",
            "76. SUPER EFFICENT SOLITION: n= 42 Product= 622071282\n",
            "76. SORTING SOLUTION: n= 42 Product: 622071282\n",
            "77. SUPER EFFICENT SOLITION: n= 52 Product= 616185272\n",
            "77. SORTING SOLUTION: n= 52 Product: 616185272\n",
            "78. SUPER EFFICENT SOLITION: n= 71 Product= 642045904\n",
            "78. SORTING SOLUTION: n= 71 Product: 642045904\n",
            "79. SUPER EFFICENT SOLITION: n= 81 Product= 620454880\n",
            "79. SORTING SOLUTION: n= 81 Product: 620454880\n",
            "80. SUPER EFFICENT SOLITION: n= 25 Product= 576936895\n",
            "80. SORTING SOLUTION: n= 25 Product: 576936895\n",
            "81. SUPER EFFICENT SOLITION: n= 73 Product= 650299320\n",
            "81. SORTING SOLUTION: n= 73 Product: 650299320\n",
            "82. SUPER EFFICENT SOLITION: n= 28 Product= 589575756\n",
            "82. SORTING SOLUTION: n= 28 Product: 589575756\n",
            "83. SUPER EFFICENT SOLITION: n= 18 Product= 562480856\n",
            "83. SORTING SOLUTION: n= 18 Product: 562480856\n",
            "84. SUPER EFFICENT SOLITION: n= 31 Product= 574717320\n",
            "84. SORTING SOLUTION: n= 31 Product: 574717320\n",
            "85. SUPER EFFICENT SOLITION: n= 39 Product= 568530522\n",
            "85. SORTING SOLUTION: n= 39 Product: 568530522\n",
            "86. SUPER EFFICENT SOLITION: n= 94 Product= 623879074\n",
            "86. SORTING SOLUTION: n= 94 Product: 623879074\n",
            "87. SUPER EFFICENT SOLITION: n= 82 Product= 628478865\n",
            "87. SORTING SOLUTION: n= 82 Product: 628478865\n",
            "88. SUPER EFFICENT SOLITION: n= 19 Product= 529742304\n",
            "88. SORTING SOLUTION: n= 19 Product: 529742304\n",
            "89. SUPER EFFICENT SOLITION: n= 77 Product= 634648014\n",
            "89. SORTING SOLUTION: n= 77 Product: 634648014\n",
            "90. SUPER EFFICENT SOLITION: n= 2 Product= 239044568\n",
            "90. SORTING SOLUTION: n= 2 Product: 239044568\n",
            "91. SUPER EFFICENT SOLITION: n= 6 Product= 293604255\n",
            "91. SORTING SOLUTION: n= 6 Product: 293604255\n",
            "92. SUPER EFFICENT SOLITION: n= 96 Product= 654667990\n",
            "92. SORTING SOLUTION: n= 96 Product: 654667990\n",
            "93. SUPER EFFICENT SOLITION: n= 16 Product= 604100608\n",
            "93. SORTING SOLUTION: n= 16 Product: 604100608\n",
            "94. SUPER EFFICENT SOLITION: n= 42 Product= 622303125\n",
            "94. SORTING SOLUTION: n= 42 Product: 622303125\n",
            "95. SUPER EFFICENT SOLITION: n= 36 Product= 610020099\n",
            "95. SORTING SOLUTION: n= 36 Product: 610020099\n",
            "96. SUPER EFFICENT SOLITION: n= 83 Product= 644417976\n",
            "96. SORTING SOLUTION: n= 83 Product: 644417976\n",
            "97. SUPER EFFICENT SOLITION: n= 6 Product= 458865444\n",
            "97. SORTING SOLUTION: n= 6 Product: 458865444\n",
            "98. SUPER EFFICENT SOLITION: n= 10 Product= 402281040\n",
            "98. SORTING SOLUTION: n= 10 Product: 402281040\n",
            "99. SUPER EFFICENT SOLITION: n= 79 Product= 632425500\n",
            "99. SORTING SOLUTION: n= 79 Product: 632425500\n",
            "100. SUPER EFFICENT SOLITION: n= 91 Product= 649202268\n",
            "100. SORTING SOLUTION: n= 91 Product: 649202268\n",
            "Pass\n"
          ]
        }
      ]
    }
  ],
  "metadata": {
    "colab": {
      "provenance": [],
      "include_colab_link": true
    },
    "kernelspec": {
      "display_name": "Python 3",
      "name": "python3"
    },
    "language_info": {
      "name": "python"
    }
  },
  "nbformat": 4,
  "nbformat_minor": 0
}