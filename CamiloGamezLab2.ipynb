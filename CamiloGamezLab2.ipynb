{
  "cells": [
    {
      "cell_type": "markdown",
      "metadata": {
        "id": "view-in-github",
        "colab_type": "text"
      },
      "source": [
        "<a href=\"https://colab.research.google.com/github/Camgamez/icgamezc_Lab2.ipynb/blob/main/CamiloGamezLab2.ipynb\" target=\"_parent\"><img src=\"https://colab.research.google.com/assets/colab-badge.svg\" alt=\"Open In Colab\"/></a>"
      ]
    },
    {
      "cell_type": "code",
      "source": [
        "pip install -U fortran-magic"
      ],
      "metadata": {
        "colab": {
          "base_uri": "https://localhost:8080/"
        },
        "id": "p_eVwkpNPNpK",
        "outputId": "6432daa3-c456-47b5-ef63-13d88152bc4c",
        "collapsed": true
      },
      "execution_count": 1,
      "outputs": [
        {
          "output_type": "stream",
          "name": "stdout",
          "text": [
            "Collecting fortran-magic\n",
            "  Downloading fortran_magic-0.9-py3-none-any.whl.metadata (6.5 kB)\n",
            "Requirement already satisfied: ipython in /usr/local/lib/python3.10/dist-packages (from fortran-magic) (7.34.0)\n",
            "Requirement already satisfied: numpy in /usr/local/lib/python3.10/dist-packages (from fortran-magic) (1.26.4)\n",
            "Requirement already satisfied: setuptools>=18.5 in /usr/local/lib/python3.10/dist-packages (from ipython->fortran-magic) (64.0.3)\n",
            "Collecting jedi>=0.16 (from ipython->fortran-magic)\n",
            "  Downloading jedi-0.19.2-py2.py3-none-any.whl.metadata (22 kB)\n",
            "Requirement already satisfied: decorator in /usr/local/lib/python3.10/dist-packages (from ipython->fortran-magic) (4.4.2)\n",
            "Requirement already satisfied: pickleshare in /usr/local/lib/python3.10/dist-packages (from ipython->fortran-magic) (0.7.5)\n",
            "Requirement already satisfied: traitlets>=4.2 in /usr/local/lib/python3.10/dist-packages (from ipython->fortran-magic) (5.7.1)\n",
            "Requirement already satisfied: prompt-toolkit!=3.0.0,!=3.0.1,<3.1.0,>=2.0.0 in /usr/local/lib/python3.10/dist-packages (from ipython->fortran-magic) (3.0.48)\n",
            "Requirement already satisfied: pygments in /usr/local/lib/python3.10/dist-packages (from ipython->fortran-magic) (2.18.0)\n",
            "Requirement already satisfied: backcall in /usr/local/lib/python3.10/dist-packages (from ipython->fortran-magic) (0.2.0)\n",
            "Requirement already satisfied: matplotlib-inline in /usr/local/lib/python3.10/dist-packages (from ipython->fortran-magic) (0.1.7)\n",
            "Requirement already satisfied: pexpect>4.3 in /usr/local/lib/python3.10/dist-packages (from ipython->fortran-magic) (4.9.0)\n",
            "Requirement already satisfied: parso<0.9.0,>=0.8.4 in /usr/local/lib/python3.10/dist-packages (from jedi>=0.16->ipython->fortran-magic) (0.8.4)\n",
            "Requirement already satisfied: ptyprocess>=0.5 in /usr/local/lib/python3.10/dist-packages (from pexpect>4.3->ipython->fortran-magic) (0.7.0)\n",
            "Requirement already satisfied: wcwidth in /usr/local/lib/python3.10/dist-packages (from prompt-toolkit!=3.0.0,!=3.0.1,<3.1.0,>=2.0.0->ipython->fortran-magic) (0.2.13)\n",
            "Downloading fortran_magic-0.9-py3-none-any.whl (10 kB)\n",
            "Downloading jedi-0.19.2-py2.py3-none-any.whl (1.6 MB)\n",
            "\u001b[?25l   \u001b[90m━━━━━━━━━━━━━━━━━━━━━━━━━━━━━━━━━━━━━━━━\u001b[0m \u001b[32m0.0/1.6 MB\u001b[0m \u001b[31m?\u001b[0m eta \u001b[36m-:--:--\u001b[0m\r\u001b[2K   \u001b[90m━━━━━━━━━━━━━━━━━━━━━━━━━━━━━━━━━━━━━━━━\u001b[0m \u001b[32m1.6/1.6 MB\u001b[0m \u001b[31m49.7 MB/s\u001b[0m eta \u001b[36m0:00:00\u001b[0m\n",
            "\u001b[?25hInstalling collected packages: jedi, fortran-magic\n",
            "Successfully installed fortran-magic-0.9 jedi-0.19.2\n"
          ]
        }
      ]
    },
    {
      "cell_type": "code",
      "execution_count": 2,
      "metadata": {
        "autoscroll": false,
        "ein.tags": "worksheet-0",
        "id": "FrAt48DtiXb-",
        "outputId": "a9b3253d-6270-4016-a099-c43c825485e1",
        "colab": {
          "base_uri": "https://localhost:8080/",
          "height": 17
        },
        "collapsed": true
      },
      "outputs": [
        {
          "output_type": "display_data",
          "data": {
            "application/javascript": [
              "\n",
              "        if(typeof IPython === 'undefined') {\n",
              "            console.log('fortranmagic.py: TDOO: JupyterLab ' +\n",
              "                        'syntax highlight - unimplemented.');\n",
              "        } else {\n",
              "            IPython.CodeCell.options_default\n",
              "            .highlight_modes['magic_fortran'] = {'reg':[/^%%fortran/]};\n",
              "        }\n",
              "        "
            ]
          },
          "metadata": {}
        }
      ],
      "source": [
        "%matplotlib inline\n",
        "%load_ext fortranmagic\n",
        "\n",
        "import sys; sys.path.append('..')\n",
        "\n",
        "import pandas as pd\n",
        "import numpy as np\n",
        "import matplotlib as mpl\n",
        "import matplotlib.pyplot as plt\n",
        "import seaborn as sns\n",
        "\n",
        "mpl.rc('figure', figsize=(12, 7))\n",
        "\n",
        "ran_the_first_cell = True\n",
        "\n",
        "jan2017 = pd.to_datetime(['2017-01-03 00:00:00+00:00',\n",
        " '2017-01-04 00:00:00+00:00',\n",
        " '2017-01-05 00:00:00+00:00',\n",
        " '2017-01-06 00:00:00+00:00',\n",
        " '2017-01-09 00:00:00+00:00',\n",
        " '2017-01-10 00:00:00+00:00',\n",
        " '2017-01-11 00:00:00+00:00',\n",
        " '2017-01-12 00:00:00+00:00',\n",
        " '2017-01-13 00:00:00+00:00',\n",
        " '2017-01-17 00:00:00+00:00',\n",
        " '2017-01-18 00:00:00+00:00',\n",
        " '2017-01-19 00:00:00+00:00',\n",
        " '2017-01-20 00:00:00+00:00',\n",
        " '2017-01-23 00:00:00+00:00',\n",
        " '2017-01-24 00:00:00+00:00',\n",
        " '2017-01-25 00:00:00+00:00',\n",
        " '2017-01-26 00:00:00+00:00',\n",
        " '2017-01-27 00:00:00+00:00',\n",
        " '2017-01-30 00:00:00+00:00',\n",
        " '2017-01-31 00:00:00+00:00',\n",
        " '2017-02-01 00:00:00+00:00'])\n",
        "calendar = jan2017.values.astype('datetime64[D]')\n",
        "\n",
        "event_dates = pd.to_datetime(['2017-01-06 00:00:00+00:00',\n",
        "                             '2017-01-07 00:00:00+00:00',\n",
        "                             '2017-01-08 00:00:00+00:00']).values.astype('datetime64[D]')\n",
        "event_values = np.array([10, 15, 20])"
      ]
    },
    {
      "cell_type": "code",
      "execution_count": 5,
      "metadata": {
        "collapsed": true,
        "id": "eqFZgJyyiXcM"
      },
      "outputs": [],
      "source": [
        "# Suppose we have some matrices...\n",
        "a = [[1, 2, 3],\n",
        "     [2, 3, 4],\n",
        "     [5, 6, 7],\n",
        "     [1, 1, 1]]\n",
        "\n",
        "b = [[1, 2, 3, 4],\n",
        "     [2, 3, 4, 5]]"
      ]
    },
    {
      "cell_type": "code",
      "execution_count": 6,
      "metadata": {
        "collapsed": true,
        "id": "TfFqABAMiXcM"
      },
      "outputs": [],
      "source": [
        "def matmul(A, B):\n",
        "    \"\"\"Multiply matrix A by matrix B.\"\"\"\n",
        "    rows_out = len(A)\n",
        "    cols_out = len(B[0])\n",
        "    out = [[0 for col in range(cols_out)] for row in range(rows_out)]\n",
        "\n",
        "    for i in range(rows_out):\n",
        "        for j in range(cols_out):\n",
        "            for k in range(len(B)):\n",
        "                out[i][j] += A[i][k] * B[k][j]\n",
        "    return out"
      ]
    },
    {
      "cell_type": "code",
      "execution_count": 7,
      "metadata": {
        "id": "PerN-NDRiXcN",
        "outputId": "5082e878-d6f3-4bb4-ae2d-53939987cc23",
        "colab": {
          "base_uri": "https://localhost:8080/"
        }
      },
      "outputs": [
        {
          "output_type": "stream",
          "name": "stdout",
          "text": [
            "CPU times: user 42 µs, sys: 4 µs, total: 46 µs\n",
            "Wall time: 50.1 µs\n"
          ]
        },
        {
          "output_type": "execute_result",
          "data": {
            "text/plain": [
              "[[5, 8, 11, 14], [8, 13, 18, 23], [17, 28, 39, 50], [3, 5, 7, 9]]"
            ]
          },
          "metadata": {},
          "execution_count": 7
        }
      ],
      "source": [
        "%%time\n",
        "\n",
        "matmul(a, b)"
      ]
    },
    {
      "cell_type": "markdown",
      "source": [
        "**My own example 0 - cpu info**"
      ],
      "metadata": {
        "id": "AAcF7qrOv8KF"
      }
    },
    {
      "cell_type": "code",
      "source": [
        "!cat /proc/cpuinfo"
      ],
      "metadata": {
        "colab": {
          "base_uri": "https://localhost:8080/"
        },
        "id": "BQl1PQDJwDkc",
        "outputId": "2a246ac0-be9d-4fe3-dc09-d769a1183089",
        "collapsed": true
      },
      "execution_count": 8,
      "outputs": [
        {
          "output_type": "stream",
          "name": "stdout",
          "text": [
            "processor\t: 0\n",
            "vendor_id\t: GenuineIntel\n",
            "cpu family\t: 6\n",
            "model\t\t: 79\n",
            "model name\t: Intel(R) Xeon(R) CPU @ 2.20GHz\n",
            "stepping\t: 0\n",
            "microcode\t: 0xffffffff\n",
            "cpu MHz\t\t: 2200.200\n",
            "cache size\t: 56320 KB\n",
            "physical id\t: 0\n",
            "siblings\t: 2\n",
            "core id\t\t: 0\n",
            "cpu cores\t: 1\n",
            "apicid\t\t: 0\n",
            "initial apicid\t: 0\n",
            "fpu\t\t: yes\n",
            "fpu_exception\t: yes\n",
            "cpuid level\t: 13\n",
            "wp\t\t: yes\n",
            "flags\t\t: fpu vme de pse tsc msr pae mce cx8 apic sep mtrr pge mca cmov pat pse36 clflush mmx fxsr sse sse2 ss ht syscall nx pdpe1gb rdtscp lm constant_tsc rep_good nopl xtopology nonstop_tsc cpuid tsc_known_freq pni pclmulqdq ssse3 fma cx16 pcid sse4_1 sse4_2 x2apic movbe popcnt aes xsave avx f16c rdrand hypervisor lahf_lm abm 3dnowprefetch invpcid_single ssbd ibrs ibpb stibp fsgsbase tsc_adjust bmi1 hle avx2 smep bmi2 erms invpcid rtm rdseed adx smap xsaveopt arat md_clear arch_capabilities\n",
            "bugs\t\t: cpu_meltdown spectre_v1 spectre_v2 spec_store_bypass l1tf mds swapgs taa mmio_stale_data retbleed bhi\n",
            "bogomips\t: 4400.40\n",
            "clflush size\t: 64\n",
            "cache_alignment\t: 64\n",
            "address sizes\t: 46 bits physical, 48 bits virtual\n",
            "power management:\n",
            "\n",
            "processor\t: 1\n",
            "vendor_id\t: GenuineIntel\n",
            "cpu family\t: 6\n",
            "model\t\t: 79\n",
            "model name\t: Intel(R) Xeon(R) CPU @ 2.20GHz\n",
            "stepping\t: 0\n",
            "microcode\t: 0xffffffff\n",
            "cpu MHz\t\t: 2200.200\n",
            "cache size\t: 56320 KB\n",
            "physical id\t: 0\n",
            "siblings\t: 2\n",
            "core id\t\t: 0\n",
            "cpu cores\t: 1\n",
            "apicid\t\t: 1\n",
            "initial apicid\t: 1\n",
            "fpu\t\t: yes\n",
            "fpu_exception\t: yes\n",
            "cpuid level\t: 13\n",
            "wp\t\t: yes\n",
            "flags\t\t: fpu vme de pse tsc msr pae mce cx8 apic sep mtrr pge mca cmov pat pse36 clflush mmx fxsr sse sse2 ss ht syscall nx pdpe1gb rdtscp lm constant_tsc rep_good nopl xtopology nonstop_tsc cpuid tsc_known_freq pni pclmulqdq ssse3 fma cx16 pcid sse4_1 sse4_2 x2apic movbe popcnt aes xsave avx f16c rdrand hypervisor lahf_lm abm 3dnowprefetch invpcid_single ssbd ibrs ibpb stibp fsgsbase tsc_adjust bmi1 hle avx2 smep bmi2 erms invpcid rtm rdseed adx smap xsaveopt arat md_clear arch_capabilities\n",
            "bugs\t\t: cpu_meltdown spectre_v1 spectre_v2 spec_store_bypass l1tf mds swapgs taa mmio_stale_data retbleed bhi\n",
            "bogomips\t: 4400.40\n",
            "clflush size\t: 64\n",
            "cache_alignment\t: 64\n",
            "address sizes\t: 46 bits physical, 48 bits virtual\n",
            "power management:\n",
            "\n"
          ]
        }
      ]
    },
    {
      "cell_type": "markdown",
      "source": [
        "**My own example 1 - Changing in matmul(A, B) Python len(B) (# of rows of B) for len(A[0]) (# of columns of A)**"
      ],
      "metadata": {
        "id": "EFlf_ZLgsUEo"
      }
    },
    {
      "cell_type": "code",
      "source": [
        "def matmul_2(A, B):\n",
        "    \"\"\"Multiply matrix A by matrix B.\"\"\"\n",
        "    rows_out = len(A)\n",
        "    cols_out = len(B[0])\n",
        "    out = [[0 for col in range(cols_out)] for row in range(rows_out)]\n",
        "\n",
        "    for i in range(rows_out):\n",
        "        for j in range(cols_out):\n",
        "            for k in range(len(A[0])):\n",
        "                out[i][j] += A[i][k] * B[k][j]\n",
        "    return out"
      ],
      "metadata": {
        "id": "T71BRNaG3fev"
      },
      "execution_count": 9,
      "outputs": []
    },
    {
      "cell_type": "markdown",
      "source": [
        "**My own example 2 - Verifiying error with in matmul(A, B) Python with the original matrices when changing len(B) (# of rows of B) for len(A[0]) (# of colums of A)**"
      ],
      "metadata": {
        "id": "8sLiMfvlUJzp"
      }
    },
    {
      "cell_type": "code",
      "source": [
        "%%time\n",
        "\n",
        "matmul_2(a,b)"
      ],
      "metadata": {
        "colab": {
          "base_uri": "https://localhost:8080/",
          "height": 228
        },
        "id": "1DY0vctBLtch",
        "outputId": "add5d55b-8e7d-496c-e1fd-ceaf569c1658"
      },
      "execution_count": 10,
      "outputs": [
        {
          "output_type": "error",
          "ename": "IndexError",
          "evalue": "list index out of range",
          "traceback": [
            "\u001b[0;31m---------------------------------------------------------------------------\u001b[0m",
            "\u001b[0;31mIndexError\u001b[0m                                Traceback (most recent call last)",
            "\u001b[0;32m<timed eval>\u001b[0m in \u001b[0;36m<module>\u001b[0;34m\u001b[0m\n",
            "\u001b[0;32m<ipython-input-9-c8e49b08abfd>\u001b[0m in \u001b[0;36mmatmul_2\u001b[0;34m(A, B)\u001b[0m\n\u001b[1;32m      8\u001b[0m         \u001b[0;32mfor\u001b[0m \u001b[0mj\u001b[0m \u001b[0;32min\u001b[0m \u001b[0mrange\u001b[0m\u001b[0;34m(\u001b[0m\u001b[0mcols_out\u001b[0m\u001b[0;34m)\u001b[0m\u001b[0;34m:\u001b[0m\u001b[0;34m\u001b[0m\u001b[0;34m\u001b[0m\u001b[0m\n\u001b[1;32m      9\u001b[0m             \u001b[0;32mfor\u001b[0m \u001b[0mk\u001b[0m \u001b[0;32min\u001b[0m \u001b[0mrange\u001b[0m\u001b[0;34m(\u001b[0m\u001b[0mlen\u001b[0m\u001b[0;34m(\u001b[0m\u001b[0mA\u001b[0m\u001b[0;34m[\u001b[0m\u001b[0;36m0\u001b[0m\u001b[0;34m]\u001b[0m\u001b[0;34m)\u001b[0m\u001b[0;34m)\u001b[0m\u001b[0;34m:\u001b[0m\u001b[0;34m\u001b[0m\u001b[0;34m\u001b[0m\u001b[0m\n\u001b[0;32m---> 10\u001b[0;31m                 \u001b[0mout\u001b[0m\u001b[0;34m[\u001b[0m\u001b[0mi\u001b[0m\u001b[0;34m]\u001b[0m\u001b[0;34m[\u001b[0m\u001b[0mj\u001b[0m\u001b[0;34m]\u001b[0m \u001b[0;34m+=\u001b[0m \u001b[0mA\u001b[0m\u001b[0;34m[\u001b[0m\u001b[0mi\u001b[0m\u001b[0;34m]\u001b[0m\u001b[0;34m[\u001b[0m\u001b[0mk\u001b[0m\u001b[0;34m]\u001b[0m \u001b[0;34m*\u001b[0m \u001b[0mB\u001b[0m\u001b[0;34m[\u001b[0m\u001b[0mk\u001b[0m\u001b[0;34m]\u001b[0m\u001b[0;34m[\u001b[0m\u001b[0mj\u001b[0m\u001b[0;34m]\u001b[0m\u001b[0;34m\u001b[0m\u001b[0;34m\u001b[0m\u001b[0m\n\u001b[0m\u001b[1;32m     11\u001b[0m     \u001b[0;32mreturn\u001b[0m \u001b[0mout\u001b[0m\u001b[0;34m\u001b[0m\u001b[0;34m\u001b[0m\u001b[0m\n",
            "\u001b[0;31mIndexError\u001b[0m: list index out of range"
          ]
        }
      ]
    },
    {
      "cell_type": "markdown",
      "source": [
        "La multiplicacón de estas matrices falla ya que el tamaño de las columnas en la  matriz $A$ es diferente del tamaño de las filas en la matriz $B$."
      ],
      "metadata": {
        "id": "JMtIak2fMFMa"
      }
    },
    {
      "cell_type": "markdown",
      "source": [
        "**My own example 3 - Chekcing the mtarix multiplication compatibility condition  len(A[0]) == len(B)**"
      ],
      "metadata": {
        "id": "AGztFKBNuQ_e"
      }
    },
    {
      "cell_type": "code",
      "source": [
        "def matmul_3(A, B):\n",
        "    \"\"\"Multiply matrix A by matrix B.\"\"\"\n",
        "    rows_out = len(A)\n",
        "    cols_out = len(B[0])\n",
        "    out = [[0 for col in range(cols_out)] for row in range(rows_out)]\n",
        "    if (len(A[0])== len(B)):\n",
        "      for i in range(rows_out):\n",
        "          for j in range(cols_out):\n",
        "              for k in range(len(B)):\n",
        "                  out[i][j] += A[i][k] * B[k][j]\n",
        "      return out\n",
        "    else:\n",
        "      print (\"Las matrices no se pueden multiplicar, ya que son de diferente tamaño.\")"
      ],
      "metadata": {
        "id": "4rgHkUNC3haX"
      },
      "execution_count": 12,
      "outputs": []
    },
    {
      "cell_type": "markdown",
      "source": [
        "**My own example 4 -  Verifiying error with in matmul(A, B) Python when checking the mtarix multiplication compatibility condition  len(A[0]) == len(B)**"
      ],
      "metadata": {
        "id": "A4SoDNPpuZpp"
      }
    },
    {
      "cell_type": "code",
      "source": [
        "%%time\n",
        "\n",
        "matmul_3(a,b)"
      ],
      "metadata": {
        "id": "wpnd21c83jQI",
        "colab": {
          "base_uri": "https://localhost:8080/"
        },
        "outputId": "cbfcfe69-3b52-4b53-a0d5-09c53a346241"
      },
      "execution_count": 13,
      "outputs": [
        {
          "output_type": "stream",
          "name": "stdout",
          "text": [
            "Las matrices no se pueden multiplicar, ya que son de diferente tamaño.\n",
            "CPU times: user 634 µs, sys: 65 µs, total: 699 µs\n",
            "Wall time: 706 µs\n"
          ]
        }
      ]
    },
    {
      "cell_type": "markdown",
      "source": [
        "**My own example 5 - Deifining A and B that are compatible for multiplcation**"
      ],
      "metadata": {
        "id": "MZTTYVu0ufCY"
      }
    },
    {
      "cell_type": "code",
      "source": [
        "a_3 = [[2,3,56],[32,5,4],[12,0,3]]\n",
        "b_3 = [[3,7,1], [1,6,3], [7,5,0]]"
      ],
      "metadata": {
        "id": "q8nHrWQz3kby"
      },
      "execution_count": 14,
      "outputs": []
    },
    {
      "cell_type": "markdown",
      "source": [
        "**My own example 6 - Runinng the correct Python matrix multiplication code with the matrices with dimensions compatible for multiplication.**"
      ],
      "metadata": {
        "id": "GM5DAXUIuhEg"
      }
    },
    {
      "cell_type": "code",
      "source": [
        "%%time\n",
        "\n",
        "matmul_3(a_3,b_3)"
      ],
      "metadata": {
        "colab": {
          "base_uri": "https://localhost:8080/"
        },
        "id": "-qBIVbm9a9IH",
        "outputId": "a7c15086-2756-4a98-f226-95a0820daa61"
      },
      "execution_count": 15,
      "outputs": [
        {
          "output_type": "stream",
          "name": "stdout",
          "text": [
            "CPU times: user 29 µs, sys: 3 µs, total: 32 µs\n",
            "Wall time: 37 µs\n"
          ]
        },
        {
          "output_type": "execute_result",
          "data": {
            "text/plain": [
              "[[401, 312, 11], [129, 274, 47], [57, 99, 12]]"
            ]
          },
          "metadata": {},
          "execution_count": 15
        }
      ]
    },
    {
      "cell_type": "markdown",
      "source": [
        "## Parte 4:\n",
        "Construcción de DTFrame.\n"
      ],
      "metadata": {
        "id": "nJSUDcNRdwsf"
      }
    },
    {
      "cell_type": "code",
      "source": [
        "import random"
      ],
      "metadata": {
        "id": "Ip600JFN3qHX"
      },
      "execution_count": 16,
      "outputs": []
    },
    {
      "cell_type": "code",
      "source": [
        "random.normalvariate(0,1)"
      ],
      "metadata": {
        "colab": {
          "base_uri": "https://localhost:8080/"
        },
        "id": "HuDvpWbBkup-",
        "outputId": "b661b35d-ae89-40a3-e154-e7bfb77ff4bc"
      },
      "execution_count": 17,
      "outputs": [
        {
          "output_type": "execute_result",
          "data": {
            "text/plain": [
              "-0.10387102332967106"
            ]
          },
          "metadata": {},
          "execution_count": 17
        }
      ]
    },
    {
      "cell_type": "code",
      "execution_count": 18,
      "metadata": {
        "outputId": "a98cc3e0-4817-4b37-cd3f-122bb8f4443a",
        "colab": {
          "base_uri": "https://localhost:8080/"
        },
        "id": "X1tnwMvd3bIP"
      },
      "outputs": [
        {
          "output_type": "execute_result",
          "data": {
            "text/plain": [
              "[[0.06158306765871069, 0.3743726348994748, 0.3813017276147458],\n",
              " [0.08896400651878422, 0.32087426146259523, 0.08449465582880156]]"
            ]
          },
          "metadata": {},
          "execution_count": 18
        }
      ],
      "source": [
        "import random\n",
        "def random_matrix(m, n):\n",
        "    out = []\n",
        "    for row in range(m):\n",
        "        out.append([random.random() for _ in range(n)])\n",
        "    return out\n",
        "\n",
        "randm = random_matrix(2, 3)\n",
        "randm"
      ]
    },
    {
      "cell_type": "markdown",
      "source": [
        "**My own example 7 - Running 10 times matmul(randa, randb) with randa and randb a randon matrices of 600 x 100 and 100 x 600 and calulating the average execution time**"
      ],
      "metadata": {
        "id": "3-eUeNjHhHP7"
      }
    },
    {
      "cell_type": "code",
      "source": [
        "import time\n",
        "def average_matrix_multiplication_time(rows_a, cols_a, rows_b, cols_b):\n",
        "\n",
        "  total_time = 0\n",
        "  for _ in range(10):\n",
        "      # Genera las dos matrices de tamaño predeterminado por la función\n",
        "      matrix_a = random_matrix(rows_a, cols_a)\n",
        "      matrix_b = random_matrix(rows_b, cols_b)\n",
        "\n",
        "      # Empieza a medir el tiempo de ejecución.\n",
        "      start_time = time.time()\n",
        "\n",
        "      # Multiplica las Matrices\n",
        "      producto = matmul_3(matrix_a, matrix_b)\n",
        "\n",
        "      # Finaliza la medida del tiempo.\n",
        "      end_time = time.time()\n",
        "\n",
        "      # Calcula el tiempo de ejecución\n",
        "\n",
        "      total_time += (end_time - start_time)\n",
        "\n",
        "  # Calcula el tiempo promedio de ejecución.\n",
        "  avg_time = total_time / 10\n",
        "  return avg_time\n",
        "\n",
        "\n",
        "rows_a, cols_a = 600, 100\n",
        "rows_b, cols_b = 100, 600\n",
        "\n",
        "avg_time = average_matrix_multiplication_time(rows_a, cols_a, rows_b, cols_b)\n",
        "print(f\"El tiempo promedio de la multiplicación de dos matrices es de: {avg_time:.6f} segundos\")\n"
      ],
      "metadata": {
        "colab": {
          "base_uri": "https://localhost:8080/"
        },
        "id": "4XNP3TAVd8R7",
        "outputId": "fd5a1119-6481-477d-87e1-c80b395dedab"
      },
      "execution_count": 19,
      "outputs": [
        {
          "output_type": "stream",
          "name": "stdout",
          "text": [
            "El tiempo promedio de la multiplicación de dos matrices es de: 9.500559 segundos\n"
          ]
        }
      ]
    },
    {
      "cell_type": "markdown",
      "source": [
        "**My own example 8 - Creating the average execution time data frame and adding Python's average execution time**"
      ],
      "metadata": {
        "id": "FXisJPNSN-Tf"
      }
    },
    {
      "cell_type": "code",
      "source": [
        "# construir el Dataframe:\n",
        "\n",
        "dataFrame = pd.DataFrame(columns = [\"Lenguaje\", \"Tiempo-Promedio-Ejecucion\"])\n",
        "\n",
        "new_row = pd.DataFrame({\"Lenguaje\": \"Python\", \"Tiempo-Promedio-Ejecucion\": avg_time}, index=[0])\n",
        "\n",
        "dataFrame = pd.concat([dataFrame, new_row], ignore_index=True)\n",
        "\n",
        "print(dataFrame)"
      ],
      "metadata": {
        "colab": {
          "base_uri": "https://localhost:8080/"
        },
        "id": "-W0ZClRHlfLc",
        "outputId": "89217ac4-00ce-4bfe-bdc6-5c93db147115"
      },
      "execution_count": 20,
      "outputs": [
        {
          "output_type": "stream",
          "name": "stdout",
          "text": [
            "  Lenguaje  Tiempo-Promedio-Ejecucion\n",
            "0   Python                   9.500559\n"
          ]
        },
        {
          "output_type": "stream",
          "name": "stderr",
          "text": [
            "<ipython-input-20-b7e92c8bef2c>:7: FutureWarning: The behavior of DataFrame concatenation with empty or all-NA entries is deprecated. In a future version, this will no longer exclude empty or all-NA columns when determining the result dtypes. To retain the old behavior, exclude the relevant entries before the concat operation.\n",
            "  dataFrame = pd.concat([dataFrame, new_row], ignore_index=True)\n"
          ]
        }
      ]
    },
    {
      "cell_type": "markdown",
      "source": [
        "**My own example 9 - Running 10 times randa and randb mutiplicaction as NumPy arrays  adding NumPy's average execution time**"
      ],
      "metadata": {
        "id": "OiFYD3tghLcL"
      }
    },
    {
      "cell_type": "code",
      "source": [
        "# Funcion para calcular el producto de matrices utilizando Numpy\n",
        "def avg_Numpy_matrix_mutip_time(rows_a, cols_a, rows_b, cols_b):\n",
        "    # Asegurar primero que las matrices sean multiplicables\n",
        "    if cols_a != rows_b:\n",
        "        raise ValueError(\"El tamaño de las columnas de A sea igual a las filas de B.\")\n",
        "\n",
        "    total_time = 0.0\n",
        "\n",
        "    for _ in range(10):\n",
        "        # Generar dos matrices aleatorias\n",
        "        matrix_a = np.random.rand(rows_a, cols_a)\n",
        "        matrix_b = np.random.rand(rows_b, cols_b)\n",
        "\n",
        "        # Empezar a medir el tiempo\n",
        "        start_time = time.time()\n",
        "\n",
        "        # Multiplicar las matrices utilizando la funcion de Numpy para ello\n",
        "        result = np.dot(matrix_a, matrix_b)\n",
        "\n",
        "        # Terminar de medir el tiempo\n",
        "        end_time = time.time()\n",
        "\n",
        "        # Calculate the time taken for this multiplication and add to total_time\n",
        "        total_time += (end_time - start_time)\n",
        "\n",
        "    # Calcula el tiempo promedio\n",
        "    average_time = total_time / 10\n",
        "    return average_time\n"
      ],
      "metadata": {
        "id": "bHX4icJx5KZo"
      },
      "execution_count": 21,
      "outputs": []
    },
    {
      "cell_type": "code",
      "source": [
        "# agregar el tiempo de ejecución de N\n",
        "average_time = avg_Numpy_matrix_mutip_time(600, 100, 100, 600)\n",
        "\n",
        "new_row = pd.DataFrame({\"Lenguaje\": \"NumPy\", \"Tiempo-Promedio-Ejecucion\": average_time}, index=[0])\n",
        "\n",
        "dataFrame = pd.concat([dataFrame, new_row], ignore_index=True)\n",
        "\n",
        "print(dataFrame)"
      ],
      "metadata": {
        "id": "LsmkVV_RpoIy",
        "colab": {
          "base_uri": "https://localhost:8080/"
        },
        "outputId": "19b33cf0-95f4-4b6d-8f0c-0bac98905b71"
      },
      "execution_count": 22,
      "outputs": [
        {
          "output_type": "stream",
          "name": "stdout",
          "text": [
            "  Lenguaje  Tiempo-Promedio-Ejecucion\n",
            "0   Python                   9.500559\n",
            "1    NumPy                   0.004222\n"
          ]
        }
      ]
    },
    {
      "cell_type": "code",
      "source": [
        "!pip install \"setuptools <65\""
      ],
      "metadata": {
        "colab": {
          "base_uri": "https://localhost:8080/"
        },
        "id": "eowL2Cg4qweq",
        "outputId": "497f76ae-90d2-41dd-e93f-3fe900e6ab69"
      },
      "execution_count": 24,
      "outputs": [
        {
          "output_type": "stream",
          "name": "stdout",
          "text": [
            "Requirement already satisfied: setuptools<65 in /usr/local/lib/python3.10/dist-packages (64.0.3)\n"
          ]
        }
      ]
    },
    {
      "cell_type": "code",
      "source": [
        "%load_ext fortranmagic\n"
      ],
      "metadata": {
        "colab": {
          "base_uri": "https://localhost:8080/"
        },
        "id": "WRNjSegOsj55",
        "outputId": "195128d2-b0f9-41b8-fe9a-31963303bff5"
      },
      "execution_count": 25,
      "outputs": [
        {
          "output_type": "stream",
          "name": "stdout",
          "text": [
            "The fortranmagic extension is already loaded. To reload it, use:\n",
            "  %reload_ext fortranmagic\n"
          ]
        }
      ]
    },
    {
      "cell_type": "markdown",
      "source": [
        "**My own example 10 - Deifining A (2x2)  and B (2x2)**"
      ],
      "metadata": {
        "id": "y37MLCQ4PQd3"
      }
    },
    {
      "cell_type": "code",
      "source": [
        "A = np.array([[1, 2], [3, 4]])\n",
        "B = np.array([[5, 6], [7, 8]])"
      ],
      "metadata": {
        "id": "7i0uJGD0v105"
      },
      "execution_count": 26,
      "outputs": []
    },
    {
      "cell_type": "markdown",
      "source": [
        "**My own example 11 - Defining Fortran subroutine matmul(A,B) for 2x2 matrices**"
      ],
      "metadata": {
        "id": "nuV59KXQPipC"
      }
    },
    {
      "cell_type": "code",
      "source": [
        "%%fortran\n",
        "subroutine matmul(A, B, C)\n",
        "    implicit none\n",
        "    integer, intent(in) :: A(2,2), B(2,2)\n",
        "    integer, intent(out) :: C(2,2)\n",
        "    integer :: i, j, k\n",
        "\n",
        "    do i = 1, 2\n",
        "        do j = 1, 2\n",
        "            C(i,j) = 0\n",
        "            do k = 1, 2\n",
        "                C(i,j) = C(i,j) + A(i,k) * B(k,j)\n",
        "            end do\n",
        "        end do\n",
        "    end do\n",
        "end subroutine matmul"
      ],
      "metadata": {
        "id": "faG3DgEHyyoP"
      },
      "execution_count": 27,
      "outputs": []
    },
    {
      "cell_type": "markdown",
      "source": [
        "**My own example 12 -Run Fortran subroutine matmul(A,B) with a and b 2x2 matrices**"
      ],
      "metadata": {
        "id": "zU1RmmstRPd4"
      }
    },
    {
      "cell_type": "code",
      "source": [
        "matmul(A,B)"
      ],
      "metadata": {
        "id": "LTcNJB4L6wwX",
        "colab": {
          "base_uri": "https://localhost:8080/"
        },
        "outputId": "6d9ade59-ca25-40f2-8da9-55efae2e54cc"
      },
      "execution_count": 28,
      "outputs": [
        {
          "output_type": "execute_result",
          "data": {
            "text/plain": [
              "array([[19, 22],\n",
              "       [43, 50]], dtype=int32)"
            ]
          },
          "metadata": {},
          "execution_count": 28
        }
      ]
    },
    {
      "cell_type": "markdown",
      "source": [
        "**My own example 13 - Defining Fortran subroutine matmul(A,B) for 600x100 and 100x600 matrices**"
      ],
      "metadata": {
        "id": "_ra5WDYERX1e"
      }
    },
    {
      "cell_type": "code",
      "source": [
        "\n",
        "%%fortran\n",
        "subroutine matmul_fortran(A, B, C)\n",
        "    implicit none\n",
        "    integer, intent(in) :: A(600,100), B(100,600)\n",
        "    integer, intent(out) :: C(600,600)\n",
        "    integer :: i, j, k\n",
        "\n",
        "    do i = 1, 600\n",
        "        do j = 1, 600\n",
        "            C(i,j) = 0\n",
        "            do k = 1, 100\n",
        "                C(i,j) = C(i,j) + A(i,k) * B(k,j)\n",
        "            end do\n",
        "        end do\n",
        "    end do\n",
        "end subroutine matmul_fortran"
      ],
      "metadata": {
        "id": "4mDURPVKkBDD"
      },
      "execution_count": 29,
      "outputs": []
    },
    {
      "cell_type": "markdown",
      "source": [
        "**My own example 14 -Run Fortran subroutine matmul(A,B) with 600x100 and 100x600 matrices**"
      ],
      "metadata": {
        "id": "cf5NwQZQRjx-"
      }
    },
    {
      "cell_type": "code",
      "source": [
        "def avg_execution(process_to_measure, times_to_run):\n",
        "\n",
        "  so_far = 0\n",
        "  avg_time = 0\n",
        "  exec_time_lst = []\n",
        "\n",
        "  while True:\n",
        "    if so_far == 10:\n",
        "      break\n",
        "    a = np.random.rand(600, 100)\n",
        "    b = np.random.rand(100, 600)\n",
        "    initial_time = time.time()\n",
        "    a = matmul_fortran(a,b)\n",
        "    exec_time_lst.append(time.time() - initial_time)\n",
        "    so_far = so_far + 1\n",
        "  print(times_to_run)\n",
        "  for duration in exec_time_lst:\n",
        "    avg_time = avg_time + duration\n",
        "  avg_time = avg_time/times_to_run\n",
        "\n",
        "  print(avg_time)\n",
        "  return avg_time"
      ],
      "metadata": {
        "id": "S7xtJkrb6yuQ"
      },
      "execution_count": 30,
      "outputs": []
    },
    {
      "cell_type": "markdown",
      "source": [
        "**My own example 15 - Running 10 times the  Fortran subroutine matmul(A,B) with 600x100 and 100x600 matrices and adding Fortran magic average execution time to the data frame**"
      ],
      "metadata": {
        "id": "5yjoH7W_R0E3"
      }
    },
    {
      "cell_type": "code",
      "source": [
        "avg_fortran = avg_execution(matmul_fortran, 10)\n",
        "\n",
        "new_row = pd.DataFrame({\"Lenguaje\": \"Fortran_Magic\", \"Tiempo-Promedio-Ejecucion\": avg_fortran}, index=[0])\n",
        "\n",
        "dataFrame = pd.concat([dataFrame, new_row], ignore_index=True)\n",
        "\n",
        "print(dataFrame)"
      ],
      "metadata": {
        "id": "2-A0QOte603A",
        "colab": {
          "base_uri": "https://localhost:8080/"
        },
        "outputId": "594ccd7f-6ff0-47ea-fb71-897ca2f20d64"
      },
      "execution_count": 31,
      "outputs": [
        {
          "output_type": "stream",
          "name": "stdout",
          "text": [
            "10\n",
            "0.025937461853027345\n",
            "        Lenguaje  Tiempo-Promedio-Ejecucion\n",
            "0         Python                   9.500559\n",
            "1          NumPy                   0.004222\n",
            "2  Fortran_Magic                   0.025937\n"
          ]
        }
      ]
    },
    {
      "cell_type": "markdown",
      "source": [
        "**My own example 16 - Creating a  Fortran program that mutiplies 10 times A(600x100) and  B (100x600) matrices**"
      ],
      "metadata": {
        "id": "w5hURiGOShpG"
      }
    },
    {
      "cell_type": "code",
      "source": [
        "!apt-get install -y gfortran"
      ],
      "metadata": {
        "id": "xCkI1njo62Hv",
        "colab": {
          "base_uri": "https://localhost:8080/"
        },
        "outputId": "8a1dbe4f-be46-433f-9b84-4c5cf674f51f"
      },
      "execution_count": 32,
      "outputs": [
        {
          "output_type": "stream",
          "name": "stdout",
          "text": [
            "Reading package lists... Done\n",
            "Building dependency tree... Done\n",
            "Reading state information... Done\n",
            "gfortran is already the newest version (4:11.2.0-1ubuntu1).\n",
            "0 upgraded, 0 newly installed, 0 to remove and 49 not upgraded.\n"
          ]
        }
      ]
    },
    {
      "cell_type": "markdown",
      "source": [
        "**My own example 17 - Running the Fortran program that mutiplies 10 times A(600x100) and  B (100x600) matrices**"
      ],
      "metadata": {
        "id": "LJOrD7hyYmTJ"
      }
    },
    {
      "cell_type": "code",
      "source": [
        "%%writefile matrix_mult.f90\n",
        "program matrix_mult\n",
        "  implicit none\n",
        "  integer, parameter :: n = 600, m = 100, p = 600\n",
        "  integer :: i, j, k, iter\n",
        "  real(8), allocatable :: A(:, :), B(:, :), C(:, :)\n",
        "  real(8) :: start_time, end_time, total_time\n",
        "\n",
        "  allocate(A(n, m), B(m, p), C(n, p))\n",
        "\n",
        "  ! Initialize matrices A and B with random values\n",
        "  call random_number(A)\n",
        "  call random_number(B)\n",
        "\n",
        "  ! Perform matrix multiplication 10 times\n",
        "  do iter = 1, 10\n",
        "    call cpu_time(start_time) ! Start timer\n",
        "\n",
        "      do i = 1, n\n",
        "        do j = 1, p\n",
        "          C(i, j) = 0.0d0\n",
        "          do k = 1, m\n",
        "            C(i, j) = C(i, j) + A(i, k) * B(k, j)\n",
        "          end do\n",
        "        end do\n",
        "      end do\n",
        "\n",
        "    call cpu_time(end_time) ! End timer\n",
        "    total_time = end_time - start_time\n",
        "    print *, \"Iteration \", iter, \": Time = \", total_time\n",
        "  end do\n",
        "\n",
        "  deallocate(A, B, C)\n",
        "end program matrix_mult"
      ],
      "metadata": {
        "id": "hmBeCMGV63z6",
        "colab": {
          "base_uri": "https://localhost:8080/"
        },
        "outputId": "78ec131a-2f7a-4069-b038-20606a6741f1"
      },
      "execution_count": 33,
      "outputs": [
        {
          "output_type": "stream",
          "name": "stdout",
          "text": [
            "Writing matrix_mult.f90\n"
          ]
        }
      ]
    },
    {
      "cell_type": "markdown",
      "source": [
        "**My own example 18 - Adding Fortran average execution time to the data frame**"
      ],
      "metadata": {
        "id": "21wSmo50YfIo"
      }
    },
    {
      "cell_type": "code",
      "source": [
        "start_time = time.time()\n",
        "!gfortran matrix_mult.f90 -o matrix_mult\n",
        "!./matrix_mult\n",
        "final_time = time.time() - start_time\n",
        "avg_fortran_real = final_time/10"
      ],
      "metadata": {
        "id": "UDMgoacS642X",
        "colab": {
          "base_uri": "https://localhost:8080/"
        },
        "outputId": "c8b322d4-dc0c-4377-abcd-cd649abfee60"
      },
      "execution_count": 34,
      "outputs": [
        {
          "output_type": "stream",
          "name": "stdout",
          "text": [
            " Iteration            1 : Time =   0.23956199999999997     \n",
            " Iteration            2 : Time =   0.23944599999999996     \n",
            " Iteration            3 : Time =   0.22740600000000000     \n",
            " Iteration            4 : Time =   0.24100999999999995     \n",
            " Iteration            5 : Time =   0.22826700000000000     \n",
            " Iteration            6 : Time =   0.22304899999999983     \n",
            " Iteration            7 : Time =   0.22355300000000011     \n",
            " Iteration            8 : Time =   0.22375900000000004     \n",
            " Iteration            9 : Time =   0.24975499999999995     \n",
            " Iteration           10 : Time =   0.23554599999999981     \n"
          ]
        }
      ]
    },
    {
      "cell_type": "code",
      "source": [
        "\n",
        "new_row = pd.DataFrame({\"Lenguaje\": \"Fortran\", \"Tiempo-Promedio-Ejecucion\": avg_fortran_real}, index=[0])\n",
        "\n",
        "dataFrame = pd.concat([dataFrame, new_row], ignore_index=True)\n",
        "\n",
        "print(dataFrame)"
      ],
      "metadata": {
        "colab": {
          "base_uri": "https://localhost:8080/"
        },
        "id": "h-CW36HDw62W",
        "outputId": "4656ddfc-eaae-4aac-b541-3478418b268c"
      },
      "execution_count": 35,
      "outputs": [
        {
          "output_type": "stream",
          "name": "stdout",
          "text": [
            "        Lenguaje  Tiempo-Promedio-Ejecucion\n",
            "0         Python                   9.500559\n",
            "1          NumPy                   0.004222\n",
            "2  Fortran_Magic                   0.025937\n",
            "3        Fortran                   0.252672\n"
          ]
        }
      ]
    },
    {
      "cell_type": "markdown",
      "source": [
        "**My own example 19 - Creating a c program that mutiplies 10 times A(600x100) and  B (100x600) matrices**"
      ],
      "metadata": {
        "id": "8G8ZZ2hfZXYA"
      }
    },
    {
      "cell_type": "code",
      "source": [
        "%%writefile mat_mul.c\n",
        "\n",
        "#include <stdio.h>\n",
        "#include <stdlib.h>\n",
        "#include <time.h>\n",
        "\n",
        "#define ROW_A 600\n",
        "#define COL_A 100\n",
        "#define ROW_B 100\n",
        "#define COL_B 600\n",
        "\n",
        "void fill_matrix(int rows, int cols, double matrix[rows][cols]) {\n",
        "    for (int i = 0; i < rows; i++) {\n",
        "        for (int j = 0; j < cols; j++) {\n",
        "            matrix[i][j] = rand() % 10; // Random values between 0 and 9\n",
        "        }\n",
        "    }\n",
        "}\n",
        "\n",
        "void multiply_matrices(double A[ROW_A][COL_A], double B[ROW_B][COL_B], double C[ROW_A][COL_B]) {\n",
        "    for (int i = 0; i < ROW_A; i++) {\n",
        "        for (int j = 0; j < COL_B; j++) {\n",
        "            C[i][j] = 0;\n",
        "            for (int k = 0; k < COL_A; k++) {\n",
        "                C[i][j] += A[i][k] * B[k][j];\n",
        "            }\n",
        "        }\n",
        "    }\n",
        "}\n",
        "\n",
        "int main() {\n",
        "    double A[ROW_A][COL_A];\n",
        "    double B[ROW_B][COL_B];\n",
        "    double C[ROW_A][COL_B];\n",
        "\n",
        "    // Seed for random number generation\n",
        "    srand(time(NULL));\n",
        "\n",
        "    // Initialize matrices A and B with random values\n",
        "    fill_matrix(ROW_A, COL_A, A);\n",
        "    fill_matrix(ROW_B, COL_B, B);\n",
        "\n",
        "    clock_t start = clock();\n",
        "\n",
        "    // Perform multiplication 10 times\n",
        "    for (int i = 0; i < 10; i++) {\n",
        "        multiply_matrices(A, B, C);\n",
        "    }\n",
        "\n",
        "    clock_t end = clock();\n",
        "    double time_spent = (double)(end - start) / CLOCKS_PER_SEC;\n",
        "\n",
        "    printf(\"Matrix multiplication completed 10 times.\\n\");\n",
        "    printf(\"Time taken: %f seconds\\n\", time_spent);\n",
        "\n",
        "    return 0;\n",
        "}"
      ],
      "metadata": {
        "id": "BknrT-KK65wP",
        "colab": {
          "base_uri": "https://localhost:8080/"
        },
        "outputId": "6defcd13-a14e-4dc5-c10d-c161824786ed"
      },
      "execution_count": 36,
      "outputs": [
        {
          "output_type": "stream",
          "name": "stdout",
          "text": [
            "Writing mat_mul.c\n"
          ]
        }
      ]
    },
    {
      "cell_type": "markdown",
      "source": [
        "**My own example 20 - Running the c program that mutiplies 10 times A(600x100) and  B (100x600) matrices**"
      ],
      "metadata": {
        "id": "i-oPlTweZndB"
      }
    },
    {
      "cell_type": "code",
      "source": [
        "start_time = time.time()\n",
        "!gcc mat_mul.c -o mat_mul\n",
        "!./mat_mul\n",
        "final_time = time.time() - start_time\n",
        "avg_c_real = final_time/10\n"
      ],
      "metadata": {
        "id": "CKFgaMTa67Ri",
        "colab": {
          "base_uri": "https://localhost:8080/"
        },
        "outputId": "ddce4ea0-a26f-4190-df5b-bbc205fc3283"
      },
      "execution_count": 37,
      "outputs": [
        {
          "output_type": "stream",
          "name": "stdout",
          "text": [
            "Matrix multiplication completed 10 times.\n",
            "Time taken: 1.992195 seconds\n"
          ]
        }
      ]
    },
    {
      "cell_type": "markdown",
      "source": [
        "**My own example 21 - Adding c average execution time to the data frame**"
      ],
      "metadata": {
        "id": "U9Wf-9DPZ3R4"
      }
    },
    {
      "cell_type": "code",
      "source": [
        "new_row = pd.DataFrame({\"Lenguaje\": \"C\", \"Tiempo-Promedio-Ejecucion\": avg_c_real}, index=[0])\n",
        "\n",
        "dataFrame = pd.concat([dataFrame, new_row], ignore_index=True)\n",
        "\n",
        "print(dataFrame)"
      ],
      "metadata": {
        "colab": {
          "base_uri": "https://localhost:8080/"
        },
        "id": "pEq8Bo-YzWS8",
        "outputId": "57000104-e0a5-4a6b-8bbd-b8c130c9cf5d"
      },
      "execution_count": 38,
      "outputs": [
        {
          "output_type": "stream",
          "name": "stdout",
          "text": [
            "        Lenguaje  Tiempo-Promedio-Ejecucion\n",
            "0         Python                   9.500559\n",
            "1          NumPy                   0.004222\n",
            "2  Fortran_Magic                   0.025937\n",
            "3        Fortran                   0.252672\n",
            "4              C                   0.222435\n"
          ]
        }
      ]
    },
    {
      "cell_type": "markdown",
      "source": [
        "**My own example 22 - Creating a C++ program that mutiplies 10 times A(600x100) and  B (100x600) matrices**"
      ],
      "metadata": {
        "id": "XkgHEUB2aFI1"
      }
    },
    {
      "cell_type": "code",
      "source": [
        "%%writefile matmul.cpp\n",
        "\n",
        "#include <iostream>\n",
        "#include <vector>\n",
        "#include <cstdlib>\n",
        "#include <ctime>\n",
        "\n",
        "#define ROW_A 600\n",
        "#define COL_A 100\n",
        "#define ROW_B 100\n",
        "#define COL_B 600\n",
        "\n",
        "void fill_matrix(std::vector<std::vector<double>>& matrix, int rows, int cols) {\n",
        "    for (int i = 0; i < rows; i++) {\n",
        "        for (int j = 0; j < cols; j++) {\n",
        "            matrix[i][j] = rand() % 10; // Random values between 0 and 9\n",
        "        }\n",
        "    }\n",
        "}\n",
        "\n",
        "void multiply_matrices(const std::vector<std::vector<double>>& A, const std::vector<std::vector<double>>& B, std::vector<std::vector<double>>& C) {\n",
        "    for (int i = 0; i < ROW_A; i++) {\n",
        "        for (int j = 0; j < COL_B; j++) {\n",
        "            C[i][j] = 0.0;\n",
        "            for (int k = 0; k < COL_A; k++) {\n",
        "                C[i][j] += A[i][k] * B[k][j];\n",
        "            }\n",
        "        }\n",
        "    }\n",
        "}\n",
        "\n",
        "int main() {\n",
        "    srand(time(0));\n",
        "\n",
        "    // Define matrices\n",
        "    std::vector<std::vector<double>> A(ROW_A, std::vector<double>(COL_A));\n",
        "    std::vector<std::vector<double>> B(ROW_B, std::vector<double>(COL_B));\n",
        "    std::vector<std::vector<double>> C(ROW_A, std::vector<double>(COL_B));\n",
        "\n",
        "    // Fill matrices A and B with random values\n",
        "    fill_matrix(A, ROW_A, COL_A);\n",
        "    fill_matrix(B, ROW_B, COL_B);\n",
        "\n",
        "    // Perform multiplication 10 times and measure the time taken\n",
        "    for (int i = 0; i < 10; i++) {\n",
        "        clock_t start = clock();\n",
        "        multiply_matrices(A, B, C);\n",
        "        clock_t end = clock();\n",
        "        double duration = double(end - start) / CLOCKS_PER_SEC;\n",
        "        std::cout << \"Multiplication \" << i+1 << \" took \" << duration << \" seconds.\" << std::endl;\n",
        "    }\n",
        "\n",
        "    return 0;\n",
        "}"
      ],
      "metadata": {
        "id": "U1CoUYEw6-9P",
        "colab": {
          "base_uri": "https://localhost:8080/"
        },
        "outputId": "2113d655-cc19-4d92-f352-24ea4324b23a"
      },
      "execution_count": 39,
      "outputs": [
        {
          "output_type": "stream",
          "name": "stdout",
          "text": [
            "Writing matmul.cpp\n"
          ]
        }
      ]
    },
    {
      "cell_type": "markdown",
      "source": [
        "**My own example 23 - Running the C++ program that mutiplies 10 times A(600x100) and  B (100x600) matrices**"
      ],
      "metadata": {
        "id": "WFpb2F81aKJA"
      }
    },
    {
      "cell_type": "code",
      "source": [
        "start_time = time.time()\n",
        "!g++ matmul.cpp -o matmul\n",
        "!./matmul\n",
        "final_time = time.time() - start_time\n",
        "avg_cpp_real = final_time/10\n"
      ],
      "metadata": {
        "id": "Q33PLFeG6_0r",
        "colab": {
          "base_uri": "https://localhost:8080/"
        },
        "outputId": "c802bffe-6adb-4d63-941f-af6917402781"
      },
      "execution_count": 40,
      "outputs": [
        {
          "output_type": "stream",
          "name": "stdout",
          "text": [
            "Multiplication 1 took 0.709731 seconds.\n",
            "Multiplication 2 took 0.685574 seconds.\n",
            "Multiplication 3 took 0.725987 seconds.\n",
            "Multiplication 4 took 0.715266 seconds.\n",
            "Multiplication 5 took 0.721851 seconds.\n",
            "Multiplication 6 took 0.726262 seconds.\n",
            "Multiplication 7 took 0.682716 seconds.\n",
            "Multiplication 8 took 0.695564 seconds.\n",
            "Multiplication 9 took 0.736811 seconds.\n",
            "Multiplication 10 took 0.728723 seconds.\n"
          ]
        }
      ]
    },
    {
      "cell_type": "markdown",
      "source": [
        "**My own example 24 - Adding C++ average execution time to the data frame**"
      ],
      "metadata": {
        "id": "GSEE2zDjaPmg"
      }
    },
    {
      "cell_type": "code",
      "source": [
        "new_row = pd.DataFrame({\"Lenguaje\": \"C++\", \"Tiempo-Promedio-Ejecucion\": avg_cpp_real}, index=[0])\n",
        "\n",
        "dataFrame = pd.concat([dataFrame, new_row], ignore_index=True)\n",
        "\n",
        "print(dataFrame)"
      ],
      "metadata": {
        "id": "YL_YL8Qm7B0w",
        "colab": {
          "base_uri": "https://localhost:8080/"
        },
        "outputId": "0289cdf9-5d6a-4cab-f3b3-acf2c8e5126b"
      },
      "execution_count": 41,
      "outputs": [
        {
          "output_type": "stream",
          "name": "stdout",
          "text": [
            "        Lenguaje  Tiempo-Promedio-Ejecucion\n",
            "0         Python                   9.500559\n",
            "1          NumPy                   0.004222\n",
            "2  Fortran_Magic                   0.025937\n",
            "3        Fortran                   0.252672\n",
            "4              C                   0.222435\n",
            "5            C++                   0.815800\n"
          ]
        }
      ]
    },
    {
      "cell_type": "markdown",
      "source": [
        "**My own example 25 - Creating a Java program that mutiplies 10 times A(600x100) and  B (100x600) matrices**"
      ],
      "metadata": {
        "id": "OjOecKv-d-ML"
      }
    },
    {
      "cell_type": "code",
      "source": [
        "!apt-get install -y openjdk-11-jdk"
      ],
      "metadata": {
        "id": "o8UPxOqs7C34",
        "colab": {
          "base_uri": "https://localhost:8080/"
        },
        "collapsed": true,
        "outputId": "4b29279a-f543-41aa-c2b9-77672115a86e"
      },
      "execution_count": 42,
      "outputs": [
        {
          "output_type": "stream",
          "name": "stdout",
          "text": [
            "Reading package lists... Done\n",
            "Building dependency tree... Done\n",
            "Reading state information... Done\n",
            "The following additional packages will be installed:\n",
            "  fonts-dejavu-core fonts-dejavu-extra libatk-wrapper-java libatk-wrapper-java-jni libfontenc1\n",
            "  libice-dev libsm-dev libxkbfile1 libxt-dev libxtst6 libxxf86dga1 openjdk-11-jre x11-utils\n",
            "Suggested packages:\n",
            "  libice-doc libsm-doc libxt-doc openjdk-11-demo openjdk-11-source visualvm mesa-utils\n",
            "The following NEW packages will be installed:\n",
            "  fonts-dejavu-core fonts-dejavu-extra libatk-wrapper-java libatk-wrapper-java-jni libfontenc1\n",
            "  libice-dev libsm-dev libxkbfile1 libxt-dev libxtst6 libxxf86dga1 openjdk-11-jdk openjdk-11-jre\n",
            "  x11-utils\n",
            "0 upgraded, 14 newly installed, 0 to remove and 49 not upgraded.\n",
            "Need to get 5,517 kB of archives.\n",
            "After this operation, 15.8 MB of additional disk space will be used.\n",
            "Get:1 http://archive.ubuntu.com/ubuntu jammy/main amd64 fonts-dejavu-core all 2.37-2build1 [1,041 kB]\n",
            "Get:2 http://archive.ubuntu.com/ubuntu jammy/main amd64 fonts-dejavu-extra all 2.37-2build1 [2,041 kB]\n",
            "Get:3 http://archive.ubuntu.com/ubuntu jammy/main amd64 libfontenc1 amd64 1:1.1.4-1build3 [14.7 kB]\n",
            "Get:4 http://archive.ubuntu.com/ubuntu jammy/main amd64 libxkbfile1 amd64 1:1.1.0-1build3 [71.8 kB]\n",
            "Get:5 http://archive.ubuntu.com/ubuntu jammy/main amd64 libxtst6 amd64 2:1.2.3-1build4 [13.4 kB]\n",
            "Get:6 http://archive.ubuntu.com/ubuntu jammy/main amd64 libxxf86dga1 amd64 2:1.1.5-0ubuntu3 [12.6 kB]\n",
            "Get:7 http://archive.ubuntu.com/ubuntu jammy/main amd64 x11-utils amd64 7.7+5build2 [206 kB]\n",
            "Get:8 http://archive.ubuntu.com/ubuntu jammy/main amd64 libatk-wrapper-java all 0.38.0-5build1 [53.1 kB]\n",
            "Get:9 http://archive.ubuntu.com/ubuntu jammy/main amd64 libatk-wrapper-java-jni amd64 0.38.0-5build1 [49.0 kB]\n",
            "Get:10 http://archive.ubuntu.com/ubuntu jammy/main amd64 libice-dev amd64 2:1.0.10-1build2 [51.4 kB]\n",
            "Get:11 http://archive.ubuntu.com/ubuntu jammy/main amd64 libsm-dev amd64 2:1.2.3-1build2 [18.1 kB]\n",
            "Get:12 http://archive.ubuntu.com/ubuntu jammy/main amd64 libxt-dev amd64 1:1.2.1-1 [396 kB]\n",
            "Get:13 http://archive.ubuntu.com/ubuntu jammy-updates/main amd64 openjdk-11-jre amd64 11.0.25+9-1ubuntu1~22.04 [216 kB]\n",
            "Get:14 http://archive.ubuntu.com/ubuntu jammy-updates/main amd64 openjdk-11-jdk amd64 11.0.25+9-1ubuntu1~22.04 [1,334 kB]\n",
            "Fetched 5,517 kB in 1s (4,977 kB/s)\n",
            "Selecting previously unselected package fonts-dejavu-core.\n",
            "(Reading database ... 123629 files and directories currently installed.)\n",
            "Preparing to unpack .../00-fonts-dejavu-core_2.37-2build1_all.deb ...\n",
            "Unpacking fonts-dejavu-core (2.37-2build1) ...\n",
            "Selecting previously unselected package fonts-dejavu-extra.\n",
            "Preparing to unpack .../01-fonts-dejavu-extra_2.37-2build1_all.deb ...\n",
            "Unpacking fonts-dejavu-extra (2.37-2build1) ...\n",
            "Selecting previously unselected package libfontenc1:amd64.\n",
            "Preparing to unpack .../02-libfontenc1_1%3a1.1.4-1build3_amd64.deb ...\n",
            "Unpacking libfontenc1:amd64 (1:1.1.4-1build3) ...\n",
            "Selecting previously unselected package libxkbfile1:amd64.\n",
            "Preparing to unpack .../03-libxkbfile1_1%3a1.1.0-1build3_amd64.deb ...\n",
            "Unpacking libxkbfile1:amd64 (1:1.1.0-1build3) ...\n",
            "Selecting previously unselected package libxtst6:amd64.\n",
            "Preparing to unpack .../04-libxtst6_2%3a1.2.3-1build4_amd64.deb ...\n",
            "Unpacking libxtst6:amd64 (2:1.2.3-1build4) ...\n",
            "Selecting previously unselected package libxxf86dga1:amd64.\n",
            "Preparing to unpack .../05-libxxf86dga1_2%3a1.1.5-0ubuntu3_amd64.deb ...\n",
            "Unpacking libxxf86dga1:amd64 (2:1.1.5-0ubuntu3) ...\n",
            "Selecting previously unselected package x11-utils.\n",
            "Preparing to unpack .../06-x11-utils_7.7+5build2_amd64.deb ...\n",
            "Unpacking x11-utils (7.7+5build2) ...\n",
            "Selecting previously unselected package libatk-wrapper-java.\n",
            "Preparing to unpack .../07-libatk-wrapper-java_0.38.0-5build1_all.deb ...\n",
            "Unpacking libatk-wrapper-java (0.38.0-5build1) ...\n",
            "Selecting previously unselected package libatk-wrapper-java-jni:amd64.\n",
            "Preparing to unpack .../08-libatk-wrapper-java-jni_0.38.0-5build1_amd64.deb ...\n",
            "Unpacking libatk-wrapper-java-jni:amd64 (0.38.0-5build1) ...\n",
            "Selecting previously unselected package libice-dev:amd64.\n",
            "Preparing to unpack .../09-libice-dev_2%3a1.0.10-1build2_amd64.deb ...\n",
            "Unpacking libice-dev:amd64 (2:1.0.10-1build2) ...\n",
            "Selecting previously unselected package libsm-dev:amd64.\n",
            "Preparing to unpack .../10-libsm-dev_2%3a1.2.3-1build2_amd64.deb ...\n",
            "Unpacking libsm-dev:amd64 (2:1.2.3-1build2) ...\n",
            "Selecting previously unselected package libxt-dev:amd64.\n",
            "Preparing to unpack .../11-libxt-dev_1%3a1.2.1-1_amd64.deb ...\n",
            "Unpacking libxt-dev:amd64 (1:1.2.1-1) ...\n",
            "Selecting previously unselected package openjdk-11-jre:amd64.\n",
            "Preparing to unpack .../12-openjdk-11-jre_11.0.25+9-1ubuntu1~22.04_amd64.deb ...\n",
            "Unpacking openjdk-11-jre:amd64 (11.0.25+9-1ubuntu1~22.04) ...\n",
            "Selecting previously unselected package openjdk-11-jdk:amd64.\n",
            "Preparing to unpack .../13-openjdk-11-jdk_11.0.25+9-1ubuntu1~22.04_amd64.deb ...\n",
            "Unpacking openjdk-11-jdk:amd64 (11.0.25+9-1ubuntu1~22.04) ...\n",
            "Setting up libice-dev:amd64 (2:1.0.10-1build2) ...\n",
            "Setting up libsm-dev:amd64 (2:1.2.3-1build2) ...\n",
            "Setting up libxtst6:amd64 (2:1.2.3-1build4) ...\n",
            "Setting up libxxf86dga1:amd64 (2:1.1.5-0ubuntu3) ...\n",
            "Setting up openjdk-11-jre:amd64 (11.0.25+9-1ubuntu1~22.04) ...\n",
            "Setting up libfontenc1:amd64 (1:1.1.4-1build3) ...\n",
            "Setting up libxt-dev:amd64 (1:1.2.1-1) ...\n",
            "Setting up fonts-dejavu-core (2.37-2build1) ...\n",
            "Setting up fonts-dejavu-extra (2.37-2build1) ...\n",
            "Setting up openjdk-11-jdk:amd64 (11.0.25+9-1ubuntu1~22.04) ...\n",
            "update-alternatives: using /usr/lib/jvm/java-11-openjdk-amd64/bin/jconsole to provide /usr/bin/jconsole (jconsole) in auto mode\n",
            "Setting up libxkbfile1:amd64 (1:1.1.0-1build3) ...\n",
            "Setting up x11-utils (7.7+5build2) ...\n",
            "Setting up libatk-wrapper-java (0.38.0-5build1) ...\n",
            "Setting up libatk-wrapper-java-jni:amd64 (0.38.0-5build1) ...\n",
            "Processing triggers for hicolor-icon-theme (0.17-2) ...\n",
            "Processing triggers for libc-bin (2.35-0ubuntu3.4) ...\n",
            "/sbin/ldconfig.real: /usr/local/lib/libtbb.so.12 is not a symbolic link\n",
            "\n",
            "/sbin/ldconfig.real: /usr/local/lib/libtbbmalloc.so.2 is not a symbolic link\n",
            "\n",
            "/sbin/ldconfig.real: /usr/local/lib/libtcm_debug.so.1 is not a symbolic link\n",
            "\n",
            "/sbin/ldconfig.real: /usr/local/lib/libtbbbind_2_0.so.3 is not a symbolic link\n",
            "\n",
            "/sbin/ldconfig.real: /usr/local/lib/libtbbbind_2_5.so.3 is not a symbolic link\n",
            "\n",
            "/sbin/ldconfig.real: /usr/local/lib/libur_loader.so.0 is not a symbolic link\n",
            "\n",
            "/sbin/ldconfig.real: /usr/local/lib/libtcm.so.1 is not a symbolic link\n",
            "\n",
            "/sbin/ldconfig.real: /usr/local/lib/libumf.so.0 is not a symbolic link\n",
            "\n",
            "/sbin/ldconfig.real: /usr/local/lib/libur_adapter_level_zero.so.0 is not a symbolic link\n",
            "\n",
            "/sbin/ldconfig.real: /usr/local/lib/libtbbbind.so.3 is not a symbolic link\n",
            "\n",
            "/sbin/ldconfig.real: /usr/local/lib/libhwloc.so.15 is not a symbolic link\n",
            "\n",
            "/sbin/ldconfig.real: /usr/local/lib/libur_adapter_opencl.so.0 is not a symbolic link\n",
            "\n",
            "/sbin/ldconfig.real: /usr/local/lib/libtbbmalloc_proxy.so.2 is not a symbolic link\n",
            "\n",
            "Processing triggers for man-db (2.10.2-1) ...\n",
            "Processing triggers for fontconfig (2.13.1-4.2ubuntu5) ...\n"
          ]
        }
      ]
    },
    {
      "cell_type": "code",
      "source": [
        "%%writefile MatMul.java\n",
        "\n",
        "import java.util.Random;\n",
        "\n",
        "public class MatMul {\n",
        "    static final int ROW_A = 600;\n",
        "    static final int COL_A = 100;\n",
        "    static final int ROW_B = 100;\n",
        "    static final int COL_B = 600;\n",
        "\n",
        "    public static void main(String[] args) {\n",
        "        double[][] A = new double[ROW_A][COL_A];\n",
        "        double[][] B = new double[ROW_B][COL_B];\n",
        "        double[][] C = new double[ROW_A][COL_B];\n",
        "\n",
        "        fillMatrix(A, ROW_A, COL_A);\n",
        "        fillMatrix(B, ROW_B, COL_B);\n",
        "\n",
        "        // Perform multiplication 10 times and measure the time taken\n",
        "        for (int i = 0; i < 10; i++) {\n",
        "            long startTime = System.nanoTime();\n",
        "            multiplyMatrices(A, B, C);\n",
        "            long endTime = System.nanoTime();\n",
        "            double duration = (endTime - startTime) / 1e9;\n",
        "            System.out.printf(\"Multiplication %d took %.6f seconds.%n\", i + 1, duration);\n",
        "        }\n",
        "    }\n",
        "\n",
        "    public static void fillMatrix(double[][] matrix, int rows, int cols) {\n",
        "        Random rand = new Random();\n",
        "        for (int i = 0; i < rows; i++) {\n",
        "            for (int j = 0; j < cols; j++) {\n",
        "                matrix[i][j] = rand.nextInt(10); // Random values between 0 and 9\n",
        "            }\n",
        "        }\n",
        "    }\n",
        "\n",
        "    public static void multiplyMatrices(double[][] A, double[][] B, double[][] C) {\n",
        "        for (int i = 0; i < ROW_A; i++) {\n",
        "            for (int j = 0; j < COL_B; j++) {\n",
        "                C[i][j] = 0.0;\n",
        "                for (int k = 0; k < COL_A; k++) {\n",
        "                    C[i][j] += A[i][k] * B[k][j];\n",
        "                }\n",
        "            }\n",
        "        }\n",
        "    }\n",
        "}\n"
      ],
      "metadata": {
        "colab": {
          "base_uri": "https://localhost:8080/"
        },
        "id": "38kkDs3m6oNa",
        "outputId": "1ea786c0-767d-4678-8b97-271415322092"
      },
      "execution_count": 43,
      "outputs": [
        {
          "output_type": "stream",
          "name": "stdout",
          "text": [
            "Writing MatMul.java\n"
          ]
        }
      ]
    },
    {
      "cell_type": "markdown",
      "source": [
        "**My own example 26 - Running the Java program that mutiplies 10 times A(600x100) and  B (100x600) matrices**"
      ],
      "metadata": {
        "id": "J75aKNvZeFHx"
      }
    },
    {
      "cell_type": "code",
      "source": [
        "start_time = time.time()\n",
        "!javac MatMul.java\n",
        "!java MatMul\n",
        "final_time = time.time() - start_time\n",
        "avg_java_real = final_time/10"
      ],
      "metadata": {
        "id": "NP_QcZqA7EPn",
        "colab": {
          "base_uri": "https://localhost:8080/"
        },
        "outputId": "d4dee305-8c68-43c7-ebba-f0dc7cecccf3"
      },
      "execution_count": 44,
      "outputs": [
        {
          "output_type": "stream",
          "name": "stdout",
          "text": [
            "Multiplication 1 took 0.090864 seconds.\n",
            "Multiplication 2 took 0.070911 seconds.\n",
            "Multiplication 3 took 0.090212 seconds.\n",
            "Multiplication 4 took 0.093280 seconds.\n",
            "Multiplication 5 took 0.091720 seconds.\n",
            "Multiplication 6 took 0.097321 seconds.\n",
            "Multiplication 7 took 0.094035 seconds.\n",
            "Multiplication 8 took 0.092535 seconds.\n",
            "Multiplication 9 took 0.104834 seconds.\n",
            "Multiplication 10 took 0.101481 seconds.\n"
          ]
        }
      ]
    },
    {
      "cell_type": "markdown",
      "source": [
        "**My own example 27 - Adding Java average execution time to the data frame**"
      ],
      "metadata": {
        "id": "C75pEHRieNfo"
      }
    },
    {
      "cell_type": "code",
      "source": [
        "new_row = pd.DataFrame({\"Lenguaje\": \"Java\", \"Tiempo-Promedio-Ejecucion\": avg_java_real}, index=[0])\n",
        "\n",
        "dataFrame = pd.concat([dataFrame, new_row], ignore_index=True)\n",
        "\n",
        "print(dataFrame)"
      ],
      "metadata": {
        "id": "5ZDLYWrY7Fhi",
        "colab": {
          "base_uri": "https://localhost:8080/"
        },
        "outputId": "6f516534-d985-40cc-a66c-f00f771eba79"
      },
      "execution_count": 45,
      "outputs": [
        {
          "output_type": "stream",
          "name": "stdout",
          "text": [
            "        Lenguaje  Tiempo-Promedio-Ejecucion\n",
            "0         Python                   9.500559\n",
            "1          NumPy                   0.004222\n",
            "2  Fortran_Magic                   0.025937\n",
            "3        Fortran                   0.252672\n",
            "4              C                   0.222435\n",
            "5            C++                   0.815800\n",
            "6           Java                   0.283662\n"
          ]
        }
      ]
    },
    {
      "cell_type": "markdown",
      "source": [
        "**My own example 28 - Creating a Javascript program that mutiplies 10 times A(600x100) and  B (100x600) matrices**"
      ],
      "metadata": {
        "id": "nHtevrHEeUiI"
      }
    },
    {
      "cell_type": "code",
      "source": [
        "%%writefile matmul.js\n",
        "\n",
        "function fillMatrix(rows, cols) {\n",
        "    const matrix = [];\n",
        "    for (let i = 0; i < rows; i++) {\n",
        "        matrix[i] = [];\n",
        "        for (let j = 0; j < cols; j++) {\n",
        "            matrix[i][j] = Math.floor(Math.random() * 10); // Random values between 0 and 9\n",
        "        }\n",
        "    }\n",
        "    return matrix;\n",
        "}\n",
        "\n",
        "function multiplyMatrices(A, B) {\n",
        "    const rowsA = A.length;\n",
        "    const colsA = A[0].length;\n",
        "    const colsB = B[0].length;\n",
        "    const C = Array.from({ length: rowsA }, () => Array(colsB).fill(0));\n",
        "\n",
        "    for (let i = 0; i < rowsA; i++) {\n",
        "        for (let j = 0; j < colsB; j++) {\n",
        "            for (let k = 0; k < colsA; k++) {\n",
        "                C[i][j] += A[i][k] * B[k][j];\n",
        "            }\n",
        "        }\n",
        "    }\n",
        "    return C;\n",
        "}\n",
        "\n",
        "const ROW_A = 600, COL_A = 100;\n",
        "const ROW_B = 100, COL_B = 600;\n",
        "\n",
        "const A = fillMatrix(ROW_A, COL_A);\n",
        "const B = fillMatrix(ROW_B, COL_B);\n",
        "\n",
        "for (let i = 0; i < 10; i++) {\n",
        "    console.time(`Multiplication ${i + 1}`);\n",
        "    const C = multiplyMatrices(A, B);\n",
        "    console.timeEnd(`Multiplication ${i + 1}`);\n",
        "}\n"
      ],
      "metadata": {
        "id": "6t1-WhmW7GhX",
        "colab": {
          "base_uri": "https://localhost:8080/"
        },
        "outputId": "90c4355d-9e40-4e12-edd6-6624dbbec80a"
      },
      "execution_count": 47,
      "outputs": [
        {
          "output_type": "stream",
          "name": "stdout",
          "text": [
            "Overwriting matmul.js\n"
          ]
        }
      ]
    },
    {
      "cell_type": "markdown",
      "source": [
        "**My own example 29 - Running the Javascript program that mutiplies 10 times A(600x100) and  B (100x600) matrices**"
      ],
      "metadata": {
        "id": "87XpOlCteUZJ"
      }
    },
    {
      "cell_type": "code",
      "source": [
        "start_time = time.time()\n",
        "!node matmul.js\n",
        "final_time = time.time() - start_time\n",
        "avg_js_real = final_time/10"
      ],
      "metadata": {
        "id": "QEm52oVe7HyF",
        "colab": {
          "base_uri": "https://localhost:8080/"
        },
        "outputId": "212aa474-80e3-49c1-dd0b-8d69612a4473"
      },
      "execution_count": 48,
      "outputs": [
        {
          "output_type": "stream",
          "name": "stdout",
          "text": [
            "Multiplication 1: 304.784ms\n",
            "Multiplication 2: 284.513ms\n",
            "Multiplication 3: 292.464ms\n",
            "Multiplication 4: 298.114ms\n",
            "Multiplication 5: 290.71ms\n",
            "Multiplication 6: 291.534ms\n",
            "Multiplication 7: 274.351ms\n",
            "Multiplication 8: 310.297ms\n",
            "Multiplication 9: 278.097ms\n",
            "Multiplication 10: 312.11ms\n"
          ]
        }
      ]
    },
    {
      "cell_type": "markdown",
      "source": [
        "**My own example 30 - Adding Javascript average execution time to the data frame**"
      ],
      "metadata": {
        "id": "LvxaACodc9-K"
      }
    },
    {
      "cell_type": "code",
      "source": [
        "new_row = pd.DataFrame({\"Lenguaje\": \"JavaScript\", \"Tiempo-Promedio-Ejecucion\": avg_js_real}, index=[0])\n",
        "\n",
        "dataFrame = pd.concat([dataFrame, new_row], ignore_index=True)\n",
        "\n",
        "print(dataFrame)"
      ],
      "metadata": {
        "id": "BP_cdxR17J50",
        "colab": {
          "base_uri": "https://localhost:8080/"
        },
        "outputId": "6a57f714-dfff-439f-92c9-dd34e034c8d4"
      },
      "execution_count": 49,
      "outputs": [
        {
          "output_type": "stream",
          "name": "stdout",
          "text": [
            "        Lenguaje  Tiempo-Promedio-Ejecucion\n",
            "0         Python                   9.500559\n",
            "1          NumPy                   0.004222\n",
            "2  Fortran_Magic                   0.025937\n",
            "3        Fortran                   0.252672\n",
            "4              C                   0.222435\n",
            "5            C++                   0.815800\n",
            "6           Java                   0.283662\n",
            "7     JavaScript                   0.302569\n"
          ]
        }
      ]
    },
    {
      "cell_type": "markdown",
      "source": [
        "**My own example 31 - Finding the minimun average esecuiton time in the data frame**"
      ],
      "metadata": {
        "id": "XPP0Ir1dezN6"
      }
    },
    {
      "cell_type": "code",
      "source": [
        "minValue = dataFrame['Tiempo-Promedio-Ejecucion'].min()\n",
        "print(minValue)"
      ],
      "metadata": {
        "id": "y0rA3N9v7KyM",
        "colab": {
          "base_uri": "https://localhost:8080/"
        },
        "outputId": "b07f78ba-6771-4ad2-914e-e0b285ce0f2b"
      },
      "execution_count": 50,
      "outputs": [
        {
          "output_type": "stream",
          "name": "stdout",
          "text": [
            "0.004222345352172851\n"
          ]
        }
      ]
    },
    {
      "cell_type": "markdown",
      "source": [
        "**My own example 32 - Adding the Speed factor columne to the data frame**"
      ],
      "metadata": {
        "id": "_IjH2K6ldJAQ"
      }
    },
    {
      "cell_type": "code",
      "source": [
        "dataFrame[\"Factor-Velocidad\"] = dataFrame[\"Tiempo-Promedio-Ejecucion\"] / minValue\n",
        "print(dataFrame)"
      ],
      "metadata": {
        "colab": {
          "base_uri": "https://localhost:8080/"
        },
        "id": "foftDRSw8cNc",
        "outputId": "861fa078-eac8-44d3-8739-ef559917b20c"
      },
      "execution_count": 51,
      "outputs": [
        {
          "output_type": "stream",
          "name": "stdout",
          "text": [
            "        Lenguaje  Tiempo-Promedio-Ejecucion  Factor-Velocidad\n",
            "0         Python                   9.500559       2250.066822\n",
            "1          NumPy                   0.004222          1.000000\n",
            "2  Fortran_Magic                   0.025937          6.142904\n",
            "3        Fortran                   0.252672         59.841732\n",
            "4              C                   0.222435         52.680369\n",
            "5            C++                   0.815800        193.210268\n",
            "6           Java                   0.283662         67.181216\n",
            "7     JavaScript                   0.302569         71.659059\n"
          ]
        }
      ]
    },
    {
      "cell_type": "markdown",
      "source": [
        "**My own example 33 - Sorting the the data frame by average execution time**"
      ],
      "metadata": {
        "id": "CjiN21fvdRch"
      }
    },
    {
      "cell_type": "code",
      "source": [
        "# Organiza el DataFrame by 'Tiempo-Promedio-Ejecucion'\n",
        "dataFrame_sorted = dataFrame.sort_values(by='Tiempo-Promedio-Ejecucion')\n",
        "dataFrame_sorted"
      ],
      "metadata": {
        "colab": {
          "base_uri": "https://localhost:8080/",
          "height": 300
        },
        "id": "d8eiDHB0GpBF",
        "outputId": "7b4649fa-9f6b-4bdd-ae98-544be27b418f"
      },
      "execution_count": 52,
      "outputs": [
        {
          "output_type": "execute_result",
          "data": {
            "text/plain": [
              "        Lenguaje  Tiempo-Promedio-Ejecucion  Factor-Velocidad\n",
              "1          NumPy                   0.004222          1.000000\n",
              "2  Fortran_Magic                   0.025937          6.142904\n",
              "4              C                   0.222435         52.680369\n",
              "3        Fortran                   0.252672         59.841732\n",
              "6           Java                   0.283662         67.181216\n",
              "7     JavaScript                   0.302569         71.659059\n",
              "5            C++                   0.815800        193.210268\n",
              "0         Python                   9.500559       2250.066822"
            ],
            "text/html": [
              "\n",
              "  <div id=\"df-091973a7-3a7a-4ba6-972e-b745bfb3afe1\" class=\"colab-df-container\">\n",
              "    <div>\n",
              "<style scoped>\n",
              "    .dataframe tbody tr th:only-of-type {\n",
              "        vertical-align: middle;\n",
              "    }\n",
              "\n",
              "    .dataframe tbody tr th {\n",
              "        vertical-align: top;\n",
              "    }\n",
              "\n",
              "    .dataframe thead th {\n",
              "        text-align: right;\n",
              "    }\n",
              "</style>\n",
              "<table border=\"1\" class=\"dataframe\">\n",
              "  <thead>\n",
              "    <tr style=\"text-align: right;\">\n",
              "      <th></th>\n",
              "      <th>Lenguaje</th>\n",
              "      <th>Tiempo-Promedio-Ejecucion</th>\n",
              "      <th>Factor-Velocidad</th>\n",
              "    </tr>\n",
              "  </thead>\n",
              "  <tbody>\n",
              "    <tr>\n",
              "      <th>1</th>\n",
              "      <td>NumPy</td>\n",
              "      <td>0.004222</td>\n",
              "      <td>1.000000</td>\n",
              "    </tr>\n",
              "    <tr>\n",
              "      <th>2</th>\n",
              "      <td>Fortran_Magic</td>\n",
              "      <td>0.025937</td>\n",
              "      <td>6.142904</td>\n",
              "    </tr>\n",
              "    <tr>\n",
              "      <th>4</th>\n",
              "      <td>C</td>\n",
              "      <td>0.222435</td>\n",
              "      <td>52.680369</td>\n",
              "    </tr>\n",
              "    <tr>\n",
              "      <th>3</th>\n",
              "      <td>Fortran</td>\n",
              "      <td>0.252672</td>\n",
              "      <td>59.841732</td>\n",
              "    </tr>\n",
              "    <tr>\n",
              "      <th>6</th>\n",
              "      <td>Java</td>\n",
              "      <td>0.283662</td>\n",
              "      <td>67.181216</td>\n",
              "    </tr>\n",
              "    <tr>\n",
              "      <th>7</th>\n",
              "      <td>JavaScript</td>\n",
              "      <td>0.302569</td>\n",
              "      <td>71.659059</td>\n",
              "    </tr>\n",
              "    <tr>\n",
              "      <th>5</th>\n",
              "      <td>C++</td>\n",
              "      <td>0.815800</td>\n",
              "      <td>193.210268</td>\n",
              "    </tr>\n",
              "    <tr>\n",
              "      <th>0</th>\n",
              "      <td>Python</td>\n",
              "      <td>9.500559</td>\n",
              "      <td>2250.066822</td>\n",
              "    </tr>\n",
              "  </tbody>\n",
              "</table>\n",
              "</div>\n",
              "    <div class=\"colab-df-buttons\">\n",
              "\n",
              "  <div class=\"colab-df-container\">\n",
              "    <button class=\"colab-df-convert\" onclick=\"convertToInteractive('df-091973a7-3a7a-4ba6-972e-b745bfb3afe1')\"\n",
              "            title=\"Convert this dataframe to an interactive table.\"\n",
              "            style=\"display:none;\">\n",
              "\n",
              "  <svg xmlns=\"http://www.w3.org/2000/svg\" height=\"24px\" viewBox=\"0 -960 960 960\">\n",
              "    <path d=\"M120-120v-720h720v720H120Zm60-500h600v-160H180v160Zm220 220h160v-160H400v160Zm0 220h160v-160H400v160ZM180-400h160v-160H180v160Zm440 0h160v-160H620v160ZM180-180h160v-160H180v160Zm440 0h160v-160H620v160Z\"/>\n",
              "  </svg>\n",
              "    </button>\n",
              "\n",
              "  <style>\n",
              "    .colab-df-container {\n",
              "      display:flex;\n",
              "      gap: 12px;\n",
              "    }\n",
              "\n",
              "    .colab-df-convert {\n",
              "      background-color: #E8F0FE;\n",
              "      border: none;\n",
              "      border-radius: 50%;\n",
              "      cursor: pointer;\n",
              "      display: none;\n",
              "      fill: #1967D2;\n",
              "      height: 32px;\n",
              "      padding: 0 0 0 0;\n",
              "      width: 32px;\n",
              "    }\n",
              "\n",
              "    .colab-df-convert:hover {\n",
              "      background-color: #E2EBFA;\n",
              "      box-shadow: 0px 1px 2px rgba(60, 64, 67, 0.3), 0px 1px 3px 1px rgba(60, 64, 67, 0.15);\n",
              "      fill: #174EA6;\n",
              "    }\n",
              "\n",
              "    .colab-df-buttons div {\n",
              "      margin-bottom: 4px;\n",
              "    }\n",
              "\n",
              "    [theme=dark] .colab-df-convert {\n",
              "      background-color: #3B4455;\n",
              "      fill: #D2E3FC;\n",
              "    }\n",
              "\n",
              "    [theme=dark] .colab-df-convert:hover {\n",
              "      background-color: #434B5C;\n",
              "      box-shadow: 0px 1px 3px 1px rgba(0, 0, 0, 0.15);\n",
              "      filter: drop-shadow(0px 1px 2px rgba(0, 0, 0, 0.3));\n",
              "      fill: #FFFFFF;\n",
              "    }\n",
              "  </style>\n",
              "\n",
              "    <script>\n",
              "      const buttonEl =\n",
              "        document.querySelector('#df-091973a7-3a7a-4ba6-972e-b745bfb3afe1 button.colab-df-convert');\n",
              "      buttonEl.style.display =\n",
              "        google.colab.kernel.accessAllowed ? 'block' : 'none';\n",
              "\n",
              "      async function convertToInteractive(key) {\n",
              "        const element = document.querySelector('#df-091973a7-3a7a-4ba6-972e-b745bfb3afe1');\n",
              "        const dataTable =\n",
              "          await google.colab.kernel.invokeFunction('convertToInteractive',\n",
              "                                                    [key], {});\n",
              "        if (!dataTable) return;\n",
              "\n",
              "        const docLinkHtml = 'Like what you see? Visit the ' +\n",
              "          '<a target=\"_blank\" href=https://colab.research.google.com/notebooks/data_table.ipynb>data table notebook</a>'\n",
              "          + ' to learn more about interactive tables.';\n",
              "        element.innerHTML = '';\n",
              "        dataTable['output_type'] = 'display_data';\n",
              "        await google.colab.output.renderOutput(dataTable, element);\n",
              "        const docLink = document.createElement('div');\n",
              "        docLink.innerHTML = docLinkHtml;\n",
              "        element.appendChild(docLink);\n",
              "      }\n",
              "    </script>\n",
              "  </div>\n",
              "\n",
              "\n",
              "<div id=\"df-ce646ea2-adb1-466c-a7a8-34627983583a\">\n",
              "  <button class=\"colab-df-quickchart\" onclick=\"quickchart('df-ce646ea2-adb1-466c-a7a8-34627983583a')\"\n",
              "            title=\"Suggest charts\"\n",
              "            style=\"display:none;\">\n",
              "\n",
              "<svg xmlns=\"http://www.w3.org/2000/svg\" height=\"24px\"viewBox=\"0 0 24 24\"\n",
              "     width=\"24px\">\n",
              "    <g>\n",
              "        <path d=\"M19 3H5c-1.1 0-2 .9-2 2v14c0 1.1.9 2 2 2h14c1.1 0 2-.9 2-2V5c0-1.1-.9-2-2-2zM9 17H7v-7h2v7zm4 0h-2V7h2v10zm4 0h-2v-4h2v4z\"/>\n",
              "    </g>\n",
              "</svg>\n",
              "  </button>\n",
              "\n",
              "<style>\n",
              "  .colab-df-quickchart {\n",
              "      --bg-color: #E8F0FE;\n",
              "      --fill-color: #1967D2;\n",
              "      --hover-bg-color: #E2EBFA;\n",
              "      --hover-fill-color: #174EA6;\n",
              "      --disabled-fill-color: #AAA;\n",
              "      --disabled-bg-color: #DDD;\n",
              "  }\n",
              "\n",
              "  [theme=dark] .colab-df-quickchart {\n",
              "      --bg-color: #3B4455;\n",
              "      --fill-color: #D2E3FC;\n",
              "      --hover-bg-color: #434B5C;\n",
              "      --hover-fill-color: #FFFFFF;\n",
              "      --disabled-bg-color: #3B4455;\n",
              "      --disabled-fill-color: #666;\n",
              "  }\n",
              "\n",
              "  .colab-df-quickchart {\n",
              "    background-color: var(--bg-color);\n",
              "    border: none;\n",
              "    border-radius: 50%;\n",
              "    cursor: pointer;\n",
              "    display: none;\n",
              "    fill: var(--fill-color);\n",
              "    height: 32px;\n",
              "    padding: 0;\n",
              "    width: 32px;\n",
              "  }\n",
              "\n",
              "  .colab-df-quickchart:hover {\n",
              "    background-color: var(--hover-bg-color);\n",
              "    box-shadow: 0 1px 2px rgba(60, 64, 67, 0.3), 0 1px 3px 1px rgba(60, 64, 67, 0.15);\n",
              "    fill: var(--button-hover-fill-color);\n",
              "  }\n",
              "\n",
              "  .colab-df-quickchart-complete:disabled,\n",
              "  .colab-df-quickchart-complete:disabled:hover {\n",
              "    background-color: var(--disabled-bg-color);\n",
              "    fill: var(--disabled-fill-color);\n",
              "    box-shadow: none;\n",
              "  }\n",
              "\n",
              "  .colab-df-spinner {\n",
              "    border: 2px solid var(--fill-color);\n",
              "    border-color: transparent;\n",
              "    border-bottom-color: var(--fill-color);\n",
              "    animation:\n",
              "      spin 1s steps(1) infinite;\n",
              "  }\n",
              "\n",
              "  @keyframes spin {\n",
              "    0% {\n",
              "      border-color: transparent;\n",
              "      border-bottom-color: var(--fill-color);\n",
              "      border-left-color: var(--fill-color);\n",
              "    }\n",
              "    20% {\n",
              "      border-color: transparent;\n",
              "      border-left-color: var(--fill-color);\n",
              "      border-top-color: var(--fill-color);\n",
              "    }\n",
              "    30% {\n",
              "      border-color: transparent;\n",
              "      border-left-color: var(--fill-color);\n",
              "      border-top-color: var(--fill-color);\n",
              "      border-right-color: var(--fill-color);\n",
              "    }\n",
              "    40% {\n",
              "      border-color: transparent;\n",
              "      border-right-color: var(--fill-color);\n",
              "      border-top-color: var(--fill-color);\n",
              "    }\n",
              "    60% {\n",
              "      border-color: transparent;\n",
              "      border-right-color: var(--fill-color);\n",
              "    }\n",
              "    80% {\n",
              "      border-color: transparent;\n",
              "      border-right-color: var(--fill-color);\n",
              "      border-bottom-color: var(--fill-color);\n",
              "    }\n",
              "    90% {\n",
              "      border-color: transparent;\n",
              "      border-bottom-color: var(--fill-color);\n",
              "    }\n",
              "  }\n",
              "</style>\n",
              "\n",
              "  <script>\n",
              "    async function quickchart(key) {\n",
              "      const quickchartButtonEl =\n",
              "        document.querySelector('#' + key + ' button');\n",
              "      quickchartButtonEl.disabled = true;  // To prevent multiple clicks.\n",
              "      quickchartButtonEl.classList.add('colab-df-spinner');\n",
              "      try {\n",
              "        const charts = await google.colab.kernel.invokeFunction(\n",
              "            'suggestCharts', [key], {});\n",
              "      } catch (error) {\n",
              "        console.error('Error during call to suggestCharts:', error);\n",
              "      }\n",
              "      quickchartButtonEl.classList.remove('colab-df-spinner');\n",
              "      quickchartButtonEl.classList.add('colab-df-quickchart-complete');\n",
              "    }\n",
              "    (() => {\n",
              "      let quickchartButtonEl =\n",
              "        document.querySelector('#df-ce646ea2-adb1-466c-a7a8-34627983583a button');\n",
              "      quickchartButtonEl.style.display =\n",
              "        google.colab.kernel.accessAllowed ? 'block' : 'none';\n",
              "    })();\n",
              "  </script>\n",
              "</div>\n",
              "\n",
              "  <div id=\"id_c6fff40b-2673-4cfb-bfb9-ae461638855d\">\n",
              "    <style>\n",
              "      .colab-df-generate {\n",
              "        background-color: #E8F0FE;\n",
              "        border: none;\n",
              "        border-radius: 50%;\n",
              "        cursor: pointer;\n",
              "        display: none;\n",
              "        fill: #1967D2;\n",
              "        height: 32px;\n",
              "        padding: 0 0 0 0;\n",
              "        width: 32px;\n",
              "      }\n",
              "\n",
              "      .colab-df-generate:hover {\n",
              "        background-color: #E2EBFA;\n",
              "        box-shadow: 0px 1px 2px rgba(60, 64, 67, 0.3), 0px 1px 3px 1px rgba(60, 64, 67, 0.15);\n",
              "        fill: #174EA6;\n",
              "      }\n",
              "\n",
              "      [theme=dark] .colab-df-generate {\n",
              "        background-color: #3B4455;\n",
              "        fill: #D2E3FC;\n",
              "      }\n",
              "\n",
              "      [theme=dark] .colab-df-generate:hover {\n",
              "        background-color: #434B5C;\n",
              "        box-shadow: 0px 1px 3px 1px rgba(0, 0, 0, 0.15);\n",
              "        filter: drop-shadow(0px 1px 2px rgba(0, 0, 0, 0.3));\n",
              "        fill: #FFFFFF;\n",
              "      }\n",
              "    </style>\n",
              "    <button class=\"colab-df-generate\" onclick=\"generateWithVariable('dataFrame_sorted')\"\n",
              "            title=\"Generate code using this dataframe.\"\n",
              "            style=\"display:none;\">\n",
              "\n",
              "  <svg xmlns=\"http://www.w3.org/2000/svg\" height=\"24px\"viewBox=\"0 0 24 24\"\n",
              "       width=\"24px\">\n",
              "    <path d=\"M7,19H8.4L18.45,9,17,7.55,7,17.6ZM5,21V16.75L18.45,3.32a2,2,0,0,1,2.83,0l1.4,1.43a1.91,1.91,0,0,1,.58,1.4,1.91,1.91,0,0,1-.58,1.4L9.25,21ZM18.45,9,17,7.55Zm-12,3A5.31,5.31,0,0,0,4.9,8.1,5.31,5.31,0,0,0,1,6.5,5.31,5.31,0,0,0,4.9,4.9,5.31,5.31,0,0,0,6.5,1,5.31,5.31,0,0,0,8.1,4.9,5.31,5.31,0,0,0,12,6.5,5.46,5.46,0,0,0,6.5,12Z\"/>\n",
              "  </svg>\n",
              "    </button>\n",
              "    <script>\n",
              "      (() => {\n",
              "      const buttonEl =\n",
              "        document.querySelector('#id_c6fff40b-2673-4cfb-bfb9-ae461638855d button.colab-df-generate');\n",
              "      buttonEl.style.display =\n",
              "        google.colab.kernel.accessAllowed ? 'block' : 'none';\n",
              "\n",
              "      buttonEl.onclick = () => {\n",
              "        google.colab.notebook.generateWithVariable('dataFrame_sorted');\n",
              "      }\n",
              "      })();\n",
              "    </script>\n",
              "  </div>\n",
              "\n",
              "    </div>\n",
              "  </div>\n"
            ],
            "application/vnd.google.colaboratory.intrinsic+json": {
              "type": "dataframe",
              "variable_name": "dataFrame_sorted",
              "summary": "{\n  \"name\": \"dataFrame_sorted\",\n  \"rows\": 8,\n  \"fields\": [\n    {\n      \"column\": \"Lenguaje\",\n      \"properties\": {\n        \"dtype\": \"string\",\n        \"num_unique_values\": 8,\n        \"samples\": [\n          \"Fortran_Magic\",\n          \"JavaScript\",\n          \"NumPy\"\n        ],\n        \"semantic_type\": \"\",\n        \"description\": \"\"\n      }\n    },\n    {\n      \"column\": \"Tiempo-Promedio-Ejecucion\",\n      \"properties\": {\n        \"dtype\": \"number\",\n        \"std\": 3.2720630285107752,\n        \"min\": 0.004222345352172851,\n        \"max\": 9.500559186935424,\n        \"num_unique_values\": 8,\n        \"samples\": [\n          0.025937461853027345,\n          0.3025692939758301,\n          0.004222345352172851\n        ],\n        \"semantic_type\": \"\",\n        \"description\": \"\"\n      }\n    },\n    {\n      \"column\": \"Factor-Velocidad\",\n      \"properties\": {\n        \"dtype\": \"number\",\n        \"std\": 774.939697158345,\n        \"min\": 1.0,\n        \"max\": 2250.0668217597035,\n        \"num_unique_values\": 8,\n        \"samples\": [\n          6.142903928898125,\n          71.65905882618664,\n          1.0\n        ],\n        \"semantic_type\": \"\",\n        \"description\": \"\"\n      }\n    }\n  ]\n}"
            }
          },
          "metadata": {},
          "execution_count": 52
        }
      ]
    },
    {
      "cell_type": "markdown",
      "source": [
        "## Analisis de datos del mundo real:\n",
        "\n",
        "En la siguiente parte se va a realizar una analisis de la información de las precipitaciones en Bogotá obtenidas desde"
      ],
      "metadata": {
        "id": "aPXgJ1TtGAKQ"
      }
    },
    {
      "cell_type": "markdown",
      "metadata": {
        "id": "npT_ZgpYiXce"
      },
      "source": [
        "# \"Real World\" Data"
      ]
    },
    {
      "cell_type": "markdown",
      "source": [
        "Con el archivo subido al directorio de trabajo, solo se necesita abrir el CSV utilizando la función `Pandas.read_csv()`.\n",
        "\n",
        "Debido a la forma en la que viene la información, es necesaio agregar `quitechar='\"'` para que, cuando Pandas lea el documento, no tome la palabra \"Bogotá, D.C.\" como dos variables diferentes.\n",
        "\n",
        "Luego, se puede visualizar la información llamando la variable `lluvias`."
      ],
      "metadata": {
        "id": "qH2wt1IaQUZs"
      }
    },
    {
      "cell_type": "code",
      "source": [
        "from google.colab import drive\n",
        "drive.mount('/content/drive')"
      ],
      "metadata": {
        "colab": {
          "base_uri": "https://localhost:8080/"
        },
        "id": "PaaHRRcfPRaj",
        "outputId": "4e3f2c42-5472-45ba-8804-abd599609040"
      },
      "execution_count": 55,
      "outputs": [
        {
          "output_type": "stream",
          "name": "stdout",
          "text": [
            "Mounted at /content/drive\n"
          ]
        }
      ]
    },
    {
      "cell_type": "code",
      "source": [
        "lluvias = pd.read_csv(\"/content/drive/MyDrive/Precipitaci_n_20241112.csv\", quotechar='\"')\n",
        "lluvias"
      ],
      "metadata": {
        "colab": {
          "base_uri": "https://localhost:8080/",
          "height": 670
        },
        "id": "l7fy5W32QCbz",
        "outputId": "5759dc9e-095b-403d-c4c2-7cfcd21ee056"
      },
      "execution_count": 56,
      "outputs": [
        {
          "output_type": "execute_result",
          "data": {
            "text/plain": [
              "         CodigoEstacion  CodigoSensor        FechaObservacion  ValorObservado  \\\n",
              "0            2120000099           240  11/12/2019 10:57:00 PM             0.1   \n",
              "1            2120700038           240  11/12/2019 10:57:00 PM             0.2   \n",
              "2            2120000103           240  11/12/2019 10:57:00 PM             0.0   \n",
              "3            2120000105           240  11/12/2019 10:57:00 PM             0.0   \n",
              "4            2120700037           240  11/12/2019 10:57:00 PM             0.0   \n",
              "...                 ...           ...                     ...             ...   \n",
              "9412894      2120000135           240  11/11/2024 11:59:00 PM             0.0   \n",
              "9412895        21202250           240  11/11/2024 11:59:00 PM             0.0   \n",
              "9412896        21206780           240  11/11/2024 11:59:00 PM             0.0   \n",
              "9412897      2120000169           240  11/11/2024 11:59:00 PM             0.0   \n",
              "9412898      2120000124           240  11/11/2024 11:59:00 PM             0.0   \n",
              "\n",
              "                                     NombreEstacion Departamento    Municipio  \\\n",
              "0                    COLEGIO VEINTIUN ANGELES - AUT  BOGOTA D.C.  BOGOTA, D.C   \n",
              "1                               SAN FRANCISCO - AUT  BOGOTA D.C.  BOGOTA, D.C   \n",
              "2                                 CERRO NORTE - AUT  BOGOTA D.C.  BOGOTA, D.C   \n",
              "3                                   EL CODITO - AUT  BOGOTA D.C.  BOGOTA, D.C   \n",
              "4        CASAS FISCALES ESCUELA DE ARTILLERÍA - AUT  BOGOTA D.C.  BOGOTA, D.C   \n",
              "...                                             ...          ...          ...   \n",
              "9412894                 COL. MANUEL ELKIN PATARROYO       BOGOTÁ   BOGOTÁ D.C   \n",
              "9412895                                  DOÑA JUANA       BOGOTÁ   BOGOTÁ D.C   \n",
              "9412896                             LA INDEPENDENCI       BOGOTÁ   BOGOTÁ D.C   \n",
              "9412897                          COLEGIO LA BELLEZA       BOGOTÁ   BOGOTÁ D.C   \n",
              "9412898                            COL RAFAEL URIBE       BOGOTÁ   BOGOTÁ D.C   \n",
              "\n",
              "        ZonaHidrografica   Latitud   Longitud DescripcionSensor UnidadMedida  \n",
              "0         ALTO MAGDALENA  4.749000 -74.081000     Precipitacion           mm  \n",
              "1         ALTO MAGDALENA  4.562000 -74.149000     Precipitacion           mm  \n",
              "2         ALTO MAGDALENA  4.733000 -74.019000     Precipitacion           mm  \n",
              "3         ALTO MAGDALENA  4.763000 -74.022000     Precipitacion           mm  \n",
              "4         ALTO MAGDALENA  4.556000 -74.125000     Precipitacion           mm  \n",
              "...                  ...       ...        ...               ...          ...  \n",
              "9412894   ALTO MAGDALENA  4.618230 -74.064390     PRECIPITACIÓN           mm  \n",
              "9412895   ALTO MAGDALENA  4.500820 -74.137390     PRECIPITACIÓN           mm  \n",
              "9412896   ALTO MAGDALENA  4.619272 -74.194594     PRECIPITACIÓN           mm  \n",
              "9412897   ALTO MAGDALENA  4.530590 -74.092440     PRECIPITACIÓN           mm  \n",
              "9412898   ALTO MAGDALENA  4.583176 -74.132461     PRECIPITACIÓN           mm  \n",
              "\n",
              "[9412899 rows x 12 columns]"
            ],
            "text/html": [
              "\n",
              "  <div id=\"df-0777be92-cc22-4e62-9765-95f8ddf02088\" class=\"colab-df-container\">\n",
              "    <div>\n",
              "<style scoped>\n",
              "    .dataframe tbody tr th:only-of-type {\n",
              "        vertical-align: middle;\n",
              "    }\n",
              "\n",
              "    .dataframe tbody tr th {\n",
              "        vertical-align: top;\n",
              "    }\n",
              "\n",
              "    .dataframe thead th {\n",
              "        text-align: right;\n",
              "    }\n",
              "</style>\n",
              "<table border=\"1\" class=\"dataframe\">\n",
              "  <thead>\n",
              "    <tr style=\"text-align: right;\">\n",
              "      <th></th>\n",
              "      <th>CodigoEstacion</th>\n",
              "      <th>CodigoSensor</th>\n",
              "      <th>FechaObservacion</th>\n",
              "      <th>ValorObservado</th>\n",
              "      <th>NombreEstacion</th>\n",
              "      <th>Departamento</th>\n",
              "      <th>Municipio</th>\n",
              "      <th>ZonaHidrografica</th>\n",
              "      <th>Latitud</th>\n",
              "      <th>Longitud</th>\n",
              "      <th>DescripcionSensor</th>\n",
              "      <th>UnidadMedida</th>\n",
              "    </tr>\n",
              "  </thead>\n",
              "  <tbody>\n",
              "    <tr>\n",
              "      <th>0</th>\n",
              "      <td>2120000099</td>\n",
              "      <td>240</td>\n",
              "      <td>11/12/2019 10:57:00 PM</td>\n",
              "      <td>0.1</td>\n",
              "      <td>COLEGIO VEINTIUN ANGELES - AUT</td>\n",
              "      <td>BOGOTA D.C.</td>\n",
              "      <td>BOGOTA, D.C</td>\n",
              "      <td>ALTO MAGDALENA</td>\n",
              "      <td>4.749000</td>\n",
              "      <td>-74.081000</td>\n",
              "      <td>Precipitacion</td>\n",
              "      <td>mm</td>\n",
              "    </tr>\n",
              "    <tr>\n",
              "      <th>1</th>\n",
              "      <td>2120700038</td>\n",
              "      <td>240</td>\n",
              "      <td>11/12/2019 10:57:00 PM</td>\n",
              "      <td>0.2</td>\n",
              "      <td>SAN FRANCISCO - AUT</td>\n",
              "      <td>BOGOTA D.C.</td>\n",
              "      <td>BOGOTA, D.C</td>\n",
              "      <td>ALTO MAGDALENA</td>\n",
              "      <td>4.562000</td>\n",
              "      <td>-74.149000</td>\n",
              "      <td>Precipitacion</td>\n",
              "      <td>mm</td>\n",
              "    </tr>\n",
              "    <tr>\n",
              "      <th>2</th>\n",
              "      <td>2120000103</td>\n",
              "      <td>240</td>\n",
              "      <td>11/12/2019 10:57:00 PM</td>\n",
              "      <td>0.0</td>\n",
              "      <td>CERRO NORTE - AUT</td>\n",
              "      <td>BOGOTA D.C.</td>\n",
              "      <td>BOGOTA, D.C</td>\n",
              "      <td>ALTO MAGDALENA</td>\n",
              "      <td>4.733000</td>\n",
              "      <td>-74.019000</td>\n",
              "      <td>Precipitacion</td>\n",
              "      <td>mm</td>\n",
              "    </tr>\n",
              "    <tr>\n",
              "      <th>3</th>\n",
              "      <td>2120000105</td>\n",
              "      <td>240</td>\n",
              "      <td>11/12/2019 10:57:00 PM</td>\n",
              "      <td>0.0</td>\n",
              "      <td>EL CODITO - AUT</td>\n",
              "      <td>BOGOTA D.C.</td>\n",
              "      <td>BOGOTA, D.C</td>\n",
              "      <td>ALTO MAGDALENA</td>\n",
              "      <td>4.763000</td>\n",
              "      <td>-74.022000</td>\n",
              "      <td>Precipitacion</td>\n",
              "      <td>mm</td>\n",
              "    </tr>\n",
              "    <tr>\n",
              "      <th>4</th>\n",
              "      <td>2120700037</td>\n",
              "      <td>240</td>\n",
              "      <td>11/12/2019 10:57:00 PM</td>\n",
              "      <td>0.0</td>\n",
              "      <td>CASAS FISCALES ESCUELA DE ARTILLERÍA - AUT</td>\n",
              "      <td>BOGOTA D.C.</td>\n",
              "      <td>BOGOTA, D.C</td>\n",
              "      <td>ALTO MAGDALENA</td>\n",
              "      <td>4.556000</td>\n",
              "      <td>-74.125000</td>\n",
              "      <td>Precipitacion</td>\n",
              "      <td>mm</td>\n",
              "    </tr>\n",
              "    <tr>\n",
              "      <th>...</th>\n",
              "      <td>...</td>\n",
              "      <td>...</td>\n",
              "      <td>...</td>\n",
              "      <td>...</td>\n",
              "      <td>...</td>\n",
              "      <td>...</td>\n",
              "      <td>...</td>\n",
              "      <td>...</td>\n",
              "      <td>...</td>\n",
              "      <td>...</td>\n",
              "      <td>...</td>\n",
              "      <td>...</td>\n",
              "    </tr>\n",
              "    <tr>\n",
              "      <th>9412894</th>\n",
              "      <td>2120000135</td>\n",
              "      <td>240</td>\n",
              "      <td>11/11/2024 11:59:00 PM</td>\n",
              "      <td>0.0</td>\n",
              "      <td>COL. MANUEL ELKIN PATARROYO</td>\n",
              "      <td>BOGOTÁ</td>\n",
              "      <td>BOGOTÁ D.C</td>\n",
              "      <td>ALTO MAGDALENA</td>\n",
              "      <td>4.618230</td>\n",
              "      <td>-74.064390</td>\n",
              "      <td>PRECIPITACIÓN</td>\n",
              "      <td>mm</td>\n",
              "    </tr>\n",
              "    <tr>\n",
              "      <th>9412895</th>\n",
              "      <td>21202250</td>\n",
              "      <td>240</td>\n",
              "      <td>11/11/2024 11:59:00 PM</td>\n",
              "      <td>0.0</td>\n",
              "      <td>DOÑA JUANA</td>\n",
              "      <td>BOGOTÁ</td>\n",
              "      <td>BOGOTÁ D.C</td>\n",
              "      <td>ALTO MAGDALENA</td>\n",
              "      <td>4.500820</td>\n",
              "      <td>-74.137390</td>\n",
              "      <td>PRECIPITACIÓN</td>\n",
              "      <td>mm</td>\n",
              "    </tr>\n",
              "    <tr>\n",
              "      <th>9412896</th>\n",
              "      <td>21206780</td>\n",
              "      <td>240</td>\n",
              "      <td>11/11/2024 11:59:00 PM</td>\n",
              "      <td>0.0</td>\n",
              "      <td>LA INDEPENDENCI</td>\n",
              "      <td>BOGOTÁ</td>\n",
              "      <td>BOGOTÁ D.C</td>\n",
              "      <td>ALTO MAGDALENA</td>\n",
              "      <td>4.619272</td>\n",
              "      <td>-74.194594</td>\n",
              "      <td>PRECIPITACIÓN</td>\n",
              "      <td>mm</td>\n",
              "    </tr>\n",
              "    <tr>\n",
              "      <th>9412897</th>\n",
              "      <td>2120000169</td>\n",
              "      <td>240</td>\n",
              "      <td>11/11/2024 11:59:00 PM</td>\n",
              "      <td>0.0</td>\n",
              "      <td>COLEGIO LA BELLEZA</td>\n",
              "      <td>BOGOTÁ</td>\n",
              "      <td>BOGOTÁ D.C</td>\n",
              "      <td>ALTO MAGDALENA</td>\n",
              "      <td>4.530590</td>\n",
              "      <td>-74.092440</td>\n",
              "      <td>PRECIPITACIÓN</td>\n",
              "      <td>mm</td>\n",
              "    </tr>\n",
              "    <tr>\n",
              "      <th>9412898</th>\n",
              "      <td>2120000124</td>\n",
              "      <td>240</td>\n",
              "      <td>11/11/2024 11:59:00 PM</td>\n",
              "      <td>0.0</td>\n",
              "      <td>COL RAFAEL URIBE</td>\n",
              "      <td>BOGOTÁ</td>\n",
              "      <td>BOGOTÁ D.C</td>\n",
              "      <td>ALTO MAGDALENA</td>\n",
              "      <td>4.583176</td>\n",
              "      <td>-74.132461</td>\n",
              "      <td>PRECIPITACIÓN</td>\n",
              "      <td>mm</td>\n",
              "    </tr>\n",
              "  </tbody>\n",
              "</table>\n",
              "<p>9412899 rows × 12 columns</p>\n",
              "</div>\n",
              "    <div class=\"colab-df-buttons\">\n",
              "\n",
              "  <div class=\"colab-df-container\">\n",
              "    <button class=\"colab-df-convert\" onclick=\"convertToInteractive('df-0777be92-cc22-4e62-9765-95f8ddf02088')\"\n",
              "            title=\"Convert this dataframe to an interactive table.\"\n",
              "            style=\"display:none;\">\n",
              "\n",
              "  <svg xmlns=\"http://www.w3.org/2000/svg\" height=\"24px\" viewBox=\"0 -960 960 960\">\n",
              "    <path d=\"M120-120v-720h720v720H120Zm60-500h600v-160H180v160Zm220 220h160v-160H400v160Zm0 220h160v-160H400v160ZM180-400h160v-160H180v160Zm440 0h160v-160H620v160ZM180-180h160v-160H180v160Zm440 0h160v-160H620v160Z\"/>\n",
              "  </svg>\n",
              "    </button>\n",
              "\n",
              "  <style>\n",
              "    .colab-df-container {\n",
              "      display:flex;\n",
              "      gap: 12px;\n",
              "    }\n",
              "\n",
              "    .colab-df-convert {\n",
              "      background-color: #E8F0FE;\n",
              "      border: none;\n",
              "      border-radius: 50%;\n",
              "      cursor: pointer;\n",
              "      display: none;\n",
              "      fill: #1967D2;\n",
              "      height: 32px;\n",
              "      padding: 0 0 0 0;\n",
              "      width: 32px;\n",
              "    }\n",
              "\n",
              "    .colab-df-convert:hover {\n",
              "      background-color: #E2EBFA;\n",
              "      box-shadow: 0px 1px 2px rgba(60, 64, 67, 0.3), 0px 1px 3px 1px rgba(60, 64, 67, 0.15);\n",
              "      fill: #174EA6;\n",
              "    }\n",
              "\n",
              "    .colab-df-buttons div {\n",
              "      margin-bottom: 4px;\n",
              "    }\n",
              "\n",
              "    [theme=dark] .colab-df-convert {\n",
              "      background-color: #3B4455;\n",
              "      fill: #D2E3FC;\n",
              "    }\n",
              "\n",
              "    [theme=dark] .colab-df-convert:hover {\n",
              "      background-color: #434B5C;\n",
              "      box-shadow: 0px 1px 3px 1px rgba(0, 0, 0, 0.15);\n",
              "      filter: drop-shadow(0px 1px 2px rgba(0, 0, 0, 0.3));\n",
              "      fill: #FFFFFF;\n",
              "    }\n",
              "  </style>\n",
              "\n",
              "    <script>\n",
              "      const buttonEl =\n",
              "        document.querySelector('#df-0777be92-cc22-4e62-9765-95f8ddf02088 button.colab-df-convert');\n",
              "      buttonEl.style.display =\n",
              "        google.colab.kernel.accessAllowed ? 'block' : 'none';\n",
              "\n",
              "      async function convertToInteractive(key) {\n",
              "        const element = document.querySelector('#df-0777be92-cc22-4e62-9765-95f8ddf02088');\n",
              "        const dataTable =\n",
              "          await google.colab.kernel.invokeFunction('convertToInteractive',\n",
              "                                                    [key], {});\n",
              "        if (!dataTable) return;\n",
              "\n",
              "        const docLinkHtml = 'Like what you see? Visit the ' +\n",
              "          '<a target=\"_blank\" href=https://colab.research.google.com/notebooks/data_table.ipynb>data table notebook</a>'\n",
              "          + ' to learn more about interactive tables.';\n",
              "        element.innerHTML = '';\n",
              "        dataTable['output_type'] = 'display_data';\n",
              "        await google.colab.output.renderOutput(dataTable, element);\n",
              "        const docLink = document.createElement('div');\n",
              "        docLink.innerHTML = docLinkHtml;\n",
              "        element.appendChild(docLink);\n",
              "      }\n",
              "    </script>\n",
              "  </div>\n",
              "\n",
              "\n",
              "<div id=\"df-d647cc05-ee59-4439-82a1-a9ea222039f2\">\n",
              "  <button class=\"colab-df-quickchart\" onclick=\"quickchart('df-d647cc05-ee59-4439-82a1-a9ea222039f2')\"\n",
              "            title=\"Suggest charts\"\n",
              "            style=\"display:none;\">\n",
              "\n",
              "<svg xmlns=\"http://www.w3.org/2000/svg\" height=\"24px\"viewBox=\"0 0 24 24\"\n",
              "     width=\"24px\">\n",
              "    <g>\n",
              "        <path d=\"M19 3H5c-1.1 0-2 .9-2 2v14c0 1.1.9 2 2 2h14c1.1 0 2-.9 2-2V5c0-1.1-.9-2-2-2zM9 17H7v-7h2v7zm4 0h-2V7h2v10zm4 0h-2v-4h2v4z\"/>\n",
              "    </g>\n",
              "</svg>\n",
              "  </button>\n",
              "\n",
              "<style>\n",
              "  .colab-df-quickchart {\n",
              "      --bg-color: #E8F0FE;\n",
              "      --fill-color: #1967D2;\n",
              "      --hover-bg-color: #E2EBFA;\n",
              "      --hover-fill-color: #174EA6;\n",
              "      --disabled-fill-color: #AAA;\n",
              "      --disabled-bg-color: #DDD;\n",
              "  }\n",
              "\n",
              "  [theme=dark] .colab-df-quickchart {\n",
              "      --bg-color: #3B4455;\n",
              "      --fill-color: #D2E3FC;\n",
              "      --hover-bg-color: #434B5C;\n",
              "      --hover-fill-color: #FFFFFF;\n",
              "      --disabled-bg-color: #3B4455;\n",
              "      --disabled-fill-color: #666;\n",
              "  }\n",
              "\n",
              "  .colab-df-quickchart {\n",
              "    background-color: var(--bg-color);\n",
              "    border: none;\n",
              "    border-radius: 50%;\n",
              "    cursor: pointer;\n",
              "    display: none;\n",
              "    fill: var(--fill-color);\n",
              "    height: 32px;\n",
              "    padding: 0;\n",
              "    width: 32px;\n",
              "  }\n",
              "\n",
              "  .colab-df-quickchart:hover {\n",
              "    background-color: var(--hover-bg-color);\n",
              "    box-shadow: 0 1px 2px rgba(60, 64, 67, 0.3), 0 1px 3px 1px rgba(60, 64, 67, 0.15);\n",
              "    fill: var(--button-hover-fill-color);\n",
              "  }\n",
              "\n",
              "  .colab-df-quickchart-complete:disabled,\n",
              "  .colab-df-quickchart-complete:disabled:hover {\n",
              "    background-color: var(--disabled-bg-color);\n",
              "    fill: var(--disabled-fill-color);\n",
              "    box-shadow: none;\n",
              "  }\n",
              "\n",
              "  .colab-df-spinner {\n",
              "    border: 2px solid var(--fill-color);\n",
              "    border-color: transparent;\n",
              "    border-bottom-color: var(--fill-color);\n",
              "    animation:\n",
              "      spin 1s steps(1) infinite;\n",
              "  }\n",
              "\n",
              "  @keyframes spin {\n",
              "    0% {\n",
              "      border-color: transparent;\n",
              "      border-bottom-color: var(--fill-color);\n",
              "      border-left-color: var(--fill-color);\n",
              "    }\n",
              "    20% {\n",
              "      border-color: transparent;\n",
              "      border-left-color: var(--fill-color);\n",
              "      border-top-color: var(--fill-color);\n",
              "    }\n",
              "    30% {\n",
              "      border-color: transparent;\n",
              "      border-left-color: var(--fill-color);\n",
              "      border-top-color: var(--fill-color);\n",
              "      border-right-color: var(--fill-color);\n",
              "    }\n",
              "    40% {\n",
              "      border-color: transparent;\n",
              "      border-right-color: var(--fill-color);\n",
              "      border-top-color: var(--fill-color);\n",
              "    }\n",
              "    60% {\n",
              "      border-color: transparent;\n",
              "      border-right-color: var(--fill-color);\n",
              "    }\n",
              "    80% {\n",
              "      border-color: transparent;\n",
              "      border-right-color: var(--fill-color);\n",
              "      border-bottom-color: var(--fill-color);\n",
              "    }\n",
              "    90% {\n",
              "      border-color: transparent;\n",
              "      border-bottom-color: var(--fill-color);\n",
              "    }\n",
              "  }\n",
              "</style>\n",
              "\n",
              "  <script>\n",
              "    async function quickchart(key) {\n",
              "      const quickchartButtonEl =\n",
              "        document.querySelector('#' + key + ' button');\n",
              "      quickchartButtonEl.disabled = true;  // To prevent multiple clicks.\n",
              "      quickchartButtonEl.classList.add('colab-df-spinner');\n",
              "      try {\n",
              "        const charts = await google.colab.kernel.invokeFunction(\n",
              "            'suggestCharts', [key], {});\n",
              "      } catch (error) {\n",
              "        console.error('Error during call to suggestCharts:', error);\n",
              "      }\n",
              "      quickchartButtonEl.classList.remove('colab-df-spinner');\n",
              "      quickchartButtonEl.classList.add('colab-df-quickchart-complete');\n",
              "    }\n",
              "    (() => {\n",
              "      let quickchartButtonEl =\n",
              "        document.querySelector('#df-d647cc05-ee59-4439-82a1-a9ea222039f2 button');\n",
              "      quickchartButtonEl.style.display =\n",
              "        google.colab.kernel.accessAllowed ? 'block' : 'none';\n",
              "    })();\n",
              "  </script>\n",
              "</div>\n",
              "\n",
              "  <div id=\"id_67223cec-a2e4-4c20-99b4-69fefacbabda\">\n",
              "    <style>\n",
              "      .colab-df-generate {\n",
              "        background-color: #E8F0FE;\n",
              "        border: none;\n",
              "        border-radius: 50%;\n",
              "        cursor: pointer;\n",
              "        display: none;\n",
              "        fill: #1967D2;\n",
              "        height: 32px;\n",
              "        padding: 0 0 0 0;\n",
              "        width: 32px;\n",
              "      }\n",
              "\n",
              "      .colab-df-generate:hover {\n",
              "        background-color: #E2EBFA;\n",
              "        box-shadow: 0px 1px 2px rgba(60, 64, 67, 0.3), 0px 1px 3px 1px rgba(60, 64, 67, 0.15);\n",
              "        fill: #174EA6;\n",
              "      }\n",
              "\n",
              "      [theme=dark] .colab-df-generate {\n",
              "        background-color: #3B4455;\n",
              "        fill: #D2E3FC;\n",
              "      }\n",
              "\n",
              "      [theme=dark] .colab-df-generate:hover {\n",
              "        background-color: #434B5C;\n",
              "        box-shadow: 0px 1px 3px 1px rgba(0, 0, 0, 0.15);\n",
              "        filter: drop-shadow(0px 1px 2px rgba(0, 0, 0, 0.3));\n",
              "        fill: #FFFFFF;\n",
              "      }\n",
              "    </style>\n",
              "    <button class=\"colab-df-generate\" onclick=\"generateWithVariable('lluvias')\"\n",
              "            title=\"Generate code using this dataframe.\"\n",
              "            style=\"display:none;\">\n",
              "\n",
              "  <svg xmlns=\"http://www.w3.org/2000/svg\" height=\"24px\"viewBox=\"0 0 24 24\"\n",
              "       width=\"24px\">\n",
              "    <path d=\"M7,19H8.4L18.45,9,17,7.55,7,17.6ZM5,21V16.75L18.45,3.32a2,2,0,0,1,2.83,0l1.4,1.43a1.91,1.91,0,0,1,.58,1.4,1.91,1.91,0,0,1-.58,1.4L9.25,21ZM18.45,9,17,7.55Zm-12,3A5.31,5.31,0,0,0,4.9,8.1,5.31,5.31,0,0,0,1,6.5,5.31,5.31,0,0,0,4.9,4.9,5.31,5.31,0,0,0,6.5,1,5.31,5.31,0,0,0,8.1,4.9,5.31,5.31,0,0,0,12,6.5,5.46,5.46,0,0,0,6.5,12Z\"/>\n",
              "  </svg>\n",
              "    </button>\n",
              "    <script>\n",
              "      (() => {\n",
              "      const buttonEl =\n",
              "        document.querySelector('#id_67223cec-a2e4-4c20-99b4-69fefacbabda button.colab-df-generate');\n",
              "      buttonEl.style.display =\n",
              "        google.colab.kernel.accessAllowed ? 'block' : 'none';\n",
              "\n",
              "      buttonEl.onclick = () => {\n",
              "        google.colab.notebook.generateWithVariable('lluvias');\n",
              "      }\n",
              "      })();\n",
              "    </script>\n",
              "  </div>\n",
              "\n",
              "    </div>\n",
              "  </div>\n"
            ],
            "application/vnd.google.colaboratory.intrinsic+json": {
              "type": "dataframe",
              "variable_name": "lluvias"
            }
          },
          "metadata": {},
          "execution_count": 56
        }
      ]
    },
    {
      "cell_type": "code",
      "source": [
        "# se visualizan los tipos de dato dentro de la tabla de datos con la siguiente función:\n",
        "\n",
        "lluvias.dtypes"
      ],
      "metadata": {
        "colab": {
          "base_uri": "https://localhost:8080/",
          "height": 461
        },
        "id": "u9lPmES2QzEW",
        "outputId": "1f6b10e3-e2dd-4aac-80ff-61d956567a5a"
      },
      "execution_count": 57,
      "outputs": [
        {
          "output_type": "execute_result",
          "data": {
            "text/plain": [
              "CodigoEstacion         int64\n",
              "CodigoSensor           int64\n",
              "FechaObservacion      object\n",
              "ValorObservado       float64\n",
              "NombreEstacion        object\n",
              "Departamento          object\n",
              "Municipio             object\n",
              "ZonaHidrografica      object\n",
              "Latitud              float64\n",
              "Longitud             float64\n",
              "DescripcionSensor     object\n",
              "UnidadMedida          object\n",
              "dtype: object"
            ],
            "text/html": [
              "<div>\n",
              "<style scoped>\n",
              "    .dataframe tbody tr th:only-of-type {\n",
              "        vertical-align: middle;\n",
              "    }\n",
              "\n",
              "    .dataframe tbody tr th {\n",
              "        vertical-align: top;\n",
              "    }\n",
              "\n",
              "    .dataframe thead th {\n",
              "        text-align: right;\n",
              "    }\n",
              "</style>\n",
              "<table border=\"1\" class=\"dataframe\">\n",
              "  <thead>\n",
              "    <tr style=\"text-align: right;\">\n",
              "      <th></th>\n",
              "      <th>0</th>\n",
              "    </tr>\n",
              "  </thead>\n",
              "  <tbody>\n",
              "    <tr>\n",
              "      <th>CodigoEstacion</th>\n",
              "      <td>int64</td>\n",
              "    </tr>\n",
              "    <tr>\n",
              "      <th>CodigoSensor</th>\n",
              "      <td>int64</td>\n",
              "    </tr>\n",
              "    <tr>\n",
              "      <th>FechaObservacion</th>\n",
              "      <td>object</td>\n",
              "    </tr>\n",
              "    <tr>\n",
              "      <th>ValorObservado</th>\n",
              "      <td>float64</td>\n",
              "    </tr>\n",
              "    <tr>\n",
              "      <th>NombreEstacion</th>\n",
              "      <td>object</td>\n",
              "    </tr>\n",
              "    <tr>\n",
              "      <th>Departamento</th>\n",
              "      <td>object</td>\n",
              "    </tr>\n",
              "    <tr>\n",
              "      <th>Municipio</th>\n",
              "      <td>object</td>\n",
              "    </tr>\n",
              "    <tr>\n",
              "      <th>ZonaHidrografica</th>\n",
              "      <td>object</td>\n",
              "    </tr>\n",
              "    <tr>\n",
              "      <th>Latitud</th>\n",
              "      <td>float64</td>\n",
              "    </tr>\n",
              "    <tr>\n",
              "      <th>Longitud</th>\n",
              "      <td>float64</td>\n",
              "    </tr>\n",
              "    <tr>\n",
              "      <th>DescripcionSensor</th>\n",
              "      <td>object</td>\n",
              "    </tr>\n",
              "    <tr>\n",
              "      <th>UnidadMedida</th>\n",
              "      <td>object</td>\n",
              "    </tr>\n",
              "  </tbody>\n",
              "</table>\n",
              "</div><br><label><b>dtype:</b> object</label>"
            ]
          },
          "metadata": {},
          "execution_count": 57
        }
      ]
    },
    {
      "cell_type": "code",
      "source": [
        "# se formatea la columna \"Fecha de Observación\" con la siguiente función\n",
        "\n",
        "lluvias['FechaObservacion'] = pd.to_datetime(lluvias['FechaObservacion'], format='%m/%d/%Y %I:%M:%S %p')\n",
        "# lluvias['FechaObservacion'] = lluvias['FechaObservacion'].dt.date\n",
        "lluvias"
      ],
      "metadata": {
        "colab": {
          "base_uri": "https://localhost:8080/",
          "height": 670
        },
        "id": "8vABiXQFRvai",
        "outputId": "028476ae-de9f-40e2-f140-32eb67c8bd39"
      },
      "execution_count": 65,
      "outputs": [
        {
          "output_type": "execute_result",
          "data": {
            "text/plain": [
              "         CodigoEstacion  CodigoSensor FechaObservacion  ValorObservado  \\\n",
              "0            2120000099           240       2019-11-12             0.1   \n",
              "1            2120700038           240       2019-11-12             0.2   \n",
              "2            2120000103           240       2019-11-12             0.0   \n",
              "3            2120000105           240       2019-11-12             0.0   \n",
              "4            2120700037           240       2019-11-12             0.0   \n",
              "...                 ...           ...              ...             ...   \n",
              "9412894      2120000135           240       2024-11-11             0.0   \n",
              "9412895        21202250           240       2024-11-11             0.0   \n",
              "9412896        21206780           240       2024-11-11             0.0   \n",
              "9412897      2120000169           240       2024-11-11             0.0   \n",
              "9412898      2120000124           240       2024-11-11             0.0   \n",
              "\n",
              "                                     NombreEstacion Departamento    Municipio  \\\n",
              "0                    COLEGIO VEINTIUN ANGELES - AUT  BOGOTA D.C.  BOGOTA, D.C   \n",
              "1                               SAN FRANCISCO - AUT  BOGOTA D.C.  BOGOTA, D.C   \n",
              "2                                 CERRO NORTE - AUT  BOGOTA D.C.  BOGOTA, D.C   \n",
              "3                                   EL CODITO - AUT  BOGOTA D.C.  BOGOTA, D.C   \n",
              "4        CASAS FISCALES ESCUELA DE ARTILLERÍA - AUT  BOGOTA D.C.  BOGOTA, D.C   \n",
              "...                                             ...          ...          ...   \n",
              "9412894                 COL. MANUEL ELKIN PATARROYO       BOGOTÁ   BOGOTÁ D.C   \n",
              "9412895                                  DOÑA JUANA       BOGOTÁ   BOGOTÁ D.C   \n",
              "9412896                             LA INDEPENDENCI       BOGOTÁ   BOGOTÁ D.C   \n",
              "9412897                          COLEGIO LA BELLEZA       BOGOTÁ   BOGOTÁ D.C   \n",
              "9412898                            COL RAFAEL URIBE       BOGOTÁ   BOGOTÁ D.C   \n",
              "\n",
              "        ZonaHidrografica   Latitud   Longitud DescripcionSensor UnidadMedida  \\\n",
              "0         ALTO MAGDALENA  4.749000 -74.081000     Precipitacion           mm   \n",
              "1         ALTO MAGDALENA  4.562000 -74.149000     Precipitacion           mm   \n",
              "2         ALTO MAGDALENA  4.733000 -74.019000     Precipitacion           mm   \n",
              "3         ALTO MAGDALENA  4.763000 -74.022000     Precipitacion           mm   \n",
              "4         ALTO MAGDALENA  4.556000 -74.125000     Precipitacion           mm   \n",
              "...                  ...       ...        ...               ...          ...   \n",
              "9412894   ALTO MAGDALENA  4.618230 -74.064390     PRECIPITACIÓN           mm   \n",
              "9412895   ALTO MAGDALENA  4.500820 -74.137390     PRECIPITACIÓN           mm   \n",
              "9412896   ALTO MAGDALENA  4.619272 -74.194594     PRECIPITACIÓN           mm   \n",
              "9412897   ALTO MAGDALENA  4.530590 -74.092440     PRECIPITACIÓN           mm   \n",
              "9412898   ALTO MAGDALENA  4.583176 -74.132461     PRECIPITACIÓN           mm   \n",
              "\n",
              "        YearMonth  \n",
              "0         2019-11  \n",
              "1         2019-11  \n",
              "2         2019-11  \n",
              "3         2019-11  \n",
              "4         2019-11  \n",
              "...           ...  \n",
              "9412894   2024-11  \n",
              "9412895   2024-11  \n",
              "9412896   2024-11  \n",
              "9412897   2024-11  \n",
              "9412898   2024-11  \n",
              "\n",
              "[9412899 rows x 13 columns]"
            ],
            "text/html": [
              "\n",
              "  <div id=\"df-3f5d3deb-c40f-448f-8132-54d64684ea0a\" class=\"colab-df-container\">\n",
              "    <div>\n",
              "<style scoped>\n",
              "    .dataframe tbody tr th:only-of-type {\n",
              "        vertical-align: middle;\n",
              "    }\n",
              "\n",
              "    .dataframe tbody tr th {\n",
              "        vertical-align: top;\n",
              "    }\n",
              "\n",
              "    .dataframe thead th {\n",
              "        text-align: right;\n",
              "    }\n",
              "</style>\n",
              "<table border=\"1\" class=\"dataframe\">\n",
              "  <thead>\n",
              "    <tr style=\"text-align: right;\">\n",
              "      <th></th>\n",
              "      <th>CodigoEstacion</th>\n",
              "      <th>CodigoSensor</th>\n",
              "      <th>FechaObservacion</th>\n",
              "      <th>ValorObservado</th>\n",
              "      <th>NombreEstacion</th>\n",
              "      <th>Departamento</th>\n",
              "      <th>Municipio</th>\n",
              "      <th>ZonaHidrografica</th>\n",
              "      <th>Latitud</th>\n",
              "      <th>Longitud</th>\n",
              "      <th>DescripcionSensor</th>\n",
              "      <th>UnidadMedida</th>\n",
              "      <th>YearMonth</th>\n",
              "    </tr>\n",
              "  </thead>\n",
              "  <tbody>\n",
              "    <tr>\n",
              "      <th>0</th>\n",
              "      <td>2120000099</td>\n",
              "      <td>240</td>\n",
              "      <td>2019-11-12</td>\n",
              "      <td>0.1</td>\n",
              "      <td>COLEGIO VEINTIUN ANGELES - AUT</td>\n",
              "      <td>BOGOTA D.C.</td>\n",
              "      <td>BOGOTA, D.C</td>\n",
              "      <td>ALTO MAGDALENA</td>\n",
              "      <td>4.749000</td>\n",
              "      <td>-74.081000</td>\n",
              "      <td>Precipitacion</td>\n",
              "      <td>mm</td>\n",
              "      <td>2019-11</td>\n",
              "    </tr>\n",
              "    <tr>\n",
              "      <th>1</th>\n",
              "      <td>2120700038</td>\n",
              "      <td>240</td>\n",
              "      <td>2019-11-12</td>\n",
              "      <td>0.2</td>\n",
              "      <td>SAN FRANCISCO - AUT</td>\n",
              "      <td>BOGOTA D.C.</td>\n",
              "      <td>BOGOTA, D.C</td>\n",
              "      <td>ALTO MAGDALENA</td>\n",
              "      <td>4.562000</td>\n",
              "      <td>-74.149000</td>\n",
              "      <td>Precipitacion</td>\n",
              "      <td>mm</td>\n",
              "      <td>2019-11</td>\n",
              "    </tr>\n",
              "    <tr>\n",
              "      <th>2</th>\n",
              "      <td>2120000103</td>\n",
              "      <td>240</td>\n",
              "      <td>2019-11-12</td>\n",
              "      <td>0.0</td>\n",
              "      <td>CERRO NORTE - AUT</td>\n",
              "      <td>BOGOTA D.C.</td>\n",
              "      <td>BOGOTA, D.C</td>\n",
              "      <td>ALTO MAGDALENA</td>\n",
              "      <td>4.733000</td>\n",
              "      <td>-74.019000</td>\n",
              "      <td>Precipitacion</td>\n",
              "      <td>mm</td>\n",
              "      <td>2019-11</td>\n",
              "    </tr>\n",
              "    <tr>\n",
              "      <th>3</th>\n",
              "      <td>2120000105</td>\n",
              "      <td>240</td>\n",
              "      <td>2019-11-12</td>\n",
              "      <td>0.0</td>\n",
              "      <td>EL CODITO - AUT</td>\n",
              "      <td>BOGOTA D.C.</td>\n",
              "      <td>BOGOTA, D.C</td>\n",
              "      <td>ALTO MAGDALENA</td>\n",
              "      <td>4.763000</td>\n",
              "      <td>-74.022000</td>\n",
              "      <td>Precipitacion</td>\n",
              "      <td>mm</td>\n",
              "      <td>2019-11</td>\n",
              "    </tr>\n",
              "    <tr>\n",
              "      <th>4</th>\n",
              "      <td>2120700037</td>\n",
              "      <td>240</td>\n",
              "      <td>2019-11-12</td>\n",
              "      <td>0.0</td>\n",
              "      <td>CASAS FISCALES ESCUELA DE ARTILLERÍA - AUT</td>\n",
              "      <td>BOGOTA D.C.</td>\n",
              "      <td>BOGOTA, D.C</td>\n",
              "      <td>ALTO MAGDALENA</td>\n",
              "      <td>4.556000</td>\n",
              "      <td>-74.125000</td>\n",
              "      <td>Precipitacion</td>\n",
              "      <td>mm</td>\n",
              "      <td>2019-11</td>\n",
              "    </tr>\n",
              "    <tr>\n",
              "      <th>...</th>\n",
              "      <td>...</td>\n",
              "      <td>...</td>\n",
              "      <td>...</td>\n",
              "      <td>...</td>\n",
              "      <td>...</td>\n",
              "      <td>...</td>\n",
              "      <td>...</td>\n",
              "      <td>...</td>\n",
              "      <td>...</td>\n",
              "      <td>...</td>\n",
              "      <td>...</td>\n",
              "      <td>...</td>\n",
              "      <td>...</td>\n",
              "    </tr>\n",
              "    <tr>\n",
              "      <th>9412894</th>\n",
              "      <td>2120000135</td>\n",
              "      <td>240</td>\n",
              "      <td>2024-11-11</td>\n",
              "      <td>0.0</td>\n",
              "      <td>COL. MANUEL ELKIN PATARROYO</td>\n",
              "      <td>BOGOTÁ</td>\n",
              "      <td>BOGOTÁ D.C</td>\n",
              "      <td>ALTO MAGDALENA</td>\n",
              "      <td>4.618230</td>\n",
              "      <td>-74.064390</td>\n",
              "      <td>PRECIPITACIÓN</td>\n",
              "      <td>mm</td>\n",
              "      <td>2024-11</td>\n",
              "    </tr>\n",
              "    <tr>\n",
              "      <th>9412895</th>\n",
              "      <td>21202250</td>\n",
              "      <td>240</td>\n",
              "      <td>2024-11-11</td>\n",
              "      <td>0.0</td>\n",
              "      <td>DOÑA JUANA</td>\n",
              "      <td>BOGOTÁ</td>\n",
              "      <td>BOGOTÁ D.C</td>\n",
              "      <td>ALTO MAGDALENA</td>\n",
              "      <td>4.500820</td>\n",
              "      <td>-74.137390</td>\n",
              "      <td>PRECIPITACIÓN</td>\n",
              "      <td>mm</td>\n",
              "      <td>2024-11</td>\n",
              "    </tr>\n",
              "    <tr>\n",
              "      <th>9412896</th>\n",
              "      <td>21206780</td>\n",
              "      <td>240</td>\n",
              "      <td>2024-11-11</td>\n",
              "      <td>0.0</td>\n",
              "      <td>LA INDEPENDENCI</td>\n",
              "      <td>BOGOTÁ</td>\n",
              "      <td>BOGOTÁ D.C</td>\n",
              "      <td>ALTO MAGDALENA</td>\n",
              "      <td>4.619272</td>\n",
              "      <td>-74.194594</td>\n",
              "      <td>PRECIPITACIÓN</td>\n",
              "      <td>mm</td>\n",
              "      <td>2024-11</td>\n",
              "    </tr>\n",
              "    <tr>\n",
              "      <th>9412897</th>\n",
              "      <td>2120000169</td>\n",
              "      <td>240</td>\n",
              "      <td>2024-11-11</td>\n",
              "      <td>0.0</td>\n",
              "      <td>COLEGIO LA BELLEZA</td>\n",
              "      <td>BOGOTÁ</td>\n",
              "      <td>BOGOTÁ D.C</td>\n",
              "      <td>ALTO MAGDALENA</td>\n",
              "      <td>4.530590</td>\n",
              "      <td>-74.092440</td>\n",
              "      <td>PRECIPITACIÓN</td>\n",
              "      <td>mm</td>\n",
              "      <td>2024-11</td>\n",
              "    </tr>\n",
              "    <tr>\n",
              "      <th>9412898</th>\n",
              "      <td>2120000124</td>\n",
              "      <td>240</td>\n",
              "      <td>2024-11-11</td>\n",
              "      <td>0.0</td>\n",
              "      <td>COL RAFAEL URIBE</td>\n",
              "      <td>BOGOTÁ</td>\n",
              "      <td>BOGOTÁ D.C</td>\n",
              "      <td>ALTO MAGDALENA</td>\n",
              "      <td>4.583176</td>\n",
              "      <td>-74.132461</td>\n",
              "      <td>PRECIPITACIÓN</td>\n",
              "      <td>mm</td>\n",
              "      <td>2024-11</td>\n",
              "    </tr>\n",
              "  </tbody>\n",
              "</table>\n",
              "<p>9412899 rows × 13 columns</p>\n",
              "</div>\n",
              "    <div class=\"colab-df-buttons\">\n",
              "\n",
              "  <div class=\"colab-df-container\">\n",
              "    <button class=\"colab-df-convert\" onclick=\"convertToInteractive('df-3f5d3deb-c40f-448f-8132-54d64684ea0a')\"\n",
              "            title=\"Convert this dataframe to an interactive table.\"\n",
              "            style=\"display:none;\">\n",
              "\n",
              "  <svg xmlns=\"http://www.w3.org/2000/svg\" height=\"24px\" viewBox=\"0 -960 960 960\">\n",
              "    <path d=\"M120-120v-720h720v720H120Zm60-500h600v-160H180v160Zm220 220h160v-160H400v160Zm0 220h160v-160H400v160ZM180-400h160v-160H180v160Zm440 0h160v-160H620v160ZM180-180h160v-160H180v160Zm440 0h160v-160H620v160Z\"/>\n",
              "  </svg>\n",
              "    </button>\n",
              "\n",
              "  <style>\n",
              "    .colab-df-container {\n",
              "      display:flex;\n",
              "      gap: 12px;\n",
              "    }\n",
              "\n",
              "    .colab-df-convert {\n",
              "      background-color: #E8F0FE;\n",
              "      border: none;\n",
              "      border-radius: 50%;\n",
              "      cursor: pointer;\n",
              "      display: none;\n",
              "      fill: #1967D2;\n",
              "      height: 32px;\n",
              "      padding: 0 0 0 0;\n",
              "      width: 32px;\n",
              "    }\n",
              "\n",
              "    .colab-df-convert:hover {\n",
              "      background-color: #E2EBFA;\n",
              "      box-shadow: 0px 1px 2px rgba(60, 64, 67, 0.3), 0px 1px 3px 1px rgba(60, 64, 67, 0.15);\n",
              "      fill: #174EA6;\n",
              "    }\n",
              "\n",
              "    .colab-df-buttons div {\n",
              "      margin-bottom: 4px;\n",
              "    }\n",
              "\n",
              "    [theme=dark] .colab-df-convert {\n",
              "      background-color: #3B4455;\n",
              "      fill: #D2E3FC;\n",
              "    }\n",
              "\n",
              "    [theme=dark] .colab-df-convert:hover {\n",
              "      background-color: #434B5C;\n",
              "      box-shadow: 0px 1px 3px 1px rgba(0, 0, 0, 0.15);\n",
              "      filter: drop-shadow(0px 1px 2px rgba(0, 0, 0, 0.3));\n",
              "      fill: #FFFFFF;\n",
              "    }\n",
              "  </style>\n",
              "\n",
              "    <script>\n",
              "      const buttonEl =\n",
              "        document.querySelector('#df-3f5d3deb-c40f-448f-8132-54d64684ea0a button.colab-df-convert');\n",
              "      buttonEl.style.display =\n",
              "        google.colab.kernel.accessAllowed ? 'block' : 'none';\n",
              "\n",
              "      async function convertToInteractive(key) {\n",
              "        const element = document.querySelector('#df-3f5d3deb-c40f-448f-8132-54d64684ea0a');\n",
              "        const dataTable =\n",
              "          await google.colab.kernel.invokeFunction('convertToInteractive',\n",
              "                                                    [key], {});\n",
              "        if (!dataTable) return;\n",
              "\n",
              "        const docLinkHtml = 'Like what you see? Visit the ' +\n",
              "          '<a target=\"_blank\" href=https://colab.research.google.com/notebooks/data_table.ipynb>data table notebook</a>'\n",
              "          + ' to learn more about interactive tables.';\n",
              "        element.innerHTML = '';\n",
              "        dataTable['output_type'] = 'display_data';\n",
              "        await google.colab.output.renderOutput(dataTable, element);\n",
              "        const docLink = document.createElement('div');\n",
              "        docLink.innerHTML = docLinkHtml;\n",
              "        element.appendChild(docLink);\n",
              "      }\n",
              "    </script>\n",
              "  </div>\n",
              "\n",
              "\n",
              "<div id=\"df-a8f39ffe-c2c8-4515-a117-c8df1eff50e8\">\n",
              "  <button class=\"colab-df-quickchart\" onclick=\"quickchart('df-a8f39ffe-c2c8-4515-a117-c8df1eff50e8')\"\n",
              "            title=\"Suggest charts\"\n",
              "            style=\"display:none;\">\n",
              "\n",
              "<svg xmlns=\"http://www.w3.org/2000/svg\" height=\"24px\"viewBox=\"0 0 24 24\"\n",
              "     width=\"24px\">\n",
              "    <g>\n",
              "        <path d=\"M19 3H5c-1.1 0-2 .9-2 2v14c0 1.1.9 2 2 2h14c1.1 0 2-.9 2-2V5c0-1.1-.9-2-2-2zM9 17H7v-7h2v7zm4 0h-2V7h2v10zm4 0h-2v-4h2v4z\"/>\n",
              "    </g>\n",
              "</svg>\n",
              "  </button>\n",
              "\n",
              "<style>\n",
              "  .colab-df-quickchart {\n",
              "      --bg-color: #E8F0FE;\n",
              "      --fill-color: #1967D2;\n",
              "      --hover-bg-color: #E2EBFA;\n",
              "      --hover-fill-color: #174EA6;\n",
              "      --disabled-fill-color: #AAA;\n",
              "      --disabled-bg-color: #DDD;\n",
              "  }\n",
              "\n",
              "  [theme=dark] .colab-df-quickchart {\n",
              "      --bg-color: #3B4455;\n",
              "      --fill-color: #D2E3FC;\n",
              "      --hover-bg-color: #434B5C;\n",
              "      --hover-fill-color: #FFFFFF;\n",
              "      --disabled-bg-color: #3B4455;\n",
              "      --disabled-fill-color: #666;\n",
              "  }\n",
              "\n",
              "  .colab-df-quickchart {\n",
              "    background-color: var(--bg-color);\n",
              "    border: none;\n",
              "    border-radius: 50%;\n",
              "    cursor: pointer;\n",
              "    display: none;\n",
              "    fill: var(--fill-color);\n",
              "    height: 32px;\n",
              "    padding: 0;\n",
              "    width: 32px;\n",
              "  }\n",
              "\n",
              "  .colab-df-quickchart:hover {\n",
              "    background-color: var(--hover-bg-color);\n",
              "    box-shadow: 0 1px 2px rgba(60, 64, 67, 0.3), 0 1px 3px 1px rgba(60, 64, 67, 0.15);\n",
              "    fill: var(--button-hover-fill-color);\n",
              "  }\n",
              "\n",
              "  .colab-df-quickchart-complete:disabled,\n",
              "  .colab-df-quickchart-complete:disabled:hover {\n",
              "    background-color: var(--disabled-bg-color);\n",
              "    fill: var(--disabled-fill-color);\n",
              "    box-shadow: none;\n",
              "  }\n",
              "\n",
              "  .colab-df-spinner {\n",
              "    border: 2px solid var(--fill-color);\n",
              "    border-color: transparent;\n",
              "    border-bottom-color: var(--fill-color);\n",
              "    animation:\n",
              "      spin 1s steps(1) infinite;\n",
              "  }\n",
              "\n",
              "  @keyframes spin {\n",
              "    0% {\n",
              "      border-color: transparent;\n",
              "      border-bottom-color: var(--fill-color);\n",
              "      border-left-color: var(--fill-color);\n",
              "    }\n",
              "    20% {\n",
              "      border-color: transparent;\n",
              "      border-left-color: var(--fill-color);\n",
              "      border-top-color: var(--fill-color);\n",
              "    }\n",
              "    30% {\n",
              "      border-color: transparent;\n",
              "      border-left-color: var(--fill-color);\n",
              "      border-top-color: var(--fill-color);\n",
              "      border-right-color: var(--fill-color);\n",
              "    }\n",
              "    40% {\n",
              "      border-color: transparent;\n",
              "      border-right-color: var(--fill-color);\n",
              "      border-top-color: var(--fill-color);\n",
              "    }\n",
              "    60% {\n",
              "      border-color: transparent;\n",
              "      border-right-color: var(--fill-color);\n",
              "    }\n",
              "    80% {\n",
              "      border-color: transparent;\n",
              "      border-right-color: var(--fill-color);\n",
              "      border-bottom-color: var(--fill-color);\n",
              "    }\n",
              "    90% {\n",
              "      border-color: transparent;\n",
              "      border-bottom-color: var(--fill-color);\n",
              "    }\n",
              "  }\n",
              "</style>\n",
              "\n",
              "  <script>\n",
              "    async function quickchart(key) {\n",
              "      const quickchartButtonEl =\n",
              "        document.querySelector('#' + key + ' button');\n",
              "      quickchartButtonEl.disabled = true;  // To prevent multiple clicks.\n",
              "      quickchartButtonEl.classList.add('colab-df-spinner');\n",
              "      try {\n",
              "        const charts = await google.colab.kernel.invokeFunction(\n",
              "            'suggestCharts', [key], {});\n",
              "      } catch (error) {\n",
              "        console.error('Error during call to suggestCharts:', error);\n",
              "      }\n",
              "      quickchartButtonEl.classList.remove('colab-df-spinner');\n",
              "      quickchartButtonEl.classList.add('colab-df-quickchart-complete');\n",
              "    }\n",
              "    (() => {\n",
              "      let quickchartButtonEl =\n",
              "        document.querySelector('#df-a8f39ffe-c2c8-4515-a117-c8df1eff50e8 button');\n",
              "      quickchartButtonEl.style.display =\n",
              "        google.colab.kernel.accessAllowed ? 'block' : 'none';\n",
              "    })();\n",
              "  </script>\n",
              "</div>\n",
              "\n",
              "  <div id=\"id_44f17c2d-5605-47e6-ba0b-30e56b78a284\">\n",
              "    <style>\n",
              "      .colab-df-generate {\n",
              "        background-color: #E8F0FE;\n",
              "        border: none;\n",
              "        border-radius: 50%;\n",
              "        cursor: pointer;\n",
              "        display: none;\n",
              "        fill: #1967D2;\n",
              "        height: 32px;\n",
              "        padding: 0 0 0 0;\n",
              "        width: 32px;\n",
              "      }\n",
              "\n",
              "      .colab-df-generate:hover {\n",
              "        background-color: #E2EBFA;\n",
              "        box-shadow: 0px 1px 2px rgba(60, 64, 67, 0.3), 0px 1px 3px 1px rgba(60, 64, 67, 0.15);\n",
              "        fill: #174EA6;\n",
              "      }\n",
              "\n",
              "      [theme=dark] .colab-df-generate {\n",
              "        background-color: #3B4455;\n",
              "        fill: #D2E3FC;\n",
              "      }\n",
              "\n",
              "      [theme=dark] .colab-df-generate:hover {\n",
              "        background-color: #434B5C;\n",
              "        box-shadow: 0px 1px 3px 1px rgba(0, 0, 0, 0.15);\n",
              "        filter: drop-shadow(0px 1px 2px rgba(0, 0, 0, 0.3));\n",
              "        fill: #FFFFFF;\n",
              "      }\n",
              "    </style>\n",
              "    <button class=\"colab-df-generate\" onclick=\"generateWithVariable('lluvias')\"\n",
              "            title=\"Generate code using this dataframe.\"\n",
              "            style=\"display:none;\">\n",
              "\n",
              "  <svg xmlns=\"http://www.w3.org/2000/svg\" height=\"24px\"viewBox=\"0 0 24 24\"\n",
              "       width=\"24px\">\n",
              "    <path d=\"M7,19H8.4L18.45,9,17,7.55,7,17.6ZM5,21V16.75L18.45,3.32a2,2,0,0,1,2.83,0l1.4,1.43a1.91,1.91,0,0,1,.58,1.4,1.91,1.91,0,0,1-.58,1.4L9.25,21ZM18.45,9,17,7.55Zm-12,3A5.31,5.31,0,0,0,4.9,8.1,5.31,5.31,0,0,0,1,6.5,5.31,5.31,0,0,0,4.9,4.9,5.31,5.31,0,0,0,6.5,1,5.31,5.31,0,0,0,8.1,4.9,5.31,5.31,0,0,0,12,6.5,5.46,5.46,0,0,0,6.5,12Z\"/>\n",
              "  </svg>\n",
              "    </button>\n",
              "    <script>\n",
              "      (() => {\n",
              "      const buttonEl =\n",
              "        document.querySelector('#id_44f17c2d-5605-47e6-ba0b-30e56b78a284 button.colab-df-generate');\n",
              "      buttonEl.style.display =\n",
              "        google.colab.kernel.accessAllowed ? 'block' : 'none';\n",
              "\n",
              "      buttonEl.onclick = () => {\n",
              "        google.colab.notebook.generateWithVariable('lluvias');\n",
              "      }\n",
              "      })();\n",
              "    </script>\n",
              "  </div>\n",
              "\n",
              "    </div>\n",
              "  </div>\n"
            ],
            "application/vnd.google.colaboratory.intrinsic+json": {
              "type": "dataframe",
              "variable_name": "lluvias"
            }
          },
          "metadata": {},
          "execution_count": 65
        }
      ]
    },
    {
      "cell_type": "markdown",
      "source": [
        "De los conjuntos de datos disponibles en [datos.gov.co](https://www.datos.gov.co/) es posible obtener un archivo que contiene los valores medidos por las estaciones climatológicas de bogotá actualizados casi que en tiempo real.\n",
        "\n",
        "Con esta información es posible realizar diferentes tipos de análisis. En primer lugar, podemos ver cuál ha sido el promedio de lluvias cada año"
      ],
      "metadata": {
        "id": "TUoa_xdrXMkH"
      }
    },
    {
      "cell_type": "code",
      "source": [
        "\n",
        "import matplotlib.pyplot as plt\n",
        "\n",
        "# Filter data for the specified period (Nov 12, 2019 to Nov 12, 2024)\n",
        "start_date = pd.to_datetime('2019-11-12')\n",
        "end_date = pd.to_datetime('2024-11-12')\n",
        "filtered_lluvias = lluvias[(lluvias['FechaObservacion'] >= start_date) & (lluvias['FechaObservacion'] <= end_date)]\n",
        "\n",
        "# Group data by year and calculate the average rainfall\n",
        "average_rainfall_per_year = filtered_lluvias.groupby(filtered_lluvias['FechaObservacion'].dt.year)['ValorObservado'].mean()\n",
        "\n",
        "# Create the bar plot\n",
        "plt.figure(figsize=(10, 6))\n",
        "plt.bar(average_rainfall_per_year.index, average_rainfall_per_year.values)\n",
        "plt.xlabel(\"Año\")\n",
        "plt.ylabel(\"Promedio del valor observado (mm)\")\n",
        "plt.title(\"Promedio de lluvias anual\")\n",
        "plt.xticks(average_rainfall_per_year.index)  # Ensure all years are displayed on the x-axis\n",
        "plt.show()"
      ],
      "metadata": {
        "colab": {
          "base_uri": "https://localhost:8080/",
          "height": 564
        },
        "id": "yyuWfcw8RWmO",
        "outputId": "3917464a-0b8c-4945-f7e1-d90631e87b85"
      },
      "execution_count": 89,
      "outputs": [
        {
          "output_type": "display_data",
          "data": {
            "text/plain": [
              "<Figure size 1000x600 with 1 Axes>"
            ],
            "image/png": "[encoded data removed]"
          },
          "metadata": {}
        }
      ]
    },
    {
      "cell_type": "markdown",
      "source": [
        "Si se quiere una información más detallada, podemos graficar el promedio de lluvias de cada mes del año de la siguiente manera:"
      ],
      "metadata": {
        "id": "TKPdHWAmZXfm"
      }
    },
    {
      "cell_type": "code",
      "source": [
        "# Group data by year and month, then calculate the average ValorObservado\n",
        "yearly_monthly_avg = lluvias.groupby([lluvias['FechaObservacion'].dt.year, lluvias['FechaObservacion'].dt.month])['ValorObservado'].mean().unstack()\n",
        "\n",
        "# Create the histogram\n",
        "yearly_monthly_avg.plot(kind='bar', figsize=(15, 7))\n",
        "plt.title('Precipitación promedio observada por mes cada año (mm)')\n",
        "plt.xlabel('Meses por año')\n",
        "plt.ylabel('Valor de la precipitación media observada')\n",
        "plt.xticks(rotation=0)\n",
        "plt.legend(title='Year')\n",
        "plt.tight_layout()\n",
        "plt.show()"
      ],
      "metadata": {
        "colab": {
          "base_uri": "https://localhost:8080/",
          "height": 643
        },
        "id": "I_UqwX29SbXS",
        "outputId": "1b761c11-a2a5-4637-a4c2-326f74311aad"
      },
      "execution_count": 90,
      "outputs": [
        {
          "output_type": "display_data",
          "data": {
            "text/plain": [
              "<Figure size 1500x700 with 1 Axes>"
            ],
            "image/png": "[encoded data removed]"
          },
          "metadata": {}
        }
      ]
    },
    {
      "cell_type": "markdown",
      "source": [
        "Otro tipo de análisis que se puede hacer, es comparar la precipitación medida por cada estación climatológica durante el mismo periodo de tiempo. Esto nos permite acercarnos a un análisis pluvial que diferencia ciertas regiones de otras."
      ],
      "metadata": {
        "id": "6u9JMZOLZkGY"
      }
    },
    {
      "cell_type": "code",
      "source": [],
      "metadata": {
        "id": "EBxhw2l_bO3Q"
      },
      "execution_count": null,
      "outputs": []
    },
    {
      "cell_type": "code",
      "source": [
        "import matplotlib.pyplot as plt\n",
        "\n",
        "# Filter data for stations containing specified keywords\n",
        "stations_to_compare = [\"Universidad Nacional\", \"El Codito\", \"Doña Juana\"]\n",
        "filtered_lluvias = lluvias[lluvias['NombreEstacion'].str.contains('|'.join(stations_to_compare), case=False)]\n",
        "\n",
        "# Group data by station and month, then calculate the average ValorObservado\n",
        "monthly_avg_rainfall = filtered_lluvias.groupby(['NombreEstacion', filtered_lluvias['FechaObservacion'].dt.month])['ValorObservado'].mean().unstack()\n",
        "\n",
        "# Create line plots for each station\n",
        "plt.figure(figsize=(12, 6))\n",
        "for station in monthly_avg_rainfall.index:\n",
        "    plt.plot(monthly_avg_rainfall.columns, monthly_avg_rainfall.loc[station], label=station, marker='o')\n",
        "\n",
        "plt.xlabel(\"Mes\")\n",
        "plt.ylabel(\"Promedio de lluvia (mm)\")\n",
        "plt.title(\"Comparación del promedio mensual de lluvia por estación\")\n",
        "plt.xticks(monthly_avg_rainfall.columns)  # Ensure all months are displayed\n",
        "plt.legend()\n",
        "plt.grid(True)\n",
        "plt.show()"
      ],
      "metadata": {
        "colab": {
          "base_uri": "https://localhost:8080/",
          "height": 565
        },
        "id": "myOK-bGHUg0b",
        "outputId": "d4497857-f026-43db-cc1b-3010ef186088"
      },
      "execution_count": 110,
      "outputs": [
        {
          "output_type": "display_data",
          "data": {
            "text/plain": [
              "<Figure size 1200x600 with 1 Axes>"
            ],
            "image/png": "[encoded data removed]"
          },
          "metadata": {}
        }
      ]
    }
  ],
  "metadata": {
    "celltoolbar": "Slideshow",
    "kernelspec": {
      "display_name": "Python 3",
      "language": "python",
      "name": "python3"
    },
    "language_info": {
      "codemirror_mode": {
        "name": "ipython",
        "version": 3
      },
      "file_extension": ".py",
      "mimetype": "text/x-python",
      "name": "python",
      "nbconvert_exporter": "python",
      "pygments_lexer": "ipython3",
      "version": "3.5.2"
    },
    "livereveal": {
      "start_slideshow_at": "selected"
    },
    "name": "Main.ipynb",
    "colab": {
      "provenance": [],
      "include_colab_link": true
    }
  },
  "nbformat": 4,
  "nbformat_minor": 0
}